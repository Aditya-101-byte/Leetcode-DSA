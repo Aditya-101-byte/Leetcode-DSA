{
 "cells": [
  {
   "cell_type": "code",
   "execution_count": 2,
   "id": "ddbef7ec",
   "metadata": {},
   "outputs": [],
   "source": [
    "class Node:\n",
    "    def __init__(self, data):\n",
    "        self.data= data\n",
    "        self.right= None\n",
    "        self.left= None\n",
    "\n",
    "root = Node(1)\n",
    "root.left = Node(2)\n",
    "root.right = Node(3)\n",
    "root.left.left = Node(4)\n",
    "root.left.right = Node(5)\n",
    "root.right.left = Node(6)\n",
    "root.right.right = Node(7)\n",
    "root.right.right.right = Node(8)\n",
    "root.right.right.right.right = Node(9)\n",
    "root.left.left.left = Node(10)"
   ]
  },
  {
   "cell_type": "code",
   "execution_count": 11,
   "id": "8af7cb47",
   "metadata": {},
   "outputs": [
    {
     "data": {
      "text/plain": [
       "[10, 4, 2, 6, 3, 7, 8, 9]"
      ]
     },
     "execution_count": 11,
     "metadata": {},
     "output_type": "execute_result"
    }
   ],
   "source": [
    "def vertical(root):\n",
    "    temp=[]\n",
    "    temp.append((root, 0))\n",
    "    m= dict()\n",
    "    mini, maxi=0,0\n",
    "    while temp:\n",
    "        node, vz= temp.pop(0)\n",
    "        if vz in m: m[vz].append(node.data)  # these if and else statements have to be changes for top bottom view\n",
    "        else: m[vz]= [node.data]\n",
    "        \n",
    "        if node.left: temp.append((node.left, vz-1))\n",
    "        if node.right: temp.append((node.right, vz+1))\n",
    "            \n",
    "        if mini> vz:            mini= vz\n",
    "        if maxi< vz:            maxi= vz\n",
    "            \n",
    "    for i in range(mini, maxi+1):\n",
    "        temp.extend(m[i])\n",
    "        #temp.append(m[i])\n",
    "    return temp\n",
    "vertical(root)"
   ]
  },
  {
   "cell_type": "code",
   "execution_count": 13,
   "id": "5d33bd49",
   "metadata": {},
   "outputs": [
    {
     "data": {
      "text/plain": [
       "[1, 3, 7, 8, 9]"
      ]
     },
     "execution_count": 13,
     "metadata": {},
     "output_type": "execute_result"
    }
   ],
   "source": [
    "def vertical(root):\n",
    "    temp=[]\n",
    "    temp.append((root, 0))\n",
    "    m= dict()\n",
    "    mini, maxi=0,0\n",
    "    while temp:\n",
    "        node, vz= temp.pop(0)\n",
    "        if vz in m: pass  # these if and else statements have to be changes for top bottom view\n",
    "        else: m[vz]= [node.data]\n",
    "        \n",
    "        if node.left: temp.append((node.left, vz+1))\n",
    "        if node.right: temp.append((node.right, vz+1))\n",
    "            \n",
    "        if mini> vz:            mini= vz\n",
    "        if maxi< vz:            maxi= vz\n",
    "            \n",
    "    for i in range(mini, maxi+1):\n",
    "        temp.extend(m[i])\n",
    "        #temp.append(m[i])\n",
    "    return temp\n",
    "vertical(root)"
   ]
  },
  {
   "cell_type": "code",
   "execution_count": 18,
   "id": "00abb8a4",
   "metadata": {},
   "outputs": [
    {
     "data": {
      "text/plain": [
       "[1, 3, 7, 8]"
      ]
     },
     "execution_count": 18,
     "metadata": {},
     "output_type": "execute_result"
    }
   ],
   "source": [
    "def r2n(root, node, ans):\n",
    "    if root == None:  return False    \n",
    "    ans.append(root.data)    \n",
    "    if root.data== node:  return True\n",
    "    if r2n(root.left, node, ans) or r2n(root.right, node, ans):\n",
    "        return True\n",
    "    ans.pop()\n",
    "    return False\n",
    "def ans( root, node):\n",
    "    ans=[]\n",
    "    r2n(root, node, ans)\n",
    "    return ans\n",
    "ans(root, 8)  "
   ]
  },
  {
   "cell_type": "code",
   "execution_count": 38,
   "id": "4c03680c",
   "metadata": {},
   "outputs": [
    {
     "data": {
      "text/plain": [
       "8"
      ]
     },
     "execution_count": 38,
     "metadata": {},
     "output_type": "execute_result"
    }
   ],
   "source": [
    "def lca(root, a, b):\n",
    "    if root== None: return None\n",
    "    if root.data==a or root.data==b: return root.data\n",
    "    left= lca(root.left,a,b)\n",
    "    right= lca(root.right,a,b)\n",
    "    if lca(root.left,a,b) and lca(root.right, a ,b):\n",
    "        return root.data\n",
    "    elif left: return left\n",
    "    elif right: return right\n",
    "    else: return None\n",
    "lca(root, 8, 9)"
   ]
  },
  {
   "cell_type": "code",
   "execution_count": 40,
   "id": "81529d01",
   "metadata": {},
   "outputs": [],
   "source": [
    "def width(root):\n",
    "    if root== None: return\n",
    "    queue=[(root,0)]\n",
    "    ans=1\n",
    "    while queue:\n",
    "        size= len(queue)\n",
    "        mim= queue[0][1]\n",
    "        for i in range(size):\n",
    "            node= queue[0][0]\n",
    "            current= queue[0][1]- mmin\n",
    "            if i ==0: first= current\n",
    "            if i== size-1: last= current\n",
    "            queue.pop(0)            \n",
    "            if node.left: queue.append((node.left, 2*current +1))\n",
    "            if node.right: queue.append((node.right, 2*current+2))\n",
    "        ans= max(ans, right-left+1)\n",
    "    return ans"
   ]
  },
  {
   "cell_type": "code",
   "execution_count": 55,
   "id": "6807511f",
   "metadata": {},
   "outputs": [
    {
     "data": {
      "text/plain": [
       "[30, 15, 15, 10, 5, 6, 9, 10, 9, 9]"
      ]
     },
     "execution_count": 55,
     "metadata": {},
     "output_type": "execute_result"
    }
   ],
   "source": [
    "def childparentsum(root):\n",
    "    if root== None: return \n",
    "    child=0\n",
    "    if root.left: child+=root.left.data\n",
    "    if root.right: child+= root.right.data\n",
    "    if child >=root.data: root.data= child\n",
    "    else:\n",
    "        if root.left: root.left.data= root.data\n",
    "        if root.right: root.right.data= root.data\n",
    "    childparentsum(root.left)\n",
    "    childparentsum(root.right)\n",
    "    total=0\n",
    "    if root.left: total+= root.left.data\n",
    "    if root.right: total+= root.right.data\n",
    "    if (root.right or root.left): root.data= total\n",
    "\n",
    "def levelorder(root):\n",
    "    if root== None: return\n",
    "    queue=[root]\n",
    "    ans=[]\n",
    "    while queue:\n",
    "        node= queue.pop(0)\n",
    "        ans.append(node.data)\n",
    "        if node.left: queue.append(node.left)\n",
    "        if node.right: queue.append(node.right)\n",
    "    return ans\n",
    "childparentsum(root)\n",
    "levelorder(root)"
   ]
  },
  {
   "cell_type": "code",
   "execution_count": 4,
   "id": "821675ee",
   "metadata": {},
   "outputs": [],
   "source": [
    "def find_parent(root, parent_map, parent= None):\n",
    "    if root is not None:\n",
    "        parent_map[root]= parent\n",
    "        if root.left:  find_parent(root.left, parent_map, root)\n",
    "        if root.right: find_parent(root.right, parent_map, root)"
   ]
  },
  {
   "cell_type": "code",
   "execution_count": 7,
   "id": "9eb3316b",
   "metadata": {},
   "outputs": [
    {
     "data": {
      "text/plain": [
       "[9, 4, 5]"
      ]
     },
     "execution_count": 7,
     "metadata": {},
     "output_type": "execute_result"
    }
   ],
   "source": [
    "def distancek(root,tar, k):\n",
    "    parent_map= dict()\n",
    "    find_parent(root, parent_map, None)\n",
    "    queue=[tar]\n",
    "    visited={tar: True}\n",
    "    curr=0\n",
    "    while queue:\n",
    "        if curr==k: break        # remove this statement to get the burn question ans and the subtract 1 from current in the end\n",
    "        curr+=1\n",
    "        for i in range(len(queue)):\n",
    "            node= queue.pop(0)\n",
    "            for neighbour in (node.left, node.right, parent_map[node]):\n",
    "                if neighbour and neighbour not in visited:\n",
    "                    queue.append(neighbour)\n",
    "                    visited[neighbour]= True\n",
    "    return [node.data for node in queue]\n",
    "distancek(root, root.right, 3)"
   ]
  },
  {
   "cell_type": "code",
   "execution_count": null,
   "id": "f8fbd10e",
   "metadata": {},
   "outputs": [],
   "source": []
  }
 ],
 "metadata": {
  "kernelspec": {
   "display_name": "Python 3 (ipykernel)",
   "language": "python",
   "name": "python3"
  },
  "language_info": {
   "codemirror_mode": {
    "name": "ipython",
    "version": 3
   },
   "file_extension": ".py",
   "mimetype": "text/x-python",
   "name": "python",
   "nbconvert_exporter": "python",
   "pygments_lexer": "ipython3",
   "version": "3.9.13"
  }
 },
 "nbformat": 4,
 "nbformat_minor": 5
}
