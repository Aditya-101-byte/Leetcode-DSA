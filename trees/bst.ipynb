{
 "cells": [
  {
   "cell_type": "code",
   "execution_count": 15,
   "id": "796a8413",
   "metadata": {},
   "outputs": [],
   "source": [
    "class Node:\n",
    "    def __init__(self, data):\n",
    "        self.data= data\n",
    "        self.right= None\n",
    "        self.left= None\n",
    "\n",
    "root = Node(9)\n",
    "root.left = Node(6)\n",
    "root.right = Node(12)\n",
    "root.left.left = Node(4)\n",
    "root.left.right = Node(8)\n",
    "root.right.left = Node(11)\n",
    "root.right.right = Node(14)\n",
    "root.right.right.right = Node(16)\n",
    "root.right.right.right.right = Node(18)\n",
    "root.left.left.left = Node(1)"
   ]
  },
  {
   "cell_type": "code",
   "execution_count": 4,
   "id": "b3d07904",
   "metadata": {},
   "outputs": [
    {
     "data": {
      "text/plain": [
       "[9, 6, 12, 4, 8, 11, 14, 1, 16, 18]"
      ]
     },
     "execution_count": 4,
     "metadata": {},
     "output_type": "execute_result"
    }
   ],
   "source": [
    "def levelorder(root):   # example: root= Node(1)\n",
    "    if root== None: return\n",
    "    queue, ans=[root], []\n",
    "    while queue:        \n",
    "        node= queue.pop(0)\n",
    "        ans.append(node.data)\n",
    "        if node.left: queue.append(node.left)\n",
    "        if node.right: queue.append(node.right)\n",
    "    return ans\n",
    "levelorder(root)    "
   ]
  },
  {
   "cell_type": "markdown",
   "id": "8ccaf378",
   "metadata": {},
   "source": [
    "# searching"
   ]
  },
  {
   "cell_type": "code",
   "execution_count": 5,
   "id": "49353278",
   "metadata": {},
   "outputs": [
    {
     "data": {
      "text/plain": [
       "<__main__.Node at 0x2383d334250>"
      ]
     },
     "execution_count": 5,
     "metadata": {},
     "output_type": "execute_result"
    }
   ],
   "source": [
    "def search(root, val):\n",
    "    if root.data== val: return root\n",
    "    if root.data> val: return search(root.left, val)\n",
    "    if root.data< val: return search(root.right, val)\n",
    "search(root, 6)"
   ]
  },
  {
   "cell_type": "markdown",
   "id": "73f33d5b",
   "metadata": {},
   "source": [
    "# ceil and floor"
   ]
  },
  {
   "cell_type": "code",
   "execution_count": 6,
   "id": "97f64564",
   "metadata": {},
   "outputs": [
    {
     "data": {
      "text/plain": [
       "14"
      ]
     },
     "execution_count": 6,
     "metadata": {},
     "output_type": "execute_result"
    }
   ],
   "source": [
    "def ceil(root,k):\n",
    "    if root== None: return -1\n",
    "    ceil=-1\n",
    "    while root:\n",
    "        if root.data== k: return root.data\n",
    "        if root.data>k:\n",
    "            ceil= root.data\n",
    "            root= root.left\n",
    "        else:\n",
    "            root=root.right\n",
    "    return ceil\n",
    "ceil(root,13)"
   ]
  },
  {
   "cell_type": "code",
   "execution_count": 7,
   "id": "b748d5a8",
   "metadata": {},
   "outputs": [
    {
     "data": {
      "text/plain": [
       "12"
      ]
     },
     "execution_count": 7,
     "metadata": {},
     "output_type": "execute_result"
    }
   ],
   "source": [
    "def floor(root, k):\n",
    "    if root== None: return -1\n",
    "    floor=-1\n",
    "    while root:\n",
    "        if root.data== k: return root.data\n",
    "        if root.data>k:            \n",
    "            root= root.left\n",
    "        else:\n",
    "            floor= root.data\n",
    "            root=root.right\n",
    "    return floor\n",
    "floor(root,13)"
   ]
  },
  {
   "cell_type": "markdown",
   "id": "70caca4e",
   "metadata": {},
   "source": [
    "# insert and delete"
   ]
  },
  {
   "cell_type": "code",
   "execution_count": 32,
   "id": "adc5f372",
   "metadata": {},
   "outputs": [],
   "source": [
    "def insertIntoBST(root, val):\n",
    "    if root== None:\n",
    "        return Node(val)\n",
    "    curr=root\n",
    "    while curr: \n",
    "        if curr.data> val:\n",
    "            if curr.left:curr= curr.left\n",
    "            else:\n",
    "                curr.left= Node(val)\n",
    "                break\n",
    "        else:\n",
    "            if curr.right: curr= curr.right\n",
    "            else:\n",
    "                curr.right= Node(val)\n",
    "                break\n",
    "    return root"
   ]
  },
  {
   "cell_type": "code",
   "execution_count": 33,
   "id": "d35365aa",
   "metadata": {},
   "outputs": [
    {
     "data": {
      "text/plain": [
       "[9, 6, 12, 4, 8, 11, 14, 1, 10, 16, 18]"
      ]
     },
     "execution_count": 33,
     "metadata": {},
     "output_type": "execute_result"
    }
   ],
   "source": [
    "new=insertIntoBST(root, 10)\n",
    "levelorder(new)"
   ]
  },
  {
   "cell_type": "code",
   "execution_count": 45,
   "id": "32d07184",
   "metadata": {},
   "outputs": [
    {
     "data": {
      "text/plain": [
       "[6, 4, 8, 1, 12, 11, 14, 16, 18]"
      ]
     },
     "execution_count": 45,
     "metadata": {},
     "output_type": "execute_result"
    }
   ],
   "source": [
    "def delete(root, val):\n",
    "    if root.data==val:\n",
    "        root= helper(root)\n",
    "        return root\n",
    "    curr= root\n",
    "    while root:\n",
    "        if root.data> val:\n",
    "            if root.left and root.left== val:\n",
    "                root.left= helper(root.left)\n",
    "                break\n",
    "            else: root= root.left\n",
    "        else:\n",
    "            if root.right and root.right==val:\n",
    "                root.right= helper(root.right)\n",
    "                break\n",
    "            else: root=root.right\n",
    "    return curr\n",
    "\n",
    "def helper(root):\n",
    "    if not root.left:\n",
    "        return root.right\n",
    "    if not root.right:\n",
    "        return root.left\n",
    "    right= root.right\n",
    "    rightmos= rightmost(root.left)\n",
    "    rightmos.right= right\n",
    "    return root.left\n",
    "\n",
    "def rightmost(root):\n",
    "    while root.right:\n",
    "        root= root.right\n",
    "    return root\n",
    "\n",
    "curr= delete(root, 9)\n",
    "levelorder(curr)"
   ]
  },
  {
   "cell_type": "markdown",
   "id": "c6d4fbdc",
   "metadata": {},
   "source": [
    "# find kth largest"
   ]
  },
  {
   "cell_type": "code",
   "execution_count": 38,
   "id": "88e17036",
   "metadata": {},
   "outputs": [
    {
     "data": {
      "text/plain": [
       "14"
      ]
     },
     "execution_count": 38,
     "metadata": {},
     "output_type": "execute_result"
    }
   ],
   "source": [
    "def inorder(root,count, k, kth):\n",
    "    if root==None or count[0]>=k: return\n",
    "    inorder(root.right,count, k,kth)\n",
    "    count[0]+=1\n",
    "    if count[0]==k:\n",
    "        kth[0]=root.data\n",
    "        return                 # in the inorder function replace the left with right and right with left to get the kth largest\n",
    "    inorder(root.left,count, k,kth)\n",
    "def sol(root, k):\n",
    "    count=[0]\n",
    "    kth=[0]\n",
    "    inorder(root, count, k, kth)\n",
    "    return kth[0]\n",
    "sol(root, 3)"
   ]
  },
  {
   "cell_type": "markdown",
   "id": "d42895b5",
   "metadata": {},
   "source": [
    "# check if bst"
   ]
  },
  {
   "cell_type": "code",
   "execution_count": 64,
   "id": "eb65a17a",
   "metadata": {},
   "outputs": [
    {
     "data": {
      "text/plain": [
       "True"
      ]
     },
     "execution_count": 64,
     "metadata": {},
     "output_type": "execute_result"
    }
   ],
   "source": [
    "def verify(root, minval, maxval):\n",
    "    if root== None: return True\n",
    "    if root.data< minval or root.data> maxval: return False\n",
    "    return verify(root.left, minval, root.data) and verify(root.right, root.data, maxval)\n",
    "def sol(root):\n",
    "    minval= -1e9\n",
    "    maxval= 1e9\n",
    "    return verify(root, minval, maxval)\n",
    "sol(root)"
   ]
  },
  {
   "cell_type": "markdown",
   "id": "35d50e7f",
   "metadata": {},
   "source": [
    "# lca"
   ]
  },
  {
   "cell_type": "code",
   "execution_count": 65,
   "id": "48f53751",
   "metadata": {},
   "outputs": [],
   "source": [
    "class Solution:\n",
    "    def lowestCommonAncestor(self, root, p, q) -> 'TreeNode':\n",
    "        if root== None: return \n",
    "        if root.data> p.data and root.data> q.data:\n",
    "            return  self.lowestCommonAncestor(root.left, p, q)\n",
    "        if root.data< p.data and root.data< q.data:\n",
    "            return  self.lowestCommonAncestor(root.right, p, q)\n",
    "        return root"
   ]
  },
  {
   "cell_type": "markdown",
   "id": "b4092880",
   "metadata": {},
   "source": [
    "# contructing bst"
   ]
  },
  {
   "cell_type": "code",
   "execution_count": 68,
   "id": "53a510ba",
   "metadata": {},
   "outputs": [],
   "source": [
    "class Solution:\n",
    "    def bstFromPreorder(self, preorder):\n",
    "        return self.ans(preorder, [0], math.inf)\n",
    "    def ans(self, arr, i, maxi):\n",
    "        if i[0]==len(arr) or arr[i[0]]> maxi: return None\n",
    "        root= TreeNode(arr[i[0]])\n",
    "        i[0]+=1\n",
    "        root.left= self.ans(arr, i, root.data )\n",
    "        root.right= self.ans(arr, i, maxi)\n",
    "        return root"
   ]
  },
  {
   "cell_type": "markdown",
   "id": "1e05b975",
   "metadata": {},
   "source": [
    "# successor of k in tree"
   ]
  },
  {
   "cell_type": "code",
   "execution_count": 46,
   "id": "874af3b1",
   "metadata": {},
   "outputs": [
    {
     "data": {
      "text/plain": [
       "18"
      ]
     },
     "execution_count": 46,
     "metadata": {},
     "output_type": "execute_result"
    }
   ],
   "source": [
    "def successor(root, k):\n",
    "    if root== None: return\n",
    "    curr= None\n",
    "    while root:\n",
    "        if root.data> k:\n",
    "            curr= root\n",
    "            root= root.left\n",
    "        else:\n",
    "            root= root.right\n",
    "\n",
    "    return curr.data if curr else \"max\"\n",
    "successor(root, 17)        "
   ]
  },
  {
   "cell_type": "markdown",
   "id": "6d99a8aa",
   "metadata": {},
   "source": [
    "# swap 2 wrongly placed elements"
   ]
  },
  {
   "cell_type": "code",
   "execution_count": 92,
   "id": "c8863587",
   "metadata": {},
   "outputs": [],
   "source": [
    "class Solution:\n",
    "\n",
    "    def __init__(self):  # ye cheez khud se likhni padi\n",
    "\n",
    "        self.first = None\n",
    "        self.second = None\n",
    "        self.middle = None\n",
    "        self.prev = TreeNode(float('-inf'))    \n",
    "\n",
    "    def recoverTree(self, root) -> None:\n",
    "        self.inorder(root)\n",
    "        if self.first and self.second:\n",
    "             self.first.val, self.second.val = self.second.val, self.first.val\n",
    "        elif self.first and self.middle:\n",
    "             self.first.val, self.middle.val = self.middle.val, self.first.val\n",
    "\n",
    "    def inorder(self, root):\n",
    "        if root== None: return \n",
    "        self.inorder(root.left)\n",
    "        if self.prev!= None and root.val< self.prev.val:\n",
    "            if self.first:\n",
    "                self.second= root\n",
    "            else:\n",
    "                self.first= self.prev\n",
    "                self.middle= root\n",
    "        self.prev= root\n",
    "        self.inorder(root.right)"
   ]
  },
  {
   "cell_type": "markdown",
   "id": "5de01e68",
   "metadata": {},
   "source": [
    "# skipping L50 51 53"
   ]
  }
 ],
 "metadata": {
  "kernelspec": {
   "display_name": "Python 3 (ipykernel)",
   "language": "python",
   "name": "python3"
  },
  "language_info": {
   "codemirror_mode": {
    "name": "ipython",
    "version": 3
   },
   "file_extension": ".py",
   "mimetype": "text/x-python",
   "name": "python",
   "nbconvert_exporter": "python",
   "pygments_lexer": "ipython3",
   "version": "3.9.13"
  }
 },
 "nbformat": 4,
 "nbformat_minor": 5
}
