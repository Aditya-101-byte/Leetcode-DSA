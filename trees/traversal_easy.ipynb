{
 "cells": [
  {
   "cell_type": "code",
   "execution_count": 3,
   "id": "cb8598ba",
   "metadata": {},
   "outputs": [],
   "source": [
    "class Node:\n",
    "    def __init__(self, data):\n",
    "        self.data= data\n",
    "        self.left= None\n",
    "        self.right= None  \n",
    "        \n",
    "root = Node(1)\n",
    "root.left = Node(2)\n",
    "root.right = Node(3)\n",
    "root.left.left = Node(4)\n",
    "root.left.right = Node(5)"
   ]
  },
  {
   "cell_type": "markdown",
   "id": "22509fb3",
   "metadata": {},
   "source": [
    "# pre // in // post"
   ]
  },
  {
   "cell_type": "code",
   "execution_count": 4,
   "id": "c40de804",
   "metadata": {},
   "outputs": [
    {
     "data": {
      "text/plain": [
       "[1, 2, 4, 5, 3]"
      ]
     },
     "execution_count": 4,
     "metadata": {},
     "output_type": "execute_result"
    }
   ],
   "source": [
    "def preorder(root,new):\n",
    "    if root== None: return\n",
    "    new.append(root.data)\n",
    "    preorder(root.left,new)\n",
    "    preorder(root.right,new)\n",
    "    return new\n",
    "preorder(root,[])"
   ]
  },
  {
   "cell_type": "code",
   "execution_count": 5,
   "id": "cec72460",
   "metadata": {},
   "outputs": [
    {
     "data": {
      "text/plain": [
       "[4, 5, 2, 3, 1]"
      ]
     },
     "execution_count": 5,
     "metadata": {},
     "output_type": "execute_result"
    }
   ],
   "source": [
    "def postorder(root,new):\n",
    "    if root== None: return\n",
    "    postorder(root.left,new)\n",
    "    postorder(root.right,new)\n",
    "    new.append(root.data)\n",
    "    return new\n",
    "postorder(root,[])"
   ]
  },
  {
   "cell_type": "code",
   "execution_count": 6,
   "id": "8a96f997",
   "metadata": {},
   "outputs": [
    {
     "data": {
      "text/plain": [
       "[4, 2, 5, 1, 3]"
      ]
     },
     "execution_count": 6,
     "metadata": {},
     "output_type": "execute_result"
    }
   ],
   "source": [
    "def inorder(root,new):\n",
    "    if root== None: return    \n",
    "    inorder(root.left,new)\n",
    "    new.append(root.data)\n",
    "    inorder(root.right,new)\n",
    "    return new\n",
    "inorder(root,[])"
   ]
  },
  {
   "cell_type": "markdown",
   "id": "d773da17",
   "metadata": {},
   "source": [
    "# Level order Traversal with queue"
   ]
  },
  {
   "cell_type": "code",
   "execution_count": 7,
   "id": "d8ca6b36",
   "metadata": {},
   "outputs": [
    {
     "data": {
      "text/plain": [
       "[1, 2, 3, 4, 5]"
      ]
     },
     "execution_count": 7,
     "metadata": {},
     "output_type": "execute_result"
    }
   ],
   "source": [
    "def levelorder_traversal(root):   # example: root= Node(1)\n",
    "    if root== None: return\n",
    "    queue=[]\n",
    "    k=[]\n",
    "    queue.append(root)\n",
    "    while queue:        \n",
    "        node= queue.pop(0)\n",
    "        k.append(node.data )\n",
    "        if node.left:\n",
    "            queue.append(node.left)\n",
    "        if node.right:\n",
    "            queue.append(node.right)\n",
    "    return k\n",
    "levelorder_traversal(root)      "
   ]
  },
  {
   "cell_type": "markdown",
   "id": "3938ad1b",
   "metadata": {},
   "source": [
    "# pre/in/post order iterative traversal using stack"
   ]
  },
  {
   "cell_type": "code",
   "execution_count": 10,
   "id": "dbc4ae43",
   "metadata": {},
   "outputs": [],
   "source": [
    "def pre_iterative(root):\n",
    "    preorder=[]\n",
    "    if root== None:\n",
    "        return\n",
    "    stack= []\n",
    "    stack.append(root)\n",
    "    while stack:\n",
    "        #print(stack[-1].data,end=' ')\n",
    "        preorder.append(stack[-1].data)\n",
    "        node= stack.pop()\n",
    "        if node.right:\n",
    "            stack.append(node.right)\n",
    "        if node.left:\n",
    "            stack.append(node.left) \n",
    "    return preorder"
   ]
  },
  {
   "cell_type": "code",
   "execution_count": 11,
   "id": "cd89f344",
   "metadata": {},
   "outputs": [
    {
     "data": {
      "text/plain": [
       "[1, 2, 4, 5, 3]"
      ]
     },
     "execution_count": 11,
     "metadata": {},
     "output_type": "execute_result"
    }
   ],
   "source": [
    "pre_iterative(root)"
   ]
  },
  {
   "cell_type": "code",
   "execution_count": 9,
   "id": "c95bc7fc",
   "metadata": {},
   "outputs": [],
   "source": [
    "def in_iterative(root):\n",
    "    inorder=[]\n",
    "    stack=[]\n",
    "    curr= root\n",
    "    \n",
    "    while True:    \n",
    "        if curr is not None:\n",
    "            stack.append(curr)\n",
    "            curr= curr.left\n",
    "        elif stack:\n",
    "            curr= stack.pop()\n",
    "            inorder.append(curr.data)\n",
    "            curr= curr.right\n",
    "        else: break \n",
    "    return inorder"
   ]
  },
  {
   "cell_type": "code",
   "execution_count": 10,
   "id": "2d0f5c73",
   "metadata": {},
   "outputs": [
    {
     "data": {
      "text/plain": [
       "[4, 2, 5, 1, 3]"
      ]
     },
     "execution_count": 10,
     "metadata": {},
     "output_type": "execute_result"
    }
   ],
   "source": [
    "in_iterative(root)"
   ]
  },
  {
   "cell_type": "code",
   "execution_count": 16,
   "id": "92d6a7bf",
   "metadata": {},
   "outputs": [],
   "source": [
    "def post_iterative2(root):\n",
    "    if root== None:\n",
    "        return\n",
    "    \n",
    "    stack1=[]\n",
    "    stack2=[]\n",
    "\n",
    "    stack1.append(root)\n",
    "    while stack1:\n",
    "        node= stack1.pop()\n",
    "        stack2.append(node.data)\n",
    "        if node.left:\n",
    "            stack1.append(node.left)\n",
    "        if node.right:\n",
    "            stack1.append(node.right)\n",
    "    return stack2[::-1] "
   ]
  },
  {
   "cell_type": "code",
   "execution_count": 17,
   "id": "fd3f2ac0",
   "metadata": {},
   "outputs": [
    {
     "data": {
      "text/plain": [
       "[4, 5, 2, 3, 1]"
      ]
     },
     "execution_count": 17,
     "metadata": {},
     "output_type": "execute_result"
    }
   ],
   "source": [
    "post_iterative2(root)"
   ]
  },
  {
   "cell_type": "code",
   "execution_count": 20,
   "id": "c29e0573",
   "metadata": {},
   "outputs": [
    {
     "data": {
      "text/plain": [
       "[4, 5, 2, 3, 1]"
      ]
     },
     "execution_count": 20,
     "metadata": {},
     "output_type": "execute_result"
    }
   ],
   "source": [
    "#using only one stack - complicated -- incomplete\n",
    "\n",
    "def post_iterative1(root):\n",
    "    post=[]\n",
    "    stack=[]\n",
    "    curr= root\n",
    "    if root == None:\n",
    "        return\n",
    "    while stack or curr!= None:\n",
    "        \n",
    "        if curr:\n",
    "            stack.append(curr)\n",
    "            curr= curr.left\n",
    "        else:\n",
    "            temp= stack[-1].right\n",
    "            if temp == None:\n",
    "                temp= stack.pop()\n",
    "                post.append(temp.data)\n",
    "                while stack and temp== stack[-1].right:\n",
    "                    temp= stack.pop()\n",
    "                    post.append(temp.data)\n",
    "            else:\n",
    "                curr= temp\n",
    "    return post\n",
    "post_iterative1(root)   "
   ]
  },
  {
   "cell_type": "code",
   "execution_count": 10,
   "id": "3c79ac15",
   "metadata": {},
   "outputs": [],
   "source": [
    "def preinpost(root):\n",
    "    stack=[]\n",
    "    pre=[]\n",
    "    in_=[]\n",
    "    post=[]    \n",
    "    stack.append([root,1])    \n",
    "    if root== None :\n",
    "        return\n",
    "\n",
    "\n",
    "    while stack:\n",
    "        curr= stack[-1]\n",
    "        if curr[1]==1:\n",
    "            pre.append(curr[0].data)\n",
    "            curr[1] = curr[1]+1\n",
    "            if curr[0].left:\n",
    "                stack.append([curr[0].left,1])\n",
    "\n",
    "        elif curr[1]==2:\n",
    "            in_.append(curr[0].data)\n",
    "            curr[1] = curr[1]+1\n",
    "            if curr[0].right:\n",
    "                stack.append([curr[0].right,1])\n",
    "                \n",
    "        else :\n",
    "            post.append(curr[0].data)\n",
    "            stack.pop()\n",
    "            \n",
    "    return pre, in_ , post"
   ]
  },
  {
   "cell_type": "code",
   "execution_count": 11,
   "id": "688fc3b3",
   "metadata": {},
   "outputs": [
    {
     "data": {
      "text/plain": [
       "([1, 2, 4, 5, 3], [4, 2, 5, 1, 3], [4, 5, 2, 3, 1])"
      ]
     },
     "execution_count": 11,
     "metadata": {},
     "output_type": "execute_result"
    }
   ],
   "source": [
    "preinpost(root)"
   ]
  }
 ],
 "metadata": {
  "kernelspec": {
   "display_name": "Python 3 (ipykernel)",
   "language": "python",
   "name": "python3"
  },
  "language_info": {
   "codemirror_mode": {
    "name": "ipython",
    "version": 3
   },
   "file_extension": ".py",
   "mimetype": "text/x-python",
   "name": "python",
   "nbconvert_exporter": "python",
   "pygments_lexer": "ipython3",
   "version": "3.9.13"
  }
 },
 "nbformat": 4,
 "nbformat_minor": 5
}
