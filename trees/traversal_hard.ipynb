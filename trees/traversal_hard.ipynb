{
 "cells": [
  {
   "cell_type": "code",
   "execution_count": null,
   "id": "bb7ec0bd",
   "metadata": {},
   "outputs": [],
   "source": []
  },
  {
   "cell_type": "code",
   "execution_count": 5,
   "id": "c95adc3a",
   "metadata": {},
   "outputs": [],
   "source": [
    "class Node:\n",
    "    def __init__(self, data):\n",
    "        self.data= data\n",
    "        self.right= None\n",
    "        self.left= None"
   ]
  },
  {
   "cell_type": "code",
   "execution_count": 54,
   "id": "ae5e7ea5",
   "metadata": {},
   "outputs": [],
   "source": [
    "root = Node(1)\n",
    "root.left = Node(2)\n",
    "root.right = Node(3)\n",
    "root.left.left = Node(4)\n",
    "root.left.right = Node(5)\n",
    "root.right.left = Node(6)\n",
    "root.right.right = Node(7)\n",
    "root.right.right.right = Node(8)\n",
    "root.right.right.right.right = Node(9)\n",
    "root.left.left.left = Node(10)"
   ]
  },
  {
   "cell_type": "code",
   "execution_count": 7,
   "id": "07634330",
   "metadata": {},
   "outputs": [
    {
     "data": {
      "text/plain": [
       "[10, 4, 2, 1, 5, 6, 3, 7, 8, 9]"
      ]
     },
     "execution_count": 7,
     "metadata": {},
     "output_type": "execute_result"
    }
   ],
   "source": [
    "def getVerticalOrder(root, hd, m):\n",
    "\n",
    "    if root is None:\n",
    "        return\n",
    "    try:\n",
    "        m[hd].append(root.data)\n",
    "    except:\n",
    "        m[hd] = [root.data]\n",
    "    getVerticalOrder(root.left, hd-1, m)\n",
    "    getVerticalOrder(root.right, hd+1, m)\n",
    "\n",
    "        \n",
    "def verticalOrder(root):\n",
    "    m = dict()\n",
    "    getVerticalOrder(root, 0, m)\n",
    "    ans = []\n",
    "    for key in sorted(m.keys()):\n",
    "        ans.extend(m[key])    \n",
    "    return ans\n",
    "\n",
    "verticalOrder(root)\n",
    "# time complexity- O(NlogN)"
   ]
  },
  {
   "cell_type": "code",
   "execution_count": 8,
   "id": "01291fcf",
   "metadata": {},
   "outputs": [
    {
     "data": {
      "text/plain": [
       "[10, 4, 2, 1, 5, 6, 3, 7, 8, 9]"
      ]
     },
     "execution_count": 8,
     "metadata": {},
     "output_type": "execute_result"
    }
   ],
   "source": [
    "def vertical(root):\n",
    "    if root == None:\n",
    "        return \n",
    "    m= dict()\n",
    "    queue=[]\n",
    "    queue.append([root, 0,0])\n",
    "    while queue:\n",
    "        temp= queue.pop(0)\n",
    "        node, hz, vz= temp[0], temp[1], temp[2]\n",
    "        if (hz, vz) in m:\n",
    "            m[(hz, vz)].append(node.data)\n",
    "        else:\n",
    "            m[(hz, vz)]= [node.data]\n",
    "            \n",
    "        if node.left:\n",
    "            queue.append([node.left, hz-1, vz+1])\n",
    "        if node.right:\n",
    "            queue.append([node.right, hz+1, vz+1])\n",
    "    result = []\n",
    "    for key in sorted(m.keys()):\n",
    "        result.extend(m[key])\n",
    "\n",
    "    return result\n",
    "    \n",
    "vertical(root)\n",
    "# nlogn"
   ]
  },
  {
   "cell_type": "code",
   "execution_count": 9,
   "id": "8d4de021",
   "metadata": {},
   "outputs": [
    {
     "data": {
      "text/plain": [
       "[10, 4, 2, 1, 5, 6, 3, 7, 8, 9]"
      ]
     },
     "execution_count": 9,
     "metadata": {},
     "output_type": "execute_result"
    }
   ],
   "source": [
    "def vertical1(root):\n",
    "    queue=[]\n",
    "    m=dict()\n",
    "    hz=0\n",
    "    queue.append((root, hz))\n",
    "    mini, maxi=0,0\n",
    "    while queue:\n",
    "        node, hz= queue.pop(0)\n",
    "        if hz in m:\n",
    "            m[hz].append(node.data)\n",
    "        else:\n",
    "            m[hz]= [node.data]\n",
    "        if node.left:\n",
    "            queue.append((node.left, hz-1))\n",
    "        if node.right:\n",
    "            queue.append((node.right, hz+1))\n",
    "        if mini> hz:\n",
    "            mini= hz\n",
    "        if maxi< hz:\n",
    "            maxi= hz\n",
    "    ans=[]\n",
    "    for i in range(mini, maxi+1):\n",
    "        ans.extend(m[i]) #  ans for top view will be ans.append(m[i][0])\n",
    "    return ans\n",
    "        \n",
    "vertical1(root)  \n",
    "# O(N) "
   ]
  },
  {
   "cell_type": "code",
   "execution_count": 10,
   "id": "9dc5aea1",
   "metadata": {},
   "outputs": [
    {
     "data": {
      "text/plain": [
       "[10, 4, 2, 1, 3, 7, 8, 9]"
      ]
     },
     "execution_count": 10,
     "metadata": {},
     "output_type": "execute_result"
    }
   ],
   "source": [
    "def top(root):# same code as the above question just one change\n",
    "    if root== None:\n",
    "        return\n",
    "    queue=[]\n",
    "    m= dict()\n",
    "    hz=0\n",
    "    queue.append((root,hz ))\n",
    "    mini, maxi=0,0\n",
    "    while queue:\n",
    "        node, hz= queue.pop(0)\n",
    "        if hz not in m:                        # remove this line for bottom view- if statement  \n",
    "            m[hz]= node.data\n",
    "        if node.left:\n",
    "            queue.append((node.left, hz-1))\n",
    "        if node.right:\n",
    "            queue.append((node.right, hz+1))\n",
    "        if mini> hz:\n",
    "            mini= hz\n",
    "        if maxi< hz:\n",
    "            maxi= hz\n",
    "    ans=[]\n",
    "    for i in range(mini, maxi+1):\n",
    "        ans.append(m[i])\n",
    "    return ans\n",
    "top(root)"
   ]
  },
  {
   "cell_type": "code",
   "execution_count": 11,
   "id": "0df329f9",
   "metadata": {},
   "outputs": [
    {
     "data": {
      "text/plain": [
       "[1, 2, 4, 10, 9]"
      ]
     },
     "execution_count": 11,
     "metadata": {},
     "output_type": "execute_result"
    }
   ],
   "source": [
    "def left(root):\n",
    "    if root== None:\n",
    "        return\n",
    "    queue=[]\n",
    "    m= dict()\n",
    "    vz=0\n",
    "    queue.append((root,vz ))\n",
    "    while queue:\n",
    "        node, vz= queue.pop(0)\n",
    "        if vz not in m:                   # remove this if statement for right view\n",
    "            m[vz]= node.data\n",
    "        if node.left:\n",
    "            queue.append((node.left, vz+1))\n",
    "        if node.right:\n",
    "            queue.append((node.right, vz+1))\n",
    "    ans=[]\n",
    "    ans.extend(m.values())\n",
    "    return ans\n",
    "left(root)\n",
    "        "
   ]
  },
  {
   "cell_type": "code",
   "execution_count": 12,
   "id": "1b578198",
   "metadata": {},
   "outputs": [
    {
     "data": {
      "text/plain": [
       "False"
      ]
     },
     "execution_count": 12,
     "metadata": {},
     "output_type": "execute_result"
    }
   ],
   "source": [
    "def is_symm(root1, root2):\n",
    "    if root1 is None and  root2 is None:\n",
    "        return True\n",
    "    if root1 and root2:\n",
    "        return (is_symm(root1.left, root2.right) and is_symm(root1.right, root2.left))\n",
    "    return False\n",
    "is_symm(root, root)\n",
    "    "
   ]
  },
  {
   "cell_type": "markdown",
   "id": "42f79838",
   "metadata": {},
   "source": [
    "# root to node traversal"
   ]
  },
  {
   "cell_type": "code",
   "execution_count": 13,
   "id": "4a8eda4c",
   "metadata": {},
   "outputs": [
    {
     "data": {
      "text/plain": [
       "[1, 3, 7]"
      ]
     },
     "execution_count": 13,
     "metadata": {},
     "output_type": "execute_result"
    }
   ],
   "source": [
    "def r2n(root,arr, node):\n",
    "    if root== None:\n",
    "        return False\n",
    "    arr.append(root.data)\n",
    "    if root.data== node:\n",
    "        return True\n",
    "    if r2n(root.left, arr, node) or r2n(root.right, arr, node):\n",
    "        return True\n",
    "    arr.pop()\n",
    "    return False\n",
    "def rrn(root, node):\n",
    "    arr=[]\n",
    "    r2n(root,arr, node)\n",
    "    return arr\n",
    "\n",
    "rrn(root, 7)"
   ]
  },
  {
   "cell_type": "markdown",
   "id": "78b510e1",
   "metadata": {},
   "source": [
    "# lca"
   ]
  },
  {
   "cell_type": "code",
   "execution_count": 14,
   "id": "1801f5ce",
   "metadata": {},
   "outputs": [
    {
     "name": "stdout",
     "output_type": "stream",
     "text": [
      "LCA of 6 and 9 is: 3\n"
     ]
    }
   ],
   "source": [
    "def lca(root, p, q):\n",
    "    if (root== None or root.data== p or root.data==q):\n",
    "        return root\n",
    "    left= lca(root.left, p,q)\n",
    "    right= lca(root.right, p,q)\n",
    "    \n",
    "    if left is None:\n",
    "        return right\n",
    "    elif right  == None:\n",
    "        return left\n",
    "    else:return root\n",
    "print(f\"LCA of 6 and 9 is: {lca(root,6,9).data}\")"
   ]
  },
  {
   "cell_type": "markdown",
   "id": "efc2d732",
   "metadata": {},
   "source": [
    "# width"
   ]
  },
  {
   "cell_type": "code",
   "execution_count": 20,
   "id": "601c17f4",
   "metadata": {},
   "outputs": [
    {
     "data": {
      "text/plain": [
       "8"
      ]
     },
     "execution_count": 20,
     "metadata": {},
     "output_type": "execute_result"
    }
   ],
   "source": [
    "def max_width(root):\n",
    "    if root== None:\n",
    "        return 0\n",
    "    queue=[]\n",
    "    ans=0\n",
    "    queue.append((root, 0))\n",
    "    while queue:\n",
    "        size= len(queue)\n",
    "        mmin= queue[0][1]\n",
    "        for i in range(size):\n",
    "            node= queue[0][0]\n",
    "            current= queue[0][1]- mmin\n",
    "            queue.pop(0)\n",
    "            if i ==0: first= current\n",
    "            if i== size-1: last= current\n",
    "            \n",
    "            if node.left:\n",
    "                queue.append((node.left, 2*current+1))\n",
    "            if node.right:\n",
    "                queue.append((node.right, 2*current+2))\n",
    "        ans = max(ans, last-first +1)\n",
    "    return ans\n",
    "max_width(root)"
   ]
  },
  {
   "cell_type": "markdown",
   "id": "eedce48c",
   "metadata": {},
   "source": [
    "# child sum property"
   ]
  },
  {
   "cell_type": "code",
   "execution_count": 27,
   "id": "e9d67352",
   "metadata": {},
   "outputs": [
    {
     "name": "stdout",
     "output_type": "stream",
     "text": [
      "10 4 2 5 1 7 3 7 8 9 "
     ]
    }
   ],
   "source": [
    "def inorder(root):\n",
    "    if root== None: return\n",
    "    inorder(root.left)\n",
    "    print( root.data, end=\" \")\n",
    "    inorder(root.right)\n",
    "inorder(root)"
   ]
  },
  {
   "cell_type": "code",
   "execution_count": 28,
   "id": "f3f34560",
   "metadata": {},
   "outputs": [],
   "source": [
    "def child_sum_property(root):\n",
    "    if root== None:\n",
    "        return\n",
    "    net= 0\n",
    "    if root.left: net= net+ root.left.data\n",
    "    if root.right: net= net+ root.right.data    \n",
    "    if net>= root.data: root.data= net\n",
    "    else:\n",
    "        if root.left: root.left.data= root.data\n",
    "        if root.right: root.right.data= root.data            \n",
    "    child_sum_property(root.left)\n",
    "    child_sum_property(root.right)\n",
    "    # backtracking:-\n",
    "    total= 0\n",
    "    if root.left: total= total+ root.left.data\n",
    "    if root.right: total= total+ root.right.data\n",
    "    if (root.left or root.right): root.data= total"
   ]
  },
  {
   "cell_type": "code",
   "execution_count": 31,
   "id": "cede7548",
   "metadata": {},
   "outputs": [
    {
     "name": "stdout",
     "output_type": "stream",
     "text": [
      "10 4 2 5 1 6 3 7 8 9 \n",
      "10 10 15 5 30 6 15 9 9 9 "
     ]
    }
   ],
   "source": [
    "inorder(root)\n",
    "child_sum_property(root)\n",
    "print()\n",
    "inorder(root)"
   ]
  },
  {
   "cell_type": "markdown",
   "id": "17899e1a",
   "metadata": {},
   "source": [
    "# node at distance k"
   ]
  },
  {
   "cell_type": "code",
   "execution_count": 66,
   "id": "fe2f017a",
   "metadata": {},
   "outputs": [],
   "source": [
    "def find_parent(root, m):\n",
    "    m[root]= None\n",
    "    queue=[]\n",
    "    queue.append(root)\n",
    "    while queue:\n",
    "        node= queue.pop()\n",
    "        if node.left:\n",
    "            m[node.left]= node\n",
    "            queue.append(node.left)\n",
    "        if node.right:\n",
    "            m[node.right]= node\n",
    "            queue.append(node.right)  \n"
   ]
  },
  {
   "cell_type": "code",
   "execution_count": 32,
   "id": "8fc8e4e1",
   "metadata": {},
   "outputs": [],
   "source": [
    "# Helper function to populate parent pointers\n",
    "def find_parent(root, parent_map, parent=None):\n",
    "    if root:\n",
    "        parent_map[root] = parent\n",
    "        find_parent(root.left, parent_map, root)\n",
    "        find_parent(root.right, parent_map, root)"
   ]
  },
  {
   "cell_type": "code",
   "execution_count": 42,
   "id": "98f88cc9",
   "metadata": {},
   "outputs": [
    {
     "data": {
      "text/plain": [
       "[6, 7]"
      ]
     },
     "execution_count": 42,
     "metadata": {},
     "output_type": "execute_result"
    }
   ],
   "source": [
    "def distance(root, target, k):\n",
    "    parent_map= dict()\n",
    "    find_parent(root, parent_map)\n",
    "    queue=[target]\n",
    "    visited={target:True}    \n",
    "    curr=0\n",
    "    while queue:\n",
    "        size= len(queue)\n",
    "        if curr==k: break  # remove this line to get maxx curr -- burn time question\n",
    "        curr+=1\n",
    "        for _ in range(size):\n",
    "            node = queue.pop(0)\n",
    "            for neighbor in (node.left, node.right, parent_map[node]):\n",
    "                if neighbor and neighbor not in visited:\n",
    "                    visited[neighbor] = True\n",
    "                    queue.append(neighbor)\n",
    "        \n",
    "    return [node.data for node in queue]\n",
    "distance(root, root.left, 3)         "
   ]
  },
  {
   "cell_type": "markdown",
   "id": "62deb0e6",
   "metadata": {},
   "source": [
    "# count nodes in a complete binary tree"
   ]
  },
  {
   "cell_type": "code",
   "execution_count": 45,
   "id": "cb8bb561",
   "metadata": {},
   "outputs": [
    {
     "data": {
      "text/plain": [
       "8"
      ]
     },
     "execution_count": 45,
     "metadata": {},
     "output_type": "execute_result"
    }
   ],
   "source": [
    "def count(root):\n",
    "    if root == None: return 0\n",
    "    left= height_left(root.left)\n",
    "    right= height_right(root.right)\n",
    "    if left== right:\n",
    "        return 2**(1+right) -1\n",
    "    return 1+ count(root.left)+ count(root.right)\n",
    "count(root)    "
   ]
  },
  {
   "cell_type": "code",
   "execution_count": 44,
   "id": "f4ede563",
   "metadata": {},
   "outputs": [],
   "source": [
    "def height(root):\n",
    "    if root== None: return 0\n",
    "    left= height(root.left)\n",
    "    right= height(root.right)\n",
    "    return 1+ max(left, right)\n",
    "\n",
    "def height_left(root):\n",
    "    if root== None: return 0\n",
    "    count=0\n",
    "    while root.left:\n",
    "        count+=1\n",
    "        root= root.left\n",
    "    return count\n",
    "def height_right(root):\n",
    "    if root== None: return 0\n",
    "    count=0\n",
    "    while root.right:\n",
    "        count+=1\n",
    "        root= root.right\n",
    "    return count"
   ]
  },
  {
   "cell_type": "markdown",
   "id": "0c3fd9fe",
   "metadata": {},
   "source": [
    "# serialize and deserialize"
   ]
  },
  {
   "cell_type": "code",
   "execution_count": 75,
   "id": "e1607aaa",
   "metadata": {},
   "outputs": [],
   "source": [
    "root = Node(1)\n",
    "root.left = Node(2)\n",
    "root.right = Node(3)\n",
    "root.left.left = Node(4)\n",
    "root.left.right = Node(5)\n",
    "root.right.left = Node(6)\n",
    "root.right.right = Node(7)\n",
    "root.right.right.right = Node(8)\n",
    "root.right.right.right.right = Node(9)\n",
    "root.left.left.left = Node(10)"
   ]
  },
  {
   "cell_type": "code",
   "execution_count": 90,
   "id": "26130fa7",
   "metadata": {},
   "outputs": [
    {
     "name": "stdout",
     "output_type": "stream",
     "text": [
      "1,2,3,4,5,6,7,10,#,#,#,#,#,#,8,#,#,#,9,#,#,\n",
      "10 4 2 5 1 6 3 7 8 9 "
     ]
    }
   ],
   "source": [
    "def serialize(root):\n",
    "    if root== None: return \"\" \n",
    "    string=\"\"\n",
    "    queue=[root]\n",
    "    while queue:\n",
    "        node= queue.pop(0)\n",
    "        if node==None: string+=\"#,\"\n",
    "        else:\n",
    "            string+= str(node.data)+ ','\n",
    "            queue.append(node.left)\n",
    "            queue.append(node.right)\n",
    "    return string\n",
    "print(serialize(root))\n",
    "inorder(root)"
   ]
  },
  {
   "cell_type": "code",
   "execution_count": 91,
   "id": "2d48bf5a",
   "metadata": {},
   "outputs": [],
   "source": [
    "s= serialize(root)"
   ]
  },
  {
   "cell_type": "code",
   "execution_count": 96,
   "id": "324802df",
   "metadata": {},
   "outputs": [
    {
     "name": "stdout",
     "output_type": "stream",
     "text": [
      "10 4 2 5 1 6 3 7 8 9 "
     ]
    }
   ],
   "source": [
    "def deserialize(string):\n",
    "    if len(string)==0: return None\n",
    "    token= string.split(',')\n",
    "    if token[0] == '':\n",
    "        return None\n",
    "    root= Node(int(token.pop(0)))\n",
    "    queue=[root]\n",
    "    while queue:\n",
    "        \n",
    "        size= len(queue)\n",
    "        for i in range(size):\n",
    "            node= queue.pop(0)\n",
    "            if token:\n",
    "                s= token.pop(0)\n",
    "                if  s!= '#':\n",
    "                    x= int(s)\n",
    "                    node.left= Node(x)\n",
    "                    queue.append(node.left)          \n",
    "            if token:\n",
    "                s= token.pop(0)\n",
    "                if  s!= '#':          # her we are taking \" if s \" beacuase of the ending as the string ends with \",\" \n",
    "                    x= int(s)\n",
    "                    node.right= Node(x)\n",
    "                    queue.append(node.right)\n",
    "            \n",
    "    return root\n",
    "new= deserialize(s)\n",
    "inorder(new)"
   ]
  },
  {
   "cell_type": "markdown",
   "id": "f019cf99",
   "metadata": {},
   "source": [
    "# buildtree from an array of inorder, postorder and inorder, preorder"
   ]
  },
  {
   "cell_type": "code",
   "execution_count": 80,
   "id": "79d5f47d",
   "metadata": {},
   "outputs": [],
   "source": [
    "def prein(inorder, preorder):\n",
    "    inmap={node:i for i, node in enumerate(inorder)}\n",
    "    root= buildtree(0, len(preorder)-1, preorder, 0, len(inorder)-1, inorder, inmap)\n",
    "    return root\n",
    "def buildtree(prestart, preend, preorder, instart, inend, inorder, inmap):\n",
    "    if prestart > preend or instart > inend:\n",
    "        return None\n",
    "    root= Node(preorder[prestart])\n",
    "    inroot= inmap[preorder[prestart]]\n",
    "    rem= inroot- instart\n",
    "    root.left= buildtree(prestart+1, prestart+rem, preorder, instart, inroot-1,inorder,inmap )\n",
    "    root.right= buildtree(prestart+1+rem, preend, preorder, inroot+1, inend,inorder,inmap )\n",
    "    return root"
   ]
  },
  {
   "cell_type": "code",
   "execution_count": null,
   "id": "95f9030d",
   "metadata": {},
   "outputs": [],
   "source": [
    "def prein(inorder, postorder):\n",
    "    inmap={node:i for i, node in enumerate(inorder)}\n",
    "    root= buildtree(0, len(postorder)-1, postorder, 0, len(inorder)-1, inorder, inmap)\n",
    "    return root\n",
    "def buildtree(poststart, postend, postorder, instart, inend, inorder, inmap):\n",
    "    if poststart > postend or instart > inend:\n",
    "        return None\n",
    "    root= Node(postorder[postend])\n",
    "    inroot= inmap[postorder[postend]]\n",
    "    rem= inroot- instart\n",
    "    root.left= buildtree(poststart, poststart+rem-1, postorder, instart, inroot-1,inorder,inmap )\n",
    "    root.right= buildtree(poststart+rem, postend-1, postorder, inroot+1, inend,inorder,inmap )\n",
    "    return root"
   ]
  },
  {
   "cell_type": "markdown",
   "id": "4a81255a",
   "metadata": {},
   "source": [
    "# morris traversal"
   ]
  },
  {
   "cell_type": "code",
   "execution_count": 81,
   "id": "2ba245ba",
   "metadata": {},
   "outputs": [],
   "source": [
    "class Solution:\n",
    "    def getPreorder(self, root):\n",
    "        # List to store the preorder traversal result\n",
    "        preorder = []\n",
    "        cur= root\n",
    "        while cur is not None:\n",
    "            if cur.left is None:\n",
    "                preorder.append(cur.val)\n",
    "                cur = cur.right\n",
    "            else:\n",
    "                prev = cur.left\n",
    "                while prev.right and prev.right != cur:\n",
    "                    prev = prev.right\n",
    "                if prev.right is None:\n",
    "                    prev.right = cur\n",
    "                    cur = cur.left\n",
    "                else:\n",
    "                    prev.right = None\n",
    "                    preorder.append(cur.val)\n",
    "                    cur = cur.right\n",
    "        return preorder\n"
   ]
  },
  {
   "cell_type": "markdown",
   "id": "1ded0a4d",
   "metadata": {},
   "source": [
    "# I am skipping morris traversal "
   ]
  }
 ],
 "metadata": {
  "kernelspec": {
   "display_name": "Python 3 (ipykernel)",
   "language": "python",
   "name": "python3"
  },
  "language_info": {
   "codemirror_mode": {
    "name": "ipython",
    "version": 3
   },
   "file_extension": ".py",
   "mimetype": "text/x-python",
   "name": "python",
   "nbconvert_exporter": "python",
   "pygments_lexer": "ipython3",
   "version": "3.9.13"
  }
 },
 "nbformat": 4,
 "nbformat_minor": 5
}
