{
 "cells": [
  {
   "cell_type": "code",
   "execution_count": 3,
   "id": "51134b6b",
   "metadata": {},
   "outputs": [],
   "source": [
    "class Node:\n",
    "    def __init__(self, data):\n",
    "        self.data= data\n",
    "        self.right= None\n",
    "        self.left= None"
   ]
  },
  {
   "cell_type": "code",
   "execution_count": 15,
   "id": "2eb9e344",
   "metadata": {},
   "outputs": [],
   "source": [
    "root = Node(-100)\n",
    "root.left = Node(2)\n",
    "root.right = Node(3)\n",
    "root.left.left = Node(4)\n",
    "root.left.right = Node(5)\n",
    "root.right.left = Node(6)\n",
    "root.right.right = Node(7)\n",
    "root.right.right.right = Node(8)\n",
    "root.right.right.left = Node(9)"
   ]
  },
  {
   "cell_type": "code",
   "execution_count": 5,
   "id": "97155c51",
   "metadata": {},
   "outputs": [],
   "source": [
    "def depth(root):\n",
    "    if root == None: return 0\n",
    "    lef= depth(root.left)\n",
    "    righ= depth(root.right)\n",
    "    return  1+ max(righ, lef)"
   ]
  },
  {
   "cell_type": "code",
   "execution_count": 6,
   "id": "24c813b5",
   "metadata": {},
   "outputs": [
    {
     "data": {
      "text/plain": [
       "4"
      ]
     },
     "execution_count": 6,
     "metadata": {},
     "output_type": "execute_result"
    }
   ],
   "source": [
    "depth(root)"
   ]
  },
  {
   "cell_type": "code",
   "execution_count": 7,
   "id": "794848dc",
   "metadata": {},
   "outputs": [
    {
     "data": {
      "text/plain": [
       "True"
      ]
     },
     "execution_count": 7,
     "metadata": {},
     "output_type": "execute_result"
    }
   ],
   "source": [
    "def check_balanced(root):\n",
    "    if root== None:\n",
    "        return True\n",
    "    lef= depth(root.left)\n",
    "    right= depth(root.right)\n",
    "    \n",
    "    if abs(lef-right)>1:\n",
    "        return False\n",
    "    newleft= check_balanced(root.left)\n",
    "    newright= check_balanced(root.right)\n",
    "    if newleft and newright:\n",
    "        return True\n",
    "    else: return False\n",
    "    \n",
    "check_balanced(root)"
   ]
  },
  {
   "cell_type": "code",
   "execution_count": 8,
   "id": "fc7d77b7",
   "metadata": {},
   "outputs": [
    {
     "data": {
      "text/plain": [
       "4"
      ]
     },
     "execution_count": 8,
     "metadata": {},
     "output_type": "execute_result"
    }
   ],
   "source": [
    "def fast_check_balanced(root):\n",
    "    if root== None:\n",
    "        return 0\n",
    "    lef= fast_check_balanced(root.left)\n",
    "    righ= fast_check_balanced(root.right)\n",
    "    \n",
    "    if lef ==-1 or righ== -1: return -1 # this step is for other recursive calls\n",
    "    if abs(lef-righ)>1: return -1 # this step is useful if there is a non balanced tree identified in the final recursion \n",
    "    return max(lef, righ)+1 \n",
    "\n",
    "fast_check_balanced(root)\n",
    "\n",
    "# if it prints -1 it is not balanced else balanced "
   ]
  },
  {
   "cell_type": "code",
   "execution_count": 9,
   "id": "84153182",
   "metadata": {},
   "outputs": [
    {
     "data": {
      "text/plain": [
       "5"
      ]
     },
     "execution_count": 9,
     "metadata": {},
     "output_type": "execute_result"
    }
   ],
   "source": [
    "def diameter(root, maxi=0):#o(n^2)\n",
    "    if root== None:\n",
    "        return 0\n",
    "    left= depth(root.left)\n",
    "    right= depth(root.right)\n",
    "    maxi=  max(maxi, left+ right)\n",
    "    diameter(root.left, maxi)\n",
    "    diameter(root.right,maxi)\n",
    "    return maxi\n",
    "diameter(root)"
   ]
  },
  {
   "cell_type": "code",
   "execution_count": 10,
   "id": "851897fa",
   "metadata": {},
   "outputs": [
    {
     "data": {
      "text/plain": [
       "5"
      ]
     },
     "execution_count": 10,
     "metadata": {},
     "output_type": "execute_result"
    }
   ],
   "source": [
    "def diameter1(root):                        #ignore this the next cell is better      \n",
    "    def helper(node):\n",
    "        nonlocal maxi \n",
    "        if node== None:\n",
    "            return 0\n",
    "        lef= helper(node.left)\n",
    "        righ= helper(node.right)\n",
    "        maxi= max(maxi, lef+righ)\n",
    "       \n",
    "        return 1+ max(lef, righ)\n",
    "    maxi=0\n",
    "    helper(root)\n",
    "    return maxi \n",
    "\n",
    "diameter1(root)"
   ]
  },
  {
   "cell_type": "code",
   "execution_count": 11,
   "id": "19e6a33e",
   "metadata": {},
   "outputs": [
    {
     "data": {
      "text/plain": [
       "5"
      ]
     },
     "execution_count": 11,
     "metadata": {},
     "output_type": "execute_result"
    }
   ],
   "source": [
    "def diameter2(root, maxi=[0]):\n",
    "    if root is None:\n",
    "        return 0\n",
    "    left = diameter2(root.left, maxi)\n",
    "    right = diameter2(root.right, maxi)\n",
    "    # update the maximum diameter found so far\n",
    "    maxi[0] = max(maxi[0], left + right)\n",
    "    # return the height of the current node\n",
    "    return 1 + max(left, right)\n",
    "\n",
    "def diameter_of_binary_tree(root):\n",
    "    maxi = [0]\n",
    "    diameter2(root, maxi)\n",
    "    return maxi[0]\n",
    "\n",
    "diameter_of_binary_tree(root)"
   ]
  },
  {
   "cell_type": "code",
   "execution_count": 12,
   "id": "e5a4f320",
   "metadata": {},
   "outputs": [
    {
     "data": {
      "text/plain": [
       "25"
      ]
     },
     "execution_count": 12,
     "metadata": {},
     "output_type": "execute_result"
    }
   ],
   "source": [
    "def max_path(root, maxa=[0]):\n",
    "    if root== None:\n",
    "        return 0\n",
    "    left= max_path(root.left, maxa)\n",
    "    right= max_path(root.right, maxa)\n",
    "    maxa[0]= max(maxa[0], root.data+right+ left)\n",
    "    return root.data +max(right, left)\n",
    "def ansmaxa(root):\n",
    "    maxa=[0]\n",
    "    max_path(root, maxa)\n",
    "    return maxa[0]\n",
    "ansmaxa(root)   "
   ]
  },
  {
   "cell_type": "code",
   "execution_count": 16,
   "id": "171c606f",
   "metadata": {},
   "outputs": [],
   "source": [
    "def issame(root1, root2):\n",
    "    if root1==None or root2==None:\n",
    "        return root1==root2\n",
    "    return (root1.data==root2.data) and issame(root1.left,root2.left) and issame(root1.right, root2.right)"
   ]
  },
  {
   "cell_type": "code",
   "execution_count": 23,
   "id": "2e64e721",
   "metadata": {},
   "outputs": [
    {
     "data": {
      "text/plain": [
       "[-100, 3, 2, 4, 5, 6, 7, 8, 9]"
      ]
     },
     "execution_count": 23,
     "metadata": {},
     "output_type": "execute_result"
    }
   ],
   "source": [
    "def zigzag(root):\n",
    "    if root== None: return None\n",
    "    stack=[root]\n",
    "    ans=[]\n",
    "    flag=True\n",
    "    while stack:\n",
    "        k=len(stack)\n",
    "        temp=[]\n",
    "        for i in range(k):            \n",
    "            node=stack.pop(0)\n",
    "            temp.append(node.data)\n",
    "            if node.left:\n",
    "                stack.append(node.left)\n",
    "            if node.right:\n",
    "                stack.append(node.right)\n",
    "        if flag==True:\n",
    "            ans.extend(temp)\n",
    "        else:\n",
    "            ans.extend(temp[::-1])\n",
    "        flag= not flag        \n",
    "    return ans\n",
    "zigzag(root)"
   ]
  },
  {
   "cell_type": "code",
   "execution_count": 16,
   "id": "be1b6e25",
   "metadata": {},
   "outputs": [
    {
     "data": {
      "text/plain": [
       "[-100, 2, 4, 5, 6, 9, 8, 7, 3]"
      ]
     },
     "execution_count": 16,
     "metadata": {},
     "output_type": "execute_result"
    }
   ],
   "source": [
    "def isleaf(node): \n",
    "    if node.left ==None and node.right== None: return True\n",
    "    return False\n",
    "\n",
    "def addleft(root,res):\n",
    "    curr= root.left\n",
    "    while curr:\n",
    "        if  not isleaf(curr): res.append(curr.data)\n",
    "        if curr.left: curr= curr.left\n",
    "        else: curr= curr.right\n",
    "def addright(root,res):\n",
    "    curr= root.right\n",
    "    temp=[]\n",
    "    while curr:\n",
    "        if not isleaf(curr): temp.append(curr.data)\n",
    "        if curr.right: curr= curr.right\n",
    "        else: curr= curr.left\n",
    "    res.extend(temp[::-1])\n",
    "def addleaf(root,res):\n",
    "    if isleaf(root):\n",
    "        res.append(root.data)\n",
    "        return\n",
    "    if root.left: addleaf(root.left, res)\n",
    "    if root.right: addleaf(root.right,res)\n",
    "            \n",
    "def boundary(root):                   # in boundary order traversal all nodes are not included \n",
    "    res=[]\n",
    "    if root== None: return res\n",
    "    if not isleaf(root): res.append(root.data)\n",
    "    addleft(root,res)\n",
    "    addleaf(root,res)\n",
    "    addright(root,res)\n",
    "    return res\n",
    "boundary(root)"
   ]
  },
  {
   "cell_type": "code",
   "execution_count": null,
   "id": "5ee1ef80",
   "metadata": {},
   "outputs": [],
   "source": []
  }
 ],
 "metadata": {
  "kernelspec": {
   "display_name": "Python 3 (ipykernel)",
   "language": "python",
   "name": "python3"
  },
  "language_info": {
   "codemirror_mode": {
    "name": "ipython",
    "version": 3
   },
   "file_extension": ".py",
   "mimetype": "text/x-python",
   "name": "python",
   "nbconvert_exporter": "python",
   "pygments_lexer": "ipython3",
   "version": "3.9.13"
  }
 },
 "nbformat": 4,
 "nbformat_minor": 5
}
