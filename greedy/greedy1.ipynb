{
 "cells": [
  {
   "cell_type": "code",
   "execution_count": 1,
   "id": "c9e2011c",
   "metadata": {},
   "outputs": [],
   "source": [
    "# greedy algos usually require sorting"
   ]
  },
  {
   "cell_type": "code",
   "execution_count": 10,
   "id": "a94d7f4b",
   "metadata": {},
   "outputs": [
    {
     "data": {
      "text/plain": [
       "4"
      ]
     },
     "execution_count": 10,
     "metadata": {},
     "output_type": "execute_result"
    }
   ],
   "source": [
    "def greedvalue(greed, value):\n",
    "    greed=sorted(greed)\n",
    "    value= sorted(value)\n",
    "    l,r=0,0\n",
    "    while l< len(value):\n",
    "        if greed[r]<=value[l]:\n",
    "            r+=1\n",
    "        l+=1\n",
    "    return r\n",
    "greedvalue([1,3,5,9,3], [1,3,4,0,10])"
   ]
  },
  {
   "cell_type": "code",
   "execution_count": 6,
   "id": "313d71f1",
   "metadata": {},
   "outputs": [
    {
     "data": {
      "text/plain": [
       "3"
      ]
     },
     "execution_count": 6,
     "metadata": {},
     "output_type": "execute_result"
    }
   ],
   "source": [
    "def train_intersect(arr1, arr2):                  # L10\n",
    "    arr1= sorted(arr1)\n",
    "    arr2= sorted(arr2)\n",
    "    i,j=0,0\n",
    "    count, maxi=0,0\n",
    "    while i< len(arr1):\n",
    "        if arr1[i]<arr2[j]:\n",
    "            i+=1\n",
    "            count+=1\n",
    "            maxi= max(count, maxi)\n",
    "        else:\n",
    "            j+=1\n",
    "            count-=1\n",
    "    return maxi\n",
    "train_intersect([900,945, 955, 1100, 1500, 1800],[920, 1910, 1100, 1300, 1900, 2000])"
   ]
  },
  {
   "cell_type": "code",
   "execution_count": 28,
   "id": "f7bcc698",
   "metadata": {},
   "outputs": [
    {
     "data": {
      "text/plain": [
       "False"
      ]
     },
     "execution_count": 28,
     "metadata": {},
     "output_type": "execute_result"
    }
   ],
   "source": [
    "def parenthesis_valid(abc):\n",
    "    mini, maxi=0,0\n",
    "    for i in range(len(abc)):\n",
    "        if abc[i]=='(':\n",
    "            mini+=1\n",
    "            maxi+=1\n",
    "        elif abc[i]==')':\n",
    "            mini-=1\n",
    "            maxi-=1\n",
    "            if maxi<0: return False\n",
    "        else: \n",
    "            mini-=1\n",
    "            maxi+=1\n",
    "        if mini<0: mini=0\n",
    "    if mini==0: return True\n",
    "    return False\n",
    "\n",
    "parenthesis_valid(\"(*(*)))))\")"
   ]
  },
  {
   "cell_type": "code",
   "execution_count": 34,
   "id": "45565094",
   "metadata": {},
   "outputs": [
    {
     "data": {
      "text/plain": [
       "11"
      ]
     },
     "execution_count": 34,
     "metadata": {},
     "output_type": "execute_result"
    }
   ],
   "source": [
    "def candy_slope(arr):\n",
    "    n=len(arr)\n",
    "    i,sum=1,1\n",
    "    while i<n:\n",
    "        if arr[i]== arr[i-1]:\n",
    "            i+=1\n",
    "            sum1+=1\n",
    "            continue\n",
    "        peak=1\n",
    "        while i<n and arr[i]>arr[i-1]:\n",
    "            i+=1\n",
    "            peak+=1\n",
    "            sum+=peak\n",
    "        down=0\n",
    "        while i<n and arr[i]<arr[i-1]:\n",
    "            i+=1\n",
    "            down+=1\n",
    "            sum+=down\n",
    "        if down>peak:\n",
    "            sum+= down- peak\n",
    "    return sum\n",
    "candy_slope([1,3,5,9,3])       "
   ]
  },
  {
   "cell_type": "code",
   "execution_count": null,
   "id": "148d0f58",
   "metadata": {},
   "outputs": [],
   "source": []
  }
 ],
 "metadata": {
  "kernelspec": {
   "display_name": "Python 3 (ipykernel)",
   "language": "python",
   "name": "python3"
  },
  "language_info": {
   "codemirror_mode": {
    "name": "ipython",
    "version": 3
   },
   "file_extension": ".py",
   "mimetype": "text/x-python",
   "name": "python",
   "nbconvert_exporter": "python",
   "pygments_lexer": "ipython3",
   "version": "3.9.13"
  }
 },
 "nbformat": 4,
 "nbformat_minor": 5
}
