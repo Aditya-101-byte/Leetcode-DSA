{
 "cells": [
  {
   "cell_type": "markdown",
   "id": "071a3fb4",
   "metadata": {},
   "source": [
    "# row with max 1s"
   ]
  },
  {
   "cell_type": "code",
   "execution_count": 4,
   "id": "96ffe2dc",
   "metadata": {},
   "outputs": [],
   "source": [
    "class Solution:\n",
    "    def upperb(self, matrix, i ,m):\n",
    "        low, high = 0, m - 1\n",
    "        ans = m  # Default to m, meaning no 1's in the row\n",
    "        while low <= high:\n",
    "            mid = (low + high) // 2\n",
    "            if matrix[i][mid] >0:\n",
    "                ans = mid  # Found a 1, record the position\n",
    "                high = mid - 1  # Move left to find the first occurrence\n",
    "            else:\n",
    "                low = mid + 1  # Move right to find a 1\n",
    "        return ans\n",
    "        \n",
    "    def rowWithMax1s(self, matrix):\n",
    "        n, m = len(matrix), len(matrix[0])\n",
    "        max_1s = 0\n",
    "        index = -1\n",
    "        for i in range(n):\n",
    "            first_1_index = self.upperb(matrix, i, m)\n",
    "            num_1s = m - first_1_index\n",
    "            if num_1s > max_1s:\n",
    "                max_1s = num_1s\n",
    "                index = i\n",
    "        return index"
   ]
  },
  {
   "cell_type": "markdown",
   "id": "73523d76",
   "metadata": {},
   "source": [
    "# search in a matrix"
   ]
  },
  {
   "cell_type": "code",
   "execution_count": 5,
   "id": "ed9083db",
   "metadata": {},
   "outputs": [],
   "source": [
    "def searchMatrix( matrix, target) :\n",
    "    n,m=len(matrix),len(matrix[0])\n",
    "    low, high= 0, m*n -1\n",
    "    while low<=high:\n",
    "        mid=(low+high)//2\n",
    "        row= mid//m\n",
    "        col= mid% m\n",
    "        if matrix[row][col]== target: return True\n",
    "        elif matrix[row][col]<target:\n",
    "            low= mid+1\n",
    "        else:\n",
    "            high= mid-1\n",
    "    return False"
   ]
  },
  {
   "cell_type": "code",
   "execution_count": 6,
   "id": "9e19aa14",
   "metadata": {},
   "outputs": [],
   "source": [
    "def searchMatrix(matrix, target):\n",
    "    n, m=len(matrix), len(matrix[0])\n",
    "    row, col =0, m-1\n",
    "    while row<n and col>=0:\n",
    "        if matrix[row][col]== target: return True\n",
    "        elif matrix[row][col]< target:\n",
    "            row+=1\n",
    "        else:\n",
    "            col-=1\n",
    "    return False"
   ]
  },
  {
   "cell_type": "markdown",
   "id": "01d54317",
   "metadata": {},
   "source": [
    "# find peak"
   ]
  },
  {
   "cell_type": "code",
   "execution_count": 7,
   "id": "98a3f5a3",
   "metadata": {},
   "outputs": [],
   "source": [
    "def findPeakGrid(matrix):\n",
    "    n,m=len(matrix),len(matrix[0])\n",
    "    low, high= 0, m-1\n",
    "    while low<=high:\n",
    "        mid=(low+high)//2\n",
    "        maxi=-1\n",
    "        row=-1\n",
    "        for k in range(n):\n",
    "            if matrix[k][mid]> maxi:\n",
    "                maxi= matrix[k][mid]\n",
    "                row=k\n",
    "        left = matrix[row][mid-1] if mid-1>=0 else -1\n",
    "        right= matrix[row][mid+1]  if mid+1<m else -1\n",
    "        if maxi>left and maxi> right:\n",
    "            return [row, mid]\n",
    "        elif maxi<left:\n",
    "            high= mid-1\n",
    "        else:\n",
    "            low= mid+1\n",
    "#     return -1"
   ]
  },
  {
   "cell_type": "markdown",
   "id": "36120163",
   "metadata": {},
   "source": [
    "# matrix median"
   ]
  },
  {
   "cell_type": "code",
   "execution_count": 9,
   "id": "7875e9d7",
   "metadata": {},
   "outputs": [],
   "source": [
    "def upperBound(arr, x, n):\n",
    "    low,high = 0, n-1\n",
    "    ans=n\n",
    "    while low <= high:\n",
    "        mid = (low + high) // 2\n",
    "        if arr[mid] > x:\n",
    "            ans = mid\n",
    "            high = mid - 1\n",
    "        else:\n",
    "            low = mid + 1  \n",
    "    return ans\n",
    "def countSmallEqual(matrix, m, n, x):\n",
    "    cnt = 0\n",
    "    for i in range(m):\n",
    "        cnt += upperBound(matrix[i], x, n)\n",
    "    return cnt"
   ]
  },
  {
   "cell_type": "code",
   "execution_count": 10,
   "id": "3ac7c8f5",
   "metadata": {},
   "outputs": [],
   "source": [
    "def median(matrix, m, n):\n",
    "    low = float('inf')\n",
    "    high = float('-inf')\n",
    "\n",
    "    # point low and high to the right elements\n",
    "    for i in range(m):\n",
    "        low = min(low, matrix[i][0])\n",
    "        high = max(high, matrix[i][n - 1])\n",
    "\n",
    "    req = (n * m) // 2\n",
    "    while low <= high:\n",
    "        mid = (low + high) // 2\n",
    "        smallEqual = countSmallEqual(matrix, m, n, mid)\n",
    "        if smallEqual <= req:\n",
    "            low = mid + 1\n",
    "        else:\n",
    "            high = mid - 1\n",
    "\n",
    "    return low"
   ]
  },
  {
   "cell_type": "code",
   "execution_count": null,
   "id": "6e9ee8cc",
   "metadata": {},
   "outputs": [],
   "source": []
  }
 ],
 "metadata": {
  "kernelspec": {
   "display_name": "Python 3 (ipykernel)",
   "language": "python",
   "name": "python3"
  },
  "language_info": {
   "codemirror_mode": {
    "name": "ipython",
    "version": 3
   },
   "file_extension": ".py",
   "mimetype": "text/x-python",
   "name": "python",
   "nbconvert_exporter": "python",
   "pygments_lexer": "ipython3",
   "version": "3.9.13"
  }
 },
 "nbformat": 4,
 "nbformat_minor": 5
}
