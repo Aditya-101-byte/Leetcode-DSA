{
 "cells": [
  {
   "cell_type": "code",
   "execution_count": 1,
   "id": "0f5354b8",
   "metadata": {},
   "outputs": [],
   "source": [
    "# if the search space is till int_max :\n",
    "    # mid= high+low //2 will overflow\n",
    "    \n",
    "# so in this case mid can be assigned as ->         mid = low + (high - low)//2   "
   ]
  },
  {
   "cell_type": "code",
   "execution_count": 24,
   "id": "d1ad1399",
   "metadata": {},
   "outputs": [
    {
     "data": {
      "text/plain": [
       "(6, 3)"
      ]
     },
     "execution_count": 24,
     "metadata": {},
     "output_type": "execute_result"
    }
   ],
   "source": [
    "def upper_bound(arr, k):           # index of the first element greater than k\n",
    "    low, high= 0, len(arr)-1\n",
    "    while low<=high:\n",
    "        mid= (high+low)//2\n",
    "        if arr[mid]<= k:\n",
    "            low= mid+1\n",
    "        else:\n",
    "            ans=mid\n",
    "            high= mid-1\n",
    "    return ans\n",
    "def lower_bound(arr, k):           # index of the first element greater than equal to k\n",
    "    low, high= 0, len(arr)-1\n",
    "    while low<=high:\n",
    "        mid= (high+low)//2\n",
    "        if arr[mid]>=k:\n",
    "            ans=mid\n",
    "            high= mid-1\n",
    "        else:\n",
    "            low= mid+1\n",
    "    return ans\n",
    "upper_bound([2,4,6,8,8,8,10],8),lower_bound([2,4,6,8,8,8,10],8)"
   ]
  },
  {
   "cell_type": "markdown",
   "id": "186a74f1",
   "metadata": {},
   "source": [
    "# find target/min in rotated array"
   ]
  },
  {
   "cell_type": "code",
   "execution_count": 27,
   "id": "e58f2925",
   "metadata": {},
   "outputs": [],
   "source": [
    "def search(arr, k):                                        \n",
    "    low,high= 0, len(arr)-1\n",
    "    while low<=high:\n",
    "        mid=(low+high)//2\n",
    "        if arr[mid]==k: return mid\n",
    "        if arr[mid]<= arr[high]:\n",
    "            if arr[mid]>k:\n",
    "                high=mid-1\n",
    "            elif arr[high]>=k:\n",
    "                low=mid+1\n",
    "            else:\n",
    "                high=mid-1\n",
    "        if arr[mid]>= arr[low]:\n",
    "            if arr[mid]<k:\n",
    "                low=mid+1\n",
    "            elif arr[low]<=k:\n",
    "                high=mid-1\n",
    "            else:\n",
    "                low=mid+1\n",
    "    return -1"
   ]
  },
  {
   "cell_type": "code",
   "execution_count": 28,
   "id": "a53cc64b",
   "metadata": {},
   "outputs": [],
   "source": [
    "def findMin(arr):                                    \n",
    "    low,high= 0, len(arr)-1\n",
    "    mini=arr[0]\n",
    "    while low<=high:\n",
    "        mid=(low+high)//2\n",
    "        if arr[mid]<= arr[high]:\n",
    "            if arr[mid]<mini:\n",
    "                mini=arr[mid]\n",
    "            high=mid-1\n",
    "        else:                  #elif arr[mid]>= arr[low]:\n",
    "            if arr[low]<mini:\n",
    "                mini=arr[low]\n",
    "            low=mid+1\n",
    "    return mini"
   ]
  },
  {
   "cell_type": "markdown",
   "id": "022454c0",
   "metadata": {},
   "source": [
    "# BS_8 find single element in array of doubles"
   ]
  },
  {
   "cell_type": "code",
   "execution_count": 29,
   "id": "422cf441",
   "metadata": {},
   "outputs": [],
   "source": [
    "def singleNonDuplicate(arr):\n",
    "    if len(arr)==1: return arr[0]\n",
    "    if arr[0]!=arr[1]: return arr[0]\n",
    "    if arr[len(arr)-1]!= arr[len(arr)-2]: return arr[len(arr)-1]\n",
    "    low, high= 0, len(arr)-1\n",
    "    while low<=high:\n",
    "        mid= (high+low)//2\n",
    "        print(low,mid,high)\n",
    "        if arr[mid]!= arr[mid-1] and arr[mid]!= arr[mid+1]: return arr[mid]\n",
    "        if (mid%2==0 and arr[mid]== arr[mid+1]) or (mid%2==1 and arr[mid]== arr[mid-1]) :\n",
    "            low= mid+1\n",
    "        else:\n",
    "            high=mid-1\n",
    "    return 0"
   ]
  },
  {
   "cell_type": "markdown",
   "id": "aa38ca5a",
   "metadata": {},
   "source": [
    "# find peak"
   ]
  },
  {
   "cell_type": "code",
   "execution_count": 30,
   "id": "d1588cb0",
   "metadata": {},
   "outputs": [],
   "source": [
    "def findPeakElement(arr):\n",
    "    low,high= 0, len(arr)-1\n",
    "    if len(arr)==1: return 0\n",
    "    if arr[0]>arr[1]: return 0\n",
    "    if arr[len(arr)-1]>arr[len(arr)-2]:  return len(arr)-1\n",
    "    while low<=high:\n",
    "        mid=(low+high)//2\n",
    "        if arr[mid-1]<arr[mid]>arr[mid+1]: return mid\n",
    "        if arr[mid]< arr[mid+1]:\n",
    "            low=mid+1\n",
    "        else:                  #elif arr[mid]>= arr[low]:\n",
    "            high=mid-1"
   ]
  },
  {
   "cell_type": "code",
   "execution_count": 4,
   "id": "f3d05b71",
   "metadata": {},
   "outputs": [
    {
     "data": {
      "text/plain": [
       "[0, 10, 8, 9]"
      ]
     },
     "execution_count": 4,
     "metadata": {},
     "output_type": "execute_result"
    }
   ],
   "source": [
    "[0,10]+ [8,9]"
   ]
  },
  {
   "cell_type": "code",
   "execution_count": null,
   "id": "11ab8715",
   "metadata": {},
   "outputs": [],
   "source": []
  }
 ],
 "metadata": {
  "kernelspec": {
   "display_name": "Python 3 (ipykernel)",
   "language": "python",
   "name": "python3"
  },
  "language_info": {
   "codemirror_mode": {
    "name": "ipython",
    "version": 3
   },
   "file_extension": ".py",
   "mimetype": "text/x-python",
   "name": "python",
   "nbconvert_exporter": "python",
   "pygments_lexer": "ipython3",
   "version": "3.9.13"
  }
 },
 "nbformat": 4,
 "nbformat_minor": 5
}
