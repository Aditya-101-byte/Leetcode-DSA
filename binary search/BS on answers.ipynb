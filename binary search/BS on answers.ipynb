{
 "cells": [
  {
   "cell_type": "markdown",
   "id": "3c1b1702",
   "metadata": {},
   "source": [
    "# root"
   ]
  },
  {
   "cell_type": "code",
   "execution_count": 15,
   "id": "f6165aab",
   "metadata": {},
   "outputs": [
    {
     "data": {
      "text/plain": [
       "14"
      ]
     },
     "execution_count": 15,
     "metadata": {},
     "output_type": "execute_result"
    }
   ],
   "source": [
    "def sqrt(n):\n",
    "    low, high=0, n\n",
    "    while low<high:\n",
    "        mid=(high+low+1)//2\n",
    "        if mid*mid== n: return mid\n",
    "        if mid*mid> n:\n",
    "#             ans=mid-1\n",
    "            high=mid-1\n",
    "        else:\n",
    "#             ans=mid\n",
    "            low=mid\n",
    "    return high\n",
    "sqrt(197)"
   ]
  },
  {
   "cell_type": "code",
   "execution_count": 30,
   "id": "df6cb7ef",
   "metadata": {},
   "outputs": [
    {
     "data": {
      "text/plain": [
       "4"
      ]
     },
     "execution_count": 30,
     "metadata": {},
     "output_type": "execute_result"
    }
   ],
   "source": [
    "def nthrt(n,k):\n",
    "    low, high=0, n\n",
    "    while low<=high:\n",
    "        mid=(high+low)//2\n",
    "        ans=1\n",
    "        for _ in range(k):\n",
    "            ans*=mid\n",
    "        if ans== n: return mid\n",
    "        if ans> n:\n",
    "            high=mid-1\n",
    "        else:\n",
    "            low=mid+1\n",
    "    return -1\n",
    "nthrt(64,3)"
   ]
  },
  {
   "cell_type": "code",
   "execution_count": 29,
   "id": "96b2899c",
   "metadata": {},
   "outputs": [
    {
     "data": {
      "text/plain": [
       "4"
      ]
     },
     "execution_count": 29,
     "metadata": {},
     "output_type": "execute_result"
    }
   ],
   "source": [
    "def nthrt(n,k):\n",
    "    def multiply(mid,n,k):      # here we have optimized the previous solution by introducing a helper function\n",
    "        ans=1                   # this fxn breaks the for loop in the interation it exceeds n saving further iterations\n",
    "        for _ in range(k):\n",
    "            ans*=mid\n",
    "            if ans > n: return 2\n",
    "        if ans==n: return 1\n",
    "        return 0\n",
    "    low, high=0, n\n",
    "    while low<=high:\n",
    "        mid=(high+low)//2\n",
    "        if multiply(mid, n,k)==1:\n",
    "            return mid\n",
    "        elif multiply(mid, n,k)==2 :\n",
    "            high=mid-1\n",
    "        else:\n",
    "            low=mid+1\n",
    "    return -1\n",
    "nthrt(64,3)"
   ]
  },
  {
   "cell_type": "code",
   "execution_count": 33,
   "id": "d4bd0568",
   "metadata": {},
   "outputs": [],
   "source": [
    "# other questions in this playlist are similar to this question"
   ]
  },
  {
   "cell_type": "markdown",
   "id": "cef0e625",
   "metadata": {},
   "source": [
    "# find kth missing number "
   ]
  },
  {
   "cell_type": "code",
   "execution_count": 31,
   "id": "d2d8176c",
   "metadata": {},
   "outputs": [],
   "source": [
    "def findKthPositive(arr,k):\n",
    "    low=0\n",
    "    high= len(arr)-1\n",
    "    while low<=high:\n",
    "        mid=(high+low)//2\n",
    "        if arr[mid]<=k:\n",
    "            k+=mid-low +1\n",
    "            high += min(mid-low+1, len(arr)-1-high)\n",
    "            low=mid+1\n",
    "        else:\n",
    "            high=mid-1\n",
    "    return k\n",
    "\n",
    "def findKthPositive(arr,k):                      # better approach\n",
    "    low=0\n",
    "    high= len(arr)-1\n",
    "    while low<=high:\n",
    "        mid=(high+low)//2\n",
    "        missing= arr[mid]-(mid+1)\n",
    "        if missing<k:\n",
    "            low=mid+1\n",
    "        else:\n",
    "            high=mid-1\n",
    "    return k+ low"
   ]
  },
  {
   "cell_type": "markdown",
   "id": "57e03389",
   "metadata": {},
   "source": [
    "# BS on answers 2 : finding min of max or max of min"
   ]
  },
  {
   "cell_type": "markdown",
   "id": "5c4341a2",
   "metadata": {},
   "source": [
    "# agressive cows"
   ]
  },
  {
   "cell_type": "code",
   "execution_count": 35,
   "id": "0bbd2df6",
   "metadata": {},
   "outputs": [],
   "source": [
    "def maxDistance( arr, m): \n",
    "    def func(arr, mid, m):\n",
    "        cow, sum1= 1, arr[0]\n",
    "        for i in arr[1:]:\n",
    "            if i-sum1>=mid:\n",
    "                cow+=1\n",
    "                if cow>=m: return True\n",
    "                sum1=i\n",
    "        return cow>= m\n",
    "    arr.sort()\n",
    "    low, high= 0, arr[-1]- arr[0]          #define a range first \n",
    "    while low<= high:\n",
    "        mid=(high+low)//2\n",
    "        if func(arr, mid, m):\n",
    "#             ans=mid\n",
    "            low= mid+1\n",
    "        else: high= mid-1\n",
    "    return high"
   ]
  },
  {
   "cell_type": "markdown",
   "id": "464ba65a",
   "metadata": {},
   "source": [
    "# split array max subarray sum // max pages sum "
   ]
  },
  {
   "cell_type": "code",
   "execution_count": 40,
   "id": "67e95c64",
   "metadata": {},
   "outputs": [],
   "source": [
    "def splitArray(nums,k):\n",
    "    def func(arr, mid, k):\n",
    "        pages,student=0,1\n",
    "        for i in arr:\n",
    "            if i + pages <= mid: pages+=i\n",
    "            else:\n",
    "                student+=1\n",
    "                pages= i\n",
    "        return student > k\n",
    "    low=max(nums)\n",
    "    high= sum(nums)\n",
    "    while low<=high:\n",
    "        mid=(high+low)//2\n",
    "        if func(nums, mid, k):\n",
    "            low=mid+1\n",
    "        else: high= mid-1\n",
    "    return low"
   ]
  },
  {
   "cell_type": "markdown",
   "id": "86213736",
   "metadata": {},
   "source": [
    "# gas station"
   ]
  },
  {
   "cell_type": "code",
   "execution_count": 57,
   "id": "fff677d2",
   "metadata": {},
   "outputs": [
    {
     "data": {
      "text/plain": [
       "12.0"
      ]
     },
     "execution_count": 57,
     "metadata": {},
     "output_type": "execute_result"
    }
   ],
   "source": [
    "def gas(arr, k):\n",
    "    howmany=[0]*(len(arr)-1)\n",
    "    for i in range(1, k+1):                 # i ---> 1 to k both inclusive\n",
    "        maxind=-1\n",
    "        maxval=-1\n",
    "        for j in range(len(arr)-1):\n",
    "            diff= arr[j+1]- arr[j]\n",
    "            val= diff/(howmany[j]+1)\n",
    "            if val> maxval:\n",
    "                maxval=val\n",
    "                maxind= j\n",
    "        howmany[maxind]+=1\n",
    "    ans=-1\n",
    "    for i in range(len(arr)-1):\n",
    "        diff= (arr[i+1]- arr[i])/(howmany[i]+1)\n",
    "        if diff> ans:\n",
    "            ans=diff\n",
    "    return ans\n",
    "gas([1,13,15,27,30,35,50], 1)\n",
    "        "
   ]
  },
  {
   "cell_type": "code",
   "execution_count": 20,
   "id": "4e602948",
   "metadata": {},
   "outputs": [
    {
     "name": "stdout",
     "output_type": "stream",
     "text": [
      "[(-11, 3), (-9, 0), (-1, 2), (7, 1)]\n",
      "[(-9, 0), (-5.5, 3), (-1, 2), (7, 1)]\n",
      "[(-5.5, 3), (-4.5, 0), (-1, 2), (7, 1)]\n",
      "[(-4.5, 0), (-3.6666666666666665, 3), (-1, 2), (7, 1)]\n",
      "[(-3.6666666666666665, 3), (-3.0, 0), (-1, 2), (7, 1)]\n"
     ]
    },
    {
     "data": {
      "text/plain": [
       "3.6666666666666665"
      ]
     },
     "execution_count": 20,
     "metadata": {},
     "output_type": "execute_result"
    }
   ],
   "source": [
    "import heapq                  # the time complexity of pushing in a heap is logn so the total tc of this func is nlogn + klogn\n",
    "def gas(arr,k):\n",
    "    n=len(arr)\n",
    "    howmany=[0]*(n-1)\n",
    "    heap=[]\n",
    "    for i in range(n-1):                             #------------------> nlogn\n",
    "        heapq.heappush(heap, ((arr[i+1]-arr[i])*-1, i))\n",
    "    print(heap) \n",
    "    for i in range(1,k+1):                                #------------->klogn\n",
    "        top= heapq.heappop(heap)\n",
    "        ind= top[1]\n",
    "        howmany[ind]+=1\n",
    "        heapq.heappush(heap,(-1*(arr[ind+1]-arr[ind])/(howmany[ind]+1), ind)) \n",
    "        print(heap)\n",
    "    return heap[0][0]*(-1)\n",
    "\n",
    "gas([1, 10, 3, 4, 15], 4)"
   ]
  },
  {
   "cell_type": "code",
   "execution_count": 21,
   "id": "88bcaf85",
   "metadata": {},
   "outputs": [
    {
     "data": {
      "text/plain": [
       "'The binary search method for this reduces the space complexity but very complicated and unnecessary.\\nThis problem is typically not a binary search problem.'"
      ]
     },
     "execution_count": 21,
     "metadata": {},
     "output_type": "execute_result"
    }
   ],
   "source": [
    "\"\"\"The binary search method for this reduces the space complexity but very complicated and unnecessary.\n",
    "This problem is typically not a binary search problem.\"\"\""
   ]
  },
  {
   "cell_type": "markdown",
   "id": "e35a6a1a",
   "metadata": {},
   "source": [
    "# median using time complexity--> min( O(log(n)), O(log(m)) )"
   ]
  },
  {
   "cell_type": "code",
   "execution_count": 1,
   "id": "2b81442e",
   "metadata": {},
   "outputs": [],
   "source": [
    "def median(arr1, arr2):\n",
    "   n1, n2= len(arr1), len(arr2)\n",
    "   if n2<n1: return median(arr2,arr1)\n",
    "   low, high= 0, n1\n",
    "   k= (n1+n2+1)//2\n",
    "   while low<=high:\n",
    "        mid1= (high+low)//2\n",
    "        mid2= k-mid1\n",
    "        l1 = arr1[mid1 - 1] if mid1 > 0 else float('-inf')\n",
    "        l2 = arr2[mid2 - 1] if mid2 > 0 else float('-inf')\n",
    "        r1 = arr1[mid1] if mid1 < n1 else float('inf')\n",
    "        r2 = arr2[mid2] if mid2 < n2 else float('inf')\n",
    "\n",
    "        if l1>r2:\n",
    "            high= mid1-1\n",
    "        elif l2> r1:\n",
    "            low= mid1+1\n",
    "        else:\n",
    "            if (n1+n2)%2: return max(l1, l2)\n",
    "            else: return (max(l1,l2)+ min(r1, r2))/2"
   ]
  },
  {
   "cell_type": "code",
   "execution_count": 51,
   "id": "4819c297",
   "metadata": {},
   "outputs": [
    {
     "data": {
      "text/plain": [
       "10.0"
      ]
     },
     "execution_count": 51,
     "metadata": {},
     "output_type": "execute_result"
    }
   ],
   "source": [
    "median([7,12,14,15,15,66], [1,2,3,4,9,11])"
   ]
  },
  {
   "cell_type": "code",
   "execution_count": 5,
   "id": "660b6517",
   "metadata": {},
   "outputs": [],
   "source": [
    "def kth(arr1, arr2,k):\n",
    "   n1, n2= len(arr1), len(arr2)\n",
    "   if n2<n1: return kth(arr2,arr1,k)\n",
    "   low, high= max(0, k-n2), min(k, n1)\n",
    "   while low<=high:\n",
    "        mid1= (high+low)//2\n",
    "        mid2= k-mid1\n",
    "        l1 = arr1[mid1 - 1] if mid1 > 0 else float('-inf')\n",
    "        l2 = arr2[mid2 - 1] if mid2 > 0 else float('-inf')\n",
    "        r1 = arr1[mid1] if mid1 < n1 else float('inf')\n",
    "        r2 = arr2[mid2] if mid2 < n2 else float('inf')\n",
    "\n",
    "        if l1>r2:\n",
    "            high= mid1-1\n",
    "        elif l2> r1:\n",
    "            low= mid1+1\n",
    "        else:\n",
    "            return max(l1, l2)\n",
    "            "
   ]
  },
  {
   "cell_type": "code",
   "execution_count": 11,
   "id": "7c45bae5",
   "metadata": {},
   "outputs": [
    {
     "data": {
      "text/plain": [
       "66"
      ]
     },
     "execution_count": 11,
     "metadata": {},
     "output_type": "execute_result"
    }
   ],
   "source": [
    "kth([7,12,14,15,15,66], [1,2,3,4,9,11], 12)"
   ]
  }
 ],
 "metadata": {
  "kernelspec": {
   "display_name": "Python 3 (ipykernel)",
   "language": "python",
   "name": "python3"
  },
  "language_info": {
   "codemirror_mode": {
    "name": "ipython",
    "version": 3
   },
   "file_extension": ".py",
   "mimetype": "text/x-python",
   "name": "python",
   "nbconvert_exporter": "python",
   "pygments_lexer": "ipython3",
   "version": "3.9.13"
  }
 },
 "nbformat": 4,
 "nbformat_minor": 5
}
