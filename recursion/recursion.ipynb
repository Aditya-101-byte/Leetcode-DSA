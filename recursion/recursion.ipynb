{
 "cells": [
  {
   "cell_type": "code",
   "execution_count": 11,
   "id": "1159a612",
   "metadata": {},
   "outputs": [],
   "source": [
    "def Print(n):\n",
    "    if n==0:\n",
    "        return\n",
    "    print(n)\n",
    "    Print(n-1)\n",
    "    "
   ]
  },
  {
   "cell_type": "code",
   "execution_count": 12,
   "id": "b97ffa56",
   "metadata": {},
   "outputs": [
    {
     "name": "stdout",
     "output_type": "stream",
     "text": [
      "5\n",
      "4\n",
      "3\n",
      "2\n",
      "1\n"
     ]
    }
   ],
   "source": [
    "Print(5)"
   ]
  },
  {
   "cell_type": "code",
   "execution_count": 19,
   "id": "b26a4869",
   "metadata": {},
   "outputs": [],
   "source": [
    "def fac(n):\n",
    "    if n==1:\n",
    "        return 1\n",
    "    return n*fac(n-1)"
   ]
  },
  {
   "cell_type": "code",
   "execution_count": 20,
   "id": "cb4c2ce4",
   "metadata": {},
   "outputs": [
    {
     "data": {
      "text/plain": [
       "120"
      ]
     },
     "execution_count": 20,
     "metadata": {},
     "output_type": "execute_result"
    }
   ],
   "source": [
    "fac(5)"
   ]
  },
  {
   "cell_type": "code",
   "execution_count": 67,
   "id": "fc7ba562",
   "metadata": {},
   "outputs": [],
   "source": [
    "def insert(arr, temp):\n",
    "    if len(arr)==0 or temp>= arr[-1]:\n",
    "        arr.append(temp)\n",
    "        return\n",
    "    value= arr[-1]\n",
    "    arr.pop()\n",
    "    insert(arr, temp)\n",
    "    arr.append(value)\n",
    "    return \n",
    "    \n",
    "def sort(arr):\n",
    "    if len(arr)==1:\n",
    "        return\n",
    "    temp= arr[-1]\n",
    "    arr.pop()\n",
    "    sort (arr)\n",
    "    insert(arr, temp)\n",
    "    return arr\n",
    "    "
   ]
  },
  {
   "cell_type": "code",
   "execution_count": 68,
   "id": "4cbd1409",
   "metadata": {},
   "outputs": [
    {
     "data": {
      "text/plain": [
       "[0, 1, 2, 3, 4, 6, 7]"
      ]
     },
     "execution_count": 68,
     "metadata": {},
     "output_type": "execute_result"
    }
   ],
   "source": [
    "abc= [1,4,6,3,7,2,0]\n",
    "sort(abc)"
   ]
  },
  {
   "cell_type": "code",
   "execution_count": 19,
   "id": "879db1ec",
   "metadata": {},
   "outputs": [],
   "source": []
  },
  {
   "cell_type": "code",
   "execution_count": 102,
   "id": "de908d9a",
   "metadata": {},
   "outputs": [],
   "source": [
    "new= Stack()\n",
    "new.push(5)\n",
    "new.push(6)\n",
    "new.push(4)\n",
    "new.push(1)\n",
    "new.push(8)\n",
    "new.push(0)\n",
    "new.push(-2)"
   ]
  },
  {
   "cell_type": "code",
   "execution_count": 95,
   "id": "7dec528c",
   "metadata": {},
   "outputs": [
    {
     "data": {
      "text/plain": [
       "Stack([-2, 0, 1, 4, 5, 6, 8])"
      ]
     },
     "execution_count": 95,
     "metadata": {},
     "output_type": "execute_result"
    }
   ],
   "source": [
    "sort1(new)"
   ]
  },
  {
   "cell_type": "code",
   "execution_count": 87,
   "id": "06653b25",
   "metadata": {},
   "outputs": [],
   "source": [
    "def insert1(arr, temp):\n",
    "    # Check if stack is empty or if temp should be inserted on top\n",
    "    if arr.is_empty() or temp >= arr.peek():\n",
    "        arr.push(temp)\n",
    "        return\n",
    "    # If temp is less than top, move the top element\n",
    "    value = arr.pop()\n",
    "    insert1(arr, temp)\n",
    "    # Push the element back once insertion is done\n",
    "    arr.push(value)\n",
    "\n",
    "\n",
    "def sort1(arr):\n",
    "    if arr.size() <= 1:\n",
    "        return\n",
    "    temp = arr.pop()\n",
    "    sort1(arr)\n",
    "    insert1(arr, temp)\n",
    "    return arr"
   ]
  },
  {
   "cell_type": "code",
   "execution_count": 96,
   "id": "54987d33",
   "metadata": {},
   "outputs": [],
   "source": [
    "def middle(arr,k):\n",
    "    if k==1:\n",
    "        arr.pop()\n",
    "        return\n",
    "    temp = arr.pop()\n",
    "    middle(arr, k-1)\n",
    "    arr.push(temp)\n",
    "    return arr\n",
    "    "
   ]
  },
  {
   "cell_type": "code",
   "execution_count": 100,
   "id": "4f4275b2",
   "metadata": {},
   "outputs": [
    {
     "data": {
      "text/plain": [
       "Stack([-2, 0, 1, 6, 8])"
      ]
     },
     "execution_count": 100,
     "metadata": {},
     "output_type": "execute_result"
    }
   ],
   "source": [
    "middle(new, 3)"
   ]
  },
  {
   "cell_type": "code",
   "execution_count": 99,
   "id": "9a25a05d",
   "metadata": {},
   "outputs": [
    {
     "data": {
      "text/plain": [
       "Stack([-2, 0, 1, 4, 6, 8])"
      ]
     },
     "execution_count": 99,
     "metadata": {},
     "output_type": "execute_result"
    }
   ],
   "source": [
    "new"
   ]
  },
  {
   "cell_type": "code",
   "execution_count": 101,
   "id": "6aa9820b",
   "metadata": {},
   "outputs": [],
   "source": [
    "def reverse( arr):\n",
    "    if arr.size()<=1:\n",
    "        return\n",
    "    temp = arr.pop()\n",
    "    reverse(arr)\n",
    "    arr.push(temp)\n",
    "    return arr"
   ]
  },
  {
   "cell_type": "code",
   "execution_count": 103,
   "id": "8f7783f3",
   "metadata": {},
   "outputs": [
    {
     "data": {
      "text/plain": [
       "Stack([5, 6, 4, 1, 8, 0, -2])"
      ]
     },
     "execution_count": 103,
     "metadata": {},
     "output_type": "execute_result"
    }
   ],
   "source": [
    "reverse(new)"
   ]
  },
  {
   "cell_type": "code",
   "execution_count": 2,
   "id": "93661190",
   "metadata": {},
   "outputs": [],
   "source": [
    "def solve(n,k):\n",
    "    if n==1 and k==1:\n",
    "        return 0\n",
    "    if k<= 2**(n-2):   \n",
    "        print(solve(n-1,k))\n",
    "        return solve(n-1,k)\n",
    "        \n",
    "    else:\n",
    "        return ~solve(n-1, k-2**(n-2))"
   ]
  },
  {
   "cell_type": "code",
   "execution_count": 3,
   "id": "66ec1da1",
   "metadata": {},
   "outputs": [
    {
     "name": "stdout",
     "output_type": "stream",
     "text": [
      "0\n"
     ]
    },
    {
     "data": {
      "text/plain": [
       "0"
      ]
     },
     "execution_count": 3,
     "metadata": {},
     "output_type": "execute_result"
    }
   ],
   "source": [
    "solve(2,1)"
   ]
  },
  {
   "cell_type": "code",
   "execution_count": 46,
   "id": "c0d777a0",
   "metadata": {},
   "outputs": [],
   "source": [
    "\n",
    "def hanoi( n, a, b, c,count):\n",
    "    \n",
    "    if n==0:\n",
    "#   if n==1:\n",
    "#       print(f\" shift {n} from {a} to {c} \")        \n",
    "        return count\n",
    "    \n",
    "    hanoi(n-1, a,c,b,count)\n",
    "    print(f\" shift {n} from {a} to {b} \")\n",
    "    count[0] +=1\n",
    "    \n",
    "    hanoi(n-1, b,a,c,count)\n",
    "    \n",
    "    return count\n",
    "    "
   ]
  },
  {
   "cell_type": "code",
   "execution_count": 47,
   "id": "51e00e38",
   "metadata": {},
   "outputs": [
    {
     "name": "stdout",
     "output_type": "stream",
     "text": [
      " shift 1 from 1 to 3 \n",
      " shift 2 from 1 to 2 \n",
      " shift 1 from 2 to 1 \n",
      " shift 3 from 1 to 3 \n",
      " shift 1 from 3 to 2 \n",
      " shift 2 from 3 to 1 \n",
      " shift 1 from 1 to 3 \n",
      " shift 4 from 1 to 2 \n",
      " shift 1 from 2 to 1 \n",
      " shift 2 from 2 to 3 \n",
      " shift 1 from 3 to 2 \n",
      " shift 3 from 2 to 1 \n",
      " shift 1 from 1 to 3 \n",
      " shift 2 from 1 to 2 \n",
      " shift 1 from 2 to 1 \n"
     ]
    },
    {
     "data": {
      "text/plain": [
       "[15]"
      ]
     },
     "execution_count": 47,
     "metadata": {},
     "output_type": "execute_result"
    }
   ],
   "source": [
    "hanoi(4, 1,2,3, [0])\n"
   ]
  },
  {
   "cell_type": "code",
   "execution_count": 38,
   "id": "da756064",
   "metadata": {},
   "outputs": [
    {
     "data": {
      "text/plain": [
       "0"
      ]
     },
     "execution_count": 38,
     "metadata": {},
     "output_type": "execute_result"
    }
   ],
   "source": [
    "count"
   ]
  },
  {
   "cell_type": "code",
   "execution_count": 40,
   "id": "06436a80",
   "metadata": {},
   "outputs": [
    {
     "name": "stdout",
     "output_type": "stream",
     "text": [
      "['', 'c', 'b', 'bc', 'b', 'bc', 'bb', 'bbc', 'a', 'ac', 'ab', 'abc', 'ab', 'abc', 'abb', 'abbc']\n"
     ]
    }
   ],
   "source": [
    "def subsets(ip,op):\n",
    "        if len(ip)==0:\n",
    "            return [op]\n",
    "        k=[]\n",
    "        op1= op\n",
    "        op2= op\n",
    "        op2+= ip[0]\n",
    "        \n",
    "        k.extend(subsets(ip[1:], op1))\n",
    "        k.extend(subsets(ip[1:], op2))\n",
    "        \n",
    "        return k \n",
    "print(subsets(\"abbc\", \"\"))"
   ]
  },
  {
   "cell_type": "code",
   "execution_count": 19,
   "id": "97d0075c",
   "metadata": {},
   "outputs": [
    {
     "data": {
      "text/plain": [
       "[[2, 3, -1], [1, 3]]"
      ]
     },
     "execution_count": 19,
     "metadata": {},
     "output_type": "execute_result"
    }
   ],
   "source": [
    "def arsub(arr, ip, sum1):                  #return subsequences with sum k\n",
    "    if len(arr)==0:\n",
    "        if sum(ip)==sum1:\n",
    "            return [ip]\n",
    "        else: return []\n",
    "    k=[]\n",
    "    k.extend(arsub(arr[1:], ip, sum1))\n",
    "    k.extend(arsub(arr[1:], ip+[arr[0]], sum1))\n",
    "    return k\n",
    "arsub([1,2,3,-1], [], 4)"
   ]
  },
  {
   "cell_type": "code",
   "execution_count": 55,
   "id": "7b198b6c",
   "metadata": {},
   "outputs": [
    {
     "data": {
      "text/plain": [
       "5"
      ]
     },
     "execution_count": 55,
     "metadata": {},
     "output_type": "execute_result"
    }
   ],
   "source": [
    "def arsub2(index, arr,  sum1, s):            # return numbe rof subsequences\n",
    "    if index== len(arr):\n",
    "        if s== sum1:\n",
    "            return 1\n",
    "        else: return 0\n",
    "    s+=arr[index]\n",
    "    left=  arsub2(index+1,arr,sum1,s )\n",
    "    s-=arr[index]\n",
    "    right= arsub2(index+1,arr,sum1,s)\n",
    "    return left+right\n",
    "arsub2(0, [1,1,2,3,-1], 4, 0) "
   ]
  },
  {
   "cell_type": "code",
   "execution_count": 41,
   "id": "24dd666e",
   "metadata": {},
   "outputs": [
    {
     "name": "stdout",
     "output_type": "stream",
     "text": [
      "[1, 1]\n"
     ]
    },
    {
     "data": {
      "text/plain": [
       "True"
      ]
     },
     "execution_count": 41,
     "metadata": {},
     "output_type": "execute_result"
    }
   ],
   "source": [
    "def arsub2(index, arr, ds, sum1, s):            # to print only one answer\n",
    "    if index== len(arr):\n",
    "        if s== sum1:\n",
    "            print(ds)\n",
    "            return True\n",
    "        else: return False\n",
    "    ds.append(arr[index])\n",
    "    s+=arr[index]\n",
    "    if arsub2(index+1,arr,ds,sum1,s ):\n",
    "        return True\n",
    "    s-=arr[index]\n",
    "    ds.pop()\n",
    "    if arsub2(index+1,arr,ds,sum1,s):\n",
    "        return True\n",
    "    return False\n",
    "arsub2(0, [1,1,2,3,-1], [], 2, 0)    "
   ]
  },
  {
   "cell_type": "code",
   "execution_count": 3,
   "id": "cdbb1cab",
   "metadata": {},
   "outputs": [],
   "source": [
    "def subset_uniq(ip, op, uni):\n",
    "    if uni is None:\n",
    "        uni= set()\n",
    "    if len(ip) ==0:\n",
    "        uni.add(op)\n",
    "        return \n",
    "    subset_uniq(ip[1:], op, uni)\n",
    "    subset_uniq(ip[1:], op+ip[0], uni)\n",
    "    return uni"
   ]
  },
  {
   "cell_type": "code",
   "execution_count": 4,
   "id": "d9ebb27b",
   "metadata": {},
   "outputs": [
    {
     "data": {
      "text/plain": [
       "{'', 'a', 'ab', 'abb', 'abbc', 'abc', 'ac', 'b', 'bb', 'bbc', 'bc', 'c'}"
      ]
     },
     "execution_count": 4,
     "metadata": {},
     "output_type": "execute_result"
    }
   ],
   "source": [
    "subset_uniq(\"abbc\", \"\", None)"
   ]
  },
  {
   "cell_type": "code",
   "execution_count": 5,
   "id": "e76d9dac",
   "metadata": {},
   "outputs": [],
   "source": [
    "x=\"\""
   ]
  },
  {
   "cell_type": "code",
   "execution_count": 6,
   "id": "8033938c",
   "metadata": {},
   "outputs": [
    {
     "data": {
      "text/plain": [
       "''"
      ]
     },
     "execution_count": 6,
     "metadata": {},
     "output_type": "execute_result"
    }
   ],
   "source": [
    "x[1:]"
   ]
  },
  {
   "cell_type": "code",
   "execution_count": 41,
   "id": "d01288dd",
   "metadata": {},
   "outputs": [],
   "source": [
    "def powerset(sub, op):\n",
    "    if len(sub)==0:\n",
    "        return [op]\n",
    "    x= sub[0]\n",
    "    k=[]\n",
    "    k+=powerset(sub[1:], op)\n",
    "    k+=powerset(sub[1:], op+x)\n",
    "    return k\n",
    "    "
   ]
  },
  {
   "cell_type": "code",
   "execution_count": 106,
   "id": "1820c7f9",
   "metadata": {},
   "outputs": [
    {
     "data": {
      "text/plain": [
       "['', 'b', 'c', 'cb', 'a', 'ab', 'ac', 'acb']"
      ]
     },
     "execution_count": 106,
     "metadata": {},
     "output_type": "execute_result"
    }
   ],
   "source": [
    "powerset(['a','c', 'b'],\"\")"
   ]
  },
  {
   "cell_type": "code",
   "execution_count": 25,
   "id": "8c12f395",
   "metadata": {},
   "outputs": [],
   "source": [
    "def unip(sub, op, uni):\n",
    "    if uni is None:\n",
    "        uni= set()\n",
    "    if len(sub)==0:\n",
    "        uni.add(op)\n",
    "        return\n",
    "    x= sub[0]\n",
    "    \n",
    "    unip(sub[1:], op, uni)\n",
    "    unip(sub[1:], op+x, uni) \n",
    "    \n",
    "    return uni\n",
    "    "
   ]
  },
  {
   "cell_type": "code",
   "execution_count": 26,
   "id": "09e46a27",
   "metadata": {},
   "outputs": [
    {
     "data": {
      "text/plain": [
       "{'', 'a', 'ac', 'acc', 'c', 'cc'}"
      ]
     },
     "execution_count": 26,
     "metadata": {},
     "output_type": "execute_result"
    }
   ],
   "source": [
    "unip(['a','c', 'c'],\"\",None)"
   ]
  },
  {
   "cell_type": "code",
   "execution_count": 96,
   "id": "96b14f14",
   "metadata": {},
   "outputs": [],
   "source": [
    "def spaces(ip,op):\n",
    "    if len(ip)==0:\n",
    "        return [op]\n",
    "    \n",
    "    k=[]\n",
    "    op2=op+(ip[0])\n",
    "    k.extend(spaces(ip[1:], op2))\n",
    "    op1=op+(\"-\")+ip[0]\n",
    "    k.extend(spaces(ip[1:],op1) )\n",
    "    \n",
    "    return k\n",
    "    \n",
    "    \n"
   ]
  },
  {
   "cell_type": "code",
   "execution_count": 97,
   "id": "9e1a47eb",
   "metadata": {},
   "outputs": [
    {
     "data": {
      "text/plain": [
       "['abcd', 'abc-d', 'ab-cd', 'ab-c-d', 'a-bcd', 'a-bc-d', 'a-b-cd', 'a-b-c-d']"
      ]
     },
     "execution_count": 97,
     "metadata": {},
     "output_type": "execute_result"
    }
   ],
   "source": [
    "spaces(\"bcd\", \"a\")"
   ]
  },
  {
   "cell_type": "code",
   "execution_count": 109,
   "id": "3c71b50c",
   "metadata": {},
   "outputs": [],
   "source": [
    "def spaces(ip,op):\n",
    "    if len(ip)==0:\n",
    "        return [op]\n",
    "    \n",
    "    k=[]\n",
    "    op2=op+(ip[0])\n",
    "    k.extend(spaces(ip[1:], op2))\n",
    "    op1=op+ip[0].upper()\n",
    "    k.extend(spaces(ip[1:],op1) )\n",
    "    \n",
    "    return k\n",
    "    "
   ]
  },
  {
   "cell_type": "code",
   "execution_count": 115,
   "id": "e912ee7c",
   "metadata": {},
   "outputs": [
    {
     "data": {
      "text/plain": [
       "['abc', 'abC', 'aBc', 'aBC', 'Abc', 'AbC', 'ABc', 'ABC']"
      ]
     },
     "execution_count": 115,
     "metadata": {},
     "output_type": "execute_result"
    }
   ],
   "source": [
    "spaces(\"abc\",\"\")"
   ]
  },
  {
   "cell_type": "code",
   "execution_count": null,
   "id": "6fbc610c",
   "metadata": {},
   "outputs": [],
   "source": []
  }
 ],
 "metadata": {
  "kernelspec": {
   "display_name": "Python 3 (ipykernel)",
   "language": "python",
   "name": "python3"
  },
  "language_info": {
   "codemirror_mode": {
    "name": "ipython",
    "version": 3
   },
   "file_extension": ".py",
   "mimetype": "text/x-python",
   "name": "python",
   "nbconvert_exporter": "python",
   "pygments_lexer": "ipython3",
   "version": "3.9.13"
  }
 },
 "nbformat": 4,
 "nbformat_minor": 5
}
