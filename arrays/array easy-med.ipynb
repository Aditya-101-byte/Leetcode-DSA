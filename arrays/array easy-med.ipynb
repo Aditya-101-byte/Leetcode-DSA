{
 "cells": [
  {
   "cell_type": "code",
   "execution_count": 157,
   "id": "0a9b7f51",
   "metadata": {},
   "outputs": [
    {
     "data": {
      "text/plain": [
       "9"
      ]
     },
     "execution_count": 157,
     "metadata": {},
     "output_type": "execute_result"
    }
   ],
   "source": [
    "def find(arr):\n",
    "    lar=arr[0]\n",
    "    slar= -1\n",
    "    for i in range(1,len(arr)):\n",
    "        if arr[i]>lar:\n",
    "            slar=lar\n",
    "            lar= arr[i]\n",
    "        elif arr[i]>slar:\n",
    "            slar= arr[i]\n",
    "    return slar\n",
    "find([1,4,0,9,6,2,55,7])"
   ]
  },
  {
   "cell_type": "code",
   "execution_count": 158,
   "id": "75e46265",
   "metadata": {},
   "outputs": [
    {
     "data": {
      "text/plain": [
       "5"
      ]
     },
     "execution_count": 158,
     "metadata": {},
     "output_type": "execute_result"
    }
   ],
   "source": [
    "def uniq(arr):                                     #2pointer\n",
    "    i=0\n",
    "    for j in range(1, len(arr)):\n",
    "        if arr[j]>arr[i]:\n",
    "            arr[i+1]= arr[j]\n",
    "            i+=1\n",
    "    return i+1\n",
    "uniq([0,0,4,5,6,6,7,7,7])"
   ]
  },
  {
   "cell_type": "code",
   "execution_count": 159,
   "id": "3fdd5946",
   "metadata": {},
   "outputs": [
    {
     "data": {
      "text/plain": [
       "[0, 0, 4]"
      ]
     },
     "execution_count": 159,
     "metadata": {},
     "output_type": "execute_result"
    }
   ],
   "source": [
    "[0,0,4,5,6,6,7,7,7][:3]"
   ]
  },
  {
   "cell_type": "code",
   "execution_count": 160,
   "id": "4182f630",
   "metadata": {},
   "outputs": [
    {
     "data": {
      "text/plain": [
       "[6, 7, 7, 7, 0, 0, 4, 5, 6]"
      ]
     },
     "execution_count": 160,
     "metadata": {},
     "output_type": "execute_result"
    }
   ],
   "source": [
    "def rotate(arr,k):\n",
    "    k=k%len(arr)\n",
    "    new=arr[:k]\n",
    "    for i in range(len(arr)-k):\n",
    "        arr[i]= arr[i+k]\n",
    "    for i in range(k):\n",
    "        arr[i+k-1]= new[i] \n",
    "    return arr\n",
    "rotate([0,0,4,5,6,6,7,7,7], 5)"
   ]
  },
  {
   "cell_type": "code",
   "execution_count": 161,
   "id": "2ec863c3",
   "metadata": {},
   "outputs": [
    {
     "data": {
      "text/plain": [
       "[6, 7, 7, 7, 6, 0, 0, 4, 5]"
      ]
     },
     "execution_count": 161,
     "metadata": {},
     "output_type": "execute_result"
    }
   ],
   "source": [
    "def rotate(arr,k): #optimal space complexity\n",
    "    arr[:k-1]= reversed(arr[:k-1] )\n",
    "    arr[k:]= reversed(arr[k:])\n",
    "    return arr[::-1]\n",
    "\n",
    "rotate([0,0,4,5,6,6,7,7,7], 5)"
   ]
  },
  {
   "cell_type": "code",
   "execution_count": 21,
   "id": "0906672b",
   "metadata": {},
   "outputs": [
    {
     "data": {
      "text/plain": [
       "[7, 7, 7, 6, 6, 5, 4, 0, 0]"
      ]
     },
     "execution_count": 21,
     "metadata": {},
     "output_type": "execute_result"
    }
   ],
   "source": [
    "def rev(arr):\n",
    "    for i in range(len(arr)//2):\n",
    "        arr[i], arr[len(arr)-1-i]= arr[len(arr)-1-i], arr[i]\n",
    "    return arr\n",
    "rev([0,0,4,5,6,6,7,7,7])"
   ]
  },
  {
   "cell_type": "code",
   "execution_count": 163,
   "id": "ed9d2fcc",
   "metadata": {},
   "outputs": [
    {
     "data": {
      "text/plain": [
       "[4, 5, 6, 6, 7, 7, 7, 0, 0]"
      ]
     },
     "execution_count": 163,
     "metadata": {},
     "output_type": "execute_result"
    }
   ],
   "source": [
    "def endzero(arr):\n",
    "    count=0\n",
    "    for i in range(len(arr)):\n",
    "        if arr[i]==0:\n",
    "            count+=1\n",
    "        else:\n",
    "            arr[i-count]= arr[i]\n",
    "    for i in range(len(arr)-count, len(arr)):\n",
    "        arr[i]=0\n",
    "    return arr\n",
    "endzero([0,0,4,5,6,6,7,7,7])   "
   ]
  },
  {
   "cell_type": "code",
   "execution_count": 164,
   "id": "7a3df0a9",
   "metadata": {},
   "outputs": [
    {
     "data": {
      "text/plain": [
       "[4, 5, 6, 6, 7, 7, 7, 0, 0, 0]"
      ]
     },
     "execution_count": 164,
     "metadata": {},
     "output_type": "execute_result"
    }
   ],
   "source": [
    "def find(arr):\n",
    "    j=-1\n",
    "    for i in range(len(arr)):\n",
    "        if arr[i]==0:\n",
    "            j=i\n",
    "            i+=1\n",
    "            break\n",
    "    while i<len(arr):\n",
    "        if arr[j]==0 and arr[i]!=0:\n",
    "            arr[i],arr[j]= arr[j], arr[i]\n",
    "            i+=1\n",
    "            j+=1\n",
    "        else:\n",
    "            i+=1\n",
    "    return arr\n",
    "find([0,0,4,5,6,0,6,7,7,7])"
   ]
  },
  {
   "cell_type": "code",
   "execution_count": 165,
   "id": "f2a9a0c4",
   "metadata": {},
   "outputs": [
    {
     "data": {
      "text/plain": [
       "[0, 0, 1, 3, 4, 5, 5, 6, 6, 7, 7, 7, 7, 7, 9, 10]"
      ]
     },
     "execution_count": 165,
     "metadata": {},
     "output_type": "execute_result"
    }
   ],
   "source": [
    "def unions(arr1, arr2):        # choose the variables corectly arr arr1 and arr2 you always make mistakes\n",
    "    new=[]\n",
    "    i,j=0,0\n",
    "    while i< len(arr1) and j< len(arr2):\n",
    "        if arr1[i]<=arr2[j]:\n",
    "            new.append(arr1[i])\n",
    "            i+=1\n",
    "        else:\n",
    "            new.append(arr2[j])\n",
    "            j+=1\n",
    "    while i<len(arr1):\n",
    "        new.append(arr1[i])\n",
    "        i+=1\n",
    "\n",
    "    while j<len(arr2):\n",
    "        new.append(arr2[j])  \n",
    "        j+=1\n",
    "    return new\n",
    "\n",
    "unions([0,0,4,5,6,6,7,7,7], [1,3,5,7,7,9,10])"
   ]
  },
  {
   "cell_type": "code",
   "execution_count": 166,
   "id": "4e2af35e",
   "metadata": {},
   "outputs": [
    {
     "data": {
      "text/plain": [
       "[5, 7, 7]"
      ]
     },
     "execution_count": 166,
     "metadata": {},
     "output_type": "execute_result"
    }
   ],
   "source": [
    "def intersect( arr1, arr2):\n",
    "    new=[]\n",
    "    i,j=0,0\n",
    "    while i< len(arr1) and j< len(arr2):\n",
    "        if arr1[i]==arr2[j]:\n",
    "            new.append(arr1[i])\n",
    "            i+=1\n",
    "            j+=1\n",
    "        elif arr1[i]< arr2[j]:            \n",
    "            i+=1\n",
    "        else:\n",
    "            j+=1\n",
    "    return new\n",
    "intersect([0,0,4,5,6,6,7,7,7], [1,3,5,7,7,9,10])  "
   ]
  },
  {
   "cell_type": "code",
   "execution_count": 167,
   "id": "f3094aa2",
   "metadata": {},
   "outputs": [
    {
     "data": {
      "text/plain": [
       "3"
      ]
     },
     "execution_count": 167,
     "metadata": {},
     "output_type": "execute_result"
    }
   ],
   "source": [
    "def cons1(arr):\n",
    "    n = len(arr)\n",
    "    maxi = 0\n",
    "    co=0\n",
    "    for i in range(n):\n",
    "        if arr[i]==1:\n",
    "            co+=1\n",
    "            maxi= max(maxi, co)\n",
    "        else: co=0\n",
    "    return maxi\n",
    "cons1([1,1,1])"
   ]
  },
  {
   "cell_type": "code",
   "execution_count": 168,
   "id": "8cd436fd",
   "metadata": {},
   "outputs": [
    {
     "data": {
      "text/plain": [
       "2"
      ]
     },
     "execution_count": 168,
     "metadata": {},
     "output_type": "execute_result"
    }
   ],
   "source": [
    "def mis2(arr): # in an array only one number is appearing only once\n",
    "    xor=0\n",
    "    for i in range(len(arr)):\n",
    "        xor=xor^arr[i]\n",
    "    return xor\n",
    "mis2([1,1,3,3,6,6,10,10,2,8,8])"
   ]
  },
  {
   "cell_type": "code",
   "execution_count": 7,
   "id": "41f7c07c",
   "metadata": {},
   "outputs": [
    {
     "data": {
      "text/plain": [
       "7"
      ]
     },
     "execution_count": 7,
     "metadata": {},
     "output_type": "execute_result"
    }
   ],
   "source": [
    "def ksum(arr, k):\n",
    "    i,j,sum1,l=0,0,0,0\n",
    "    while i < len(arr):\n",
    "        sum1+= arr[i]\n",
    "        while sum1> k:\n",
    "            sum1-=arr[j]\n",
    "            j+=1         \n",
    "        if sum1==k:\n",
    "            l= max(l, i-j+1)\n",
    "        i+=1\n",
    "    return l\n",
    "ksum([1,1,3,3,6,6,3,0,0,0,10,-1,1,2,8,8,1,1,1,1],12)"
   ]
  },
  {
   "cell_type": "code",
   "execution_count": 22,
   "id": "a54be68f",
   "metadata": {},
   "outputs": [
    {
     "data": {
      "text/plain": [
       "[[1, 8], [1, 8], [3, 6], [3, 6]]"
      ]
     },
     "execution_count": 22,
     "metadata": {},
     "output_type": "execute_result"
    }
   ],
   "source": [
    "def sum2(arr, k):\n",
    "    hashmap= {}\n",
    "    for i in range(len(arr)):\n",
    "        hashmap[arr[i]]=i\n",
    "        if k-arr[i] in hashmap:\n",
    "            return [i, hashmap[k-arr[i]]]\n",
    "def sum2( arr, k):\n",
    "    arr= [(num, index) for index, num in enumerate(arr)]\n",
    "    arr.sort()\n",
    "    ans=[]\n",
    "    i, j= 0, len(arr)-1\n",
    "    while i<j:\n",
    "        if arr[i][0]+ arr[j][0]== k:\n",
    "            ans.append( [arr[i][0],arr[j][0]])\n",
    "            i+=1\n",
    "            j-=1\n",
    "        elif arr[i][0]+ arr[j][0]< k:\n",
    "            i+=1\n",
    "        else:\n",
    "            j-=1\n",
    "    return ans\n",
    "sum2([1,1,3,3,6,6,10,10,2,8,8], 9)       "
   ]
  },
  {
   "cell_type": "code",
   "execution_count": 184,
   "id": "0da6409c",
   "metadata": {},
   "outputs": [
    {
     "data": {
      "text/plain": [
       "[0, 0, 0, 1, 1, 1, 1, 2, 2, 2]"
      ]
     },
     "execution_count": 184,
     "metadata": {},
     "output_type": "execute_result"
    }
   ],
   "source": [
    "def sort012(arr):           #pointers at low high mid\n",
    "    low=mid=0\n",
    "    high= len(arr)-1\n",
    "    while mid<= high:\n",
    "        if arr[mid]==0: \n",
    "            arr[low], arr[mid]= arr[mid], arr[low]\n",
    "            low+=1\n",
    "            mid+=1\n",
    "        elif arr[mid]==1: mid+=1\n",
    "        else:\n",
    "            arr[mid], arr[high]= arr[high], arr[mid]\n",
    "            high-=1\n",
    "        \n",
    "      \n",
    "\n",
    "    return arr\n",
    "sort012([1,2,1,2,1,0,0,0,2,1])\n",
    "            "
   ]
  },
  {
   "cell_type": "code",
   "execution_count": 21,
   "id": "8d622ba7",
   "metadata": {},
   "outputs": [
    {
     "data": {
      "text/plain": [
       "4"
      ]
     },
     "execution_count": 21,
     "metadata": {},
     "output_type": "execute_result"
    }
   ],
   "source": [
    "def majority_element(arr):\n",
    "    count=0\n",
    "    el=0\n",
    "    for i in range(len(arr)):\n",
    "        if count==0:\n",
    "            count=1\n",
    "            el= arr[i]\n",
    "        elif arr[i]== el:\n",
    "            count+=1\n",
    "        else:\n",
    "            count-=1\n",
    "    \n",
    "    for i in range(len(arr)):\n",
    "        if arr[i]== el:\n",
    "            count+=1\n",
    "    if count>len(arr)//2:\n",
    "        return el\n",
    "    return -1\n",
    "    \n",
    "majority_element([1,2,3,1,4,4,3,4,4,45,6,7,4,4])\n",
    "            "
   ]
  },
  {
   "cell_type": "code",
   "execution_count": 202,
   "id": "f610160c",
   "metadata": {},
   "outputs": [
    {
     "data": {
      "text/plain": [
       "(16, [10, -2, 8])"
      ]
     },
     "execution_count": 202,
     "metadata": {},
     "output_type": "execute_result"
    }
   ],
   "source": [
    "def kadane( arr):                              #kadane algo\n",
    "    sum1=0\n",
    "    maxi= arr[0]\n",
    "    n= len(arr)\n",
    "    start= end=-1\n",
    "    for i in range(n):\n",
    "        if sum1==0:  start =i\n",
    "        sum1 +=arr[i]\n",
    "        if sum1>maxi:\n",
    "            maxi = sum1\n",
    "            end=i\n",
    "        if sum1< 0:\n",
    "            sum1=0\n",
    "\n",
    "    return (maxi,arr[start: end+1])\n",
    "kadane([1,-1,3,3,-6,6,-10,10,-2,8,-8])"
   ]
  },
  {
   "cell_type": "code",
   "execution_count": 210,
   "id": "588df625",
   "metadata": {},
   "outputs": [
    {
     "data": {
      "text/plain": [
       "[-1, 1, -3, 3, -6, 6, -10, 10, -2, 8]"
      ]
     },
     "execution_count": 210,
     "metadata": {},
     "output_type": "execute_result"
    }
   ],
   "source": [
    "def alternate_signs(arr):\n",
    "    new=[0 for i in range(len(arr))]\n",
    "    pos=1\n",
    "    neg=0\n",
    "    for i in range(len(arr)):\n",
    "        if arr[i]>0:\n",
    "            new[pos]= arr[i]\n",
    "            pos+=2\n",
    "        else:\n",
    "            new[neg]= arr[i]\n",
    "            neg+=2\n",
    "    return new\n",
    "alternate_signs([1,-1,3,-3,-6,6,-10,10,-2,8,])\n",
    "            "
   ]
  },
  {
   "cell_type": "code",
   "execution_count": 220,
   "id": "25281771",
   "metadata": {},
   "outputs": [
    {
     "data": {
      "text/plain": [
       "[1, -1, 3, -3, 6, -6, 10, -2, 10, 8]"
      ]
     },
     "execution_count": 220,
     "metadata": {},
     "output_type": "execute_result"
    }
   ],
   "source": [
    "def same(arr):\n",
    "    pos=[]\n",
    "    neg=[]\n",
    "    for i in range(len(arr)):\n",
    "        if arr[i]>0:   pos.append(arr[i])\n",
    "        else:          neg.append(arr[i])\n",
    "    if len(pos)> len(neg):\n",
    "        for i in range(len(neg)):\n",
    "            arr[2*i]= pos[i]\n",
    "            arr[2*i+1]= neg[i]\n",
    "            index= len(neg)*2\n",
    "        for i in range(len(neg), len(pos)):\n",
    "            arr[index]= pos[i]\n",
    "            index+=1\n",
    "    else :\n",
    "        for i in range(len(pos)):\n",
    "\n",
    "            arr[2*i]= pos[i]\n",
    "            arr[2*i+1]= neg[i]\n",
    "            index= len(pos)*2\n",
    "        for i in range(len(pos), len(neg)):\n",
    "            arr[index]= neg[i]\n",
    "            index+=1\n",
    "    return arr\n",
    "same([1,-1,3,-3,-6,6,10,10,-2,8])\n",
    "        \n",
    "        "
   ]
  },
  {
   "cell_type": "code",
   "execution_count": 224,
   "id": "cb65e583",
   "metadata": {},
   "outputs": [
    {
     "data": {
      "text/plain": [
       "10"
      ]
     },
     "execution_count": 224,
     "metadata": {},
     "output_type": "execute_result"
    }
   ],
   "source": [
    "def buysell(arr):\n",
    "    mil= arr[0]\n",
    "    profit= 0\n",
    "    for i in range(len(arr)):\n",
    "        mil= min(mil, arr[i])\n",
    "        profit= max(profit,arr[i]-mil)\n",
    "    return profit\n",
    "buysell([1,2,3,1,3,5,-3,6,4,5,6,7,4,4])"
   ]
  },
  {
   "cell_type": "code",
   "execution_count": 246,
   "id": "152d9200",
   "metadata": {},
   "outputs": [
    {
     "data": {
      "text/plain": [
       "[1, 2, 7, 7, 8, 9]"
      ]
     },
     "execution_count": 246,
     "metadata": {},
     "output_type": "execute_result"
    }
   ],
   "source": [
    "def next_permutation(arr):\n",
    "    n= len(arr)\n",
    "    k=-1\n",
    "    for i in range(len(arr)):\n",
    "        if arr[n-i-1]> arr[n-i-2]:\n",
    "            k=n-i-2\n",
    "            break\n",
    "    if k == -1:\n",
    "        arr.reverse()\n",
    "        return arr\n",
    "    for i in range(len(arr)):\n",
    "        if arr[n-i-1]>arr[k]:\n",
    "            arr[k], arr[n-i-1]= arr[n-i-1], arr[k]\n",
    "            break\n",
    "    arr[k+1:]=reversed(arr[k+1:])\n",
    "    return arr\n",
    "next_permutation([9,8,7,7,2,1])       "
   ]
  },
  {
   "cell_type": "code",
   "execution_count": 257,
   "id": "5e8c1ea9",
   "metadata": {},
   "outputs": [
    {
     "data": {
      "text/plain": [
       "[9, 8]"
      ]
     },
     "execution_count": 257,
     "metadata": {},
     "output_type": "execute_result"
    }
   ],
   "source": [
    "def leader(arr):           #can also be done without rversing\n",
    "    new=[arr[-1]]\n",
    "    arr.reverse()\n",
    "    maxi=arr[0]\n",
    "    for i in range(len(arr)):\n",
    "        if arr[i]>maxi:\n",
    "            new.append(arr[i])\n",
    "            maxi= arr[i]\n",
    "    return new[::-1]\n",
    "leader([9,8,7,7,2,8])"
   ]
  },
  {
   "cell_type": "code",
   "execution_count": 8,
   "id": "a532d7c7",
   "metadata": {},
   "outputs": [
    {
     "name": "stdout",
     "output_type": "stream",
     "text": [
      "[7, 6, 3, 4, 8, 9, 0]\n"
     ]
    },
    {
     "data": {
      "text/plain": [
       "4"
      ]
     },
     "execution_count": 8,
     "metadata": {},
     "output_type": "execute_result"
    }
   ],
   "source": [
    "def successive_elements(arr):   #nlogn\n",
    "    arr.sort()\n",
    "    smallest=arr[0]\n",
    "    count=0\n",
    "    maxi=1\n",
    "    for i in range(1,len(arr)):\n",
    "        if arr[i]== smallest+1:\n",
    "            smallest= arr[i]\n",
    "            count+=1\n",
    "        elif arr[i]!= smallest:\n",
    "            count=1\n",
    "            smallest=arr[i]\n",
    "        maxi= max(maxi, count)\n",
    "    return maxi\n",
    "\n",
    "def successive_elements(arr):   \n",
    "#     st= set()\n",
    "    st=[]\n",
    "    maxi=0\n",
    "    for i in range(len(arr)):\n",
    "        if arr[i] not in st:\n",
    "            st.append(arr[i])\n",
    "    print(st)\n",
    "    for k in st:\n",
    "        if k-1 not in st:\n",
    "            count= 1\n",
    "            x=k\n",
    "            while x+1 in st:\n",
    "                x+=1\n",
    "                count+=1\n",
    "                maxi= max(maxi, count)\n",
    "    return maxi\n",
    "    \n",
    "    \n",
    "successive_elements([7,6,3,4,8,9,0,4])"
   ]
  },
  {
   "cell_type": "code",
   "execution_count": 9,
   "id": "3dee1d38",
   "metadata": {},
   "outputs": [],
   "source": [
    "def set_matrix_zero(m):\n",
    "    col0=1\n",
    "    for i in range(m):\n",
    "        for j in range(m[0]):\n",
    "            if m[i][j]==0:\n",
    "                m[i][0]=0\n",
    "                if j!=0: m[0][j]!=0\n",
    "                else:\n",
    "                    col0=0\n",
    "    return m \n",
    "               "
   ]
  },
  {
   "cell_type": "code",
   "execution_count": 25,
   "id": "ff83f1f3",
   "metadata": {},
   "outputs": [
    {
     "data": {
      "text/plain": [
       "[[7, 4, 1], [8, 5, 2], [9, 6, 3]]"
      ]
     },
     "execution_count": 25,
     "metadata": {},
     "output_type": "execute_result"
    }
   ],
   "source": [
    "def rotate90(m):\n",
    "    n= len(m)\n",
    "    for i in range(0, n-1):\n",
    "        for j in range(i+1,n ):\n",
    "            m[i][j], m[j][i]= m[j][i], m[i][j]\n",
    "    for i in m :\n",
    "        rev(i)\n",
    "    return m\n",
    "rotate90(array)"
   ]
  },
  {
   "cell_type": "code",
   "execution_count": 32,
   "id": "5fcc274f",
   "metadata": {},
   "outputs": [],
   "source": [
    "array = [\n",
    "    [1, 2, 3],\n",
    "    [4, 5, 6],\n",
    "    [7, 8, 9]\n",
    "]"
   ]
  },
  {
   "cell_type": "code",
   "execution_count": 43,
   "id": "b79dc7b1",
   "metadata": {},
   "outputs": [
    {
     "data": {
      "text/plain": [
       "[1, 2, 3, 6, 9, 8, 7, 4, 5]"
      ]
     },
     "execution_count": 43,
     "metadata": {},
     "output_type": "execute_result"
    }
   ],
   "source": [
    "def spiral(m):\n",
    "    # initialize\n",
    "    row,col= len(m), len(m[0])\n",
    "    new=[]\n",
    "    top, left=0,0\n",
    "    right, bottom=col-1,row-1\n",
    "    # base condition\n",
    "    while top<= bottom and left<= right:\n",
    "        \n",
    "        #traversal 4 loops\n",
    "        for i in range(left, right+1):\n",
    "            new.append( m[top][i])\n",
    "        top+=1    \n",
    "        for i in range(top, bottom+1):\n",
    "            new.append(m[i][right])\n",
    "        right-=1\n",
    "        #second check\n",
    "        if right>=left:\n",
    "            for i in range(right, left-1,-1):\n",
    "                new.append(m[bottom][i])\n",
    "            bottom-=1\n",
    "        # second check\n",
    "        if bottom>=top:            \n",
    "            for i in range(bottom, top-1, -1):\n",
    "                new.append(m[i][left])\n",
    "            left+=1\n",
    "    #ans\n",
    "    return new\n",
    "spiral(array)     "
   ]
  },
  {
   "cell_type": "code",
   "execution_count": 15,
   "id": "4f6d653f",
   "metadata": {},
   "outputs": [
    {
     "name": "stdout",
     "output_type": "stream",
     "text": [
      "The number of subarrays is: 2\n"
     ]
    }
   ],
   "source": [
    "from collections import defaultdict\n",
    "\n",
    "def findAllSubarraysWithGivenSum(arr, k):\n",
    "    n = len(arr) # size of the given array.\n",
    "    mpp = defaultdict(int)\n",
    "    preSum = 0\n",
    "    cnt = 0\n",
    "\n",
    "    mpp[0] = 1 # Setting 0 in the map.\n",
    "    for i in range(n):\n",
    "        # add current element to prefix Sum:\n",
    "        preSum += arr[i]\n",
    "\n",
    "        # Calculate x-k:\n",
    "        remove = preSum - k\n",
    "\n",
    "        # Add the number of subarrays to be removed:\n",
    "        cnt += mpp[remove]\n",
    "\n",
    "        # Update the count of prefix sum\n",
    "        # in the map.\n",
    "        mpp[preSum] += 1\n",
    "\n",
    "    return cnt\n",
    "\n",
    "\n",
    "if __name__ == '__main__':\n",
    "    arr = [3, 1, 2, 4]\n",
    "    k = 6\n",
    "    cnt = findAllSubarraysWithGivenSum(arr, k)\n",
    "    print(\"The number of subarrays is:\", cnt)\n"
   ]
  },
  {
   "cell_type": "code",
   "execution_count": null,
   "id": "4b5ca6f0",
   "metadata": {},
   "outputs": [],
   "source": []
  }
 ],
 "metadata": {
  "kernelspec": {
   "display_name": "Python 3 (ipykernel)",
   "language": "python",
   "name": "python3"
  },
  "language_info": {
   "codemirror_mode": {
    "name": "ipython",
    "version": 3
   },
   "file_extension": ".py",
   "mimetype": "text/x-python",
   "name": "python",
   "nbconvert_exporter": "python",
   "pygments_lexer": "ipython3",
   "version": "3.9.13"
  }
 },
 "nbformat": 4,
 "nbformat_minor": 5
}
