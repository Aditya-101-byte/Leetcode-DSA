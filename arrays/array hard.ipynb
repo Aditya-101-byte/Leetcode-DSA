{
 "cells": [
  {
   "cell_type": "code",
   "execution_count": 13,
   "id": "2e23f960",
   "metadata": {},
   "outputs": [
    {
     "data": {
      "text/plain": [
       "35"
      ]
     },
     "execution_count": 13,
     "metadata": {},
     "output_type": "execute_result"
    }
   ],
   "source": [
    "def ncr(n,r):\n",
    "    ans=1\n",
    "    for i in range(r): ans = ans*(n-i)//(i+1)\n",
    "    return ans\n",
    "\n",
    "def pascal1(row, col):\n",
    "    return ncr(row-1, col-1)   \n",
    "pascal1(8,4)"
   ]
  },
  {
   "cell_type": "code",
   "execution_count": 24,
   "id": "927433b3",
   "metadata": {},
   "outputs": [
    {
     "data": {
      "text/plain": [
       "[1, 6, 15, 20, 15, 6, 1]"
      ]
     },
     "execution_count": 24,
     "metadata": {},
     "output_type": "execute_result"
    }
   ],
   "source": [
    "def pascal2(row):\n",
    "    new=1\n",
    "    arr=[1]\n",
    "    for i in range(row):\n",
    "        new= new*(row-i)//(i+1)\n",
    "        arr.append(new)\n",
    "    return arr\n",
    "pascal2(6)"
   ]
  },
  {
   "cell_type": "code",
   "execution_count": 29,
   "id": "e9e2cd21",
   "metadata": {},
   "outputs": [
    {
     "data": {
      "text/plain": [
       "[[1], [1, 1], [1, 2, 1]]"
      ]
     },
     "execution_count": 29,
     "metadata": {},
     "output_type": "execute_result"
    }
   ],
   "source": [
    "def pascal3(row):\n",
    "    ans=[]\n",
    "    for j in range(row):\n",
    "        ans.append(pascal2(j))\n",
    "    return ans\n",
    "pascal3(3)       "
   ]
  },
  {
   "cell_type": "code",
   "execution_count": 32,
   "id": "75837a43",
   "metadata": {},
   "outputs": [
    {
     "data": {
      "text/plain": [
       "1"
      ]
     },
     "execution_count": 32,
     "metadata": {},
     "output_type": "execute_result"
    }
   ],
   "source": [
    "def xor(arr,k):\n",
    "    i,j,xor,l=0,0,0,0\n",
    "    while i< len(arr):\n",
    "        xor= xor^arr[i]\n",
    "        if xor!=k:\n",
    "            xor= xor^arr[i]\n",
    "            j+=1\n",
    "        else:\n",
    "            l= max(l, i-j+1)\n",
    "        i+=1\n",
    "    return l\n",
    "xor([1, 6, 15, 6, 6, 6, 1], 6)\n",
    "\n",
    "            "
   ]
  },
  {
   "cell_type": "code",
   "execution_count": 39,
   "id": "13e0da16",
   "metadata": {},
   "outputs": [
    {
     "data": {
      "text/plain": [
       "12"
      ]
     },
     "execution_count": 39,
     "metadata": {},
     "output_type": "execute_result"
    }
   ],
   "source": [
    "6^10"
   ]
  },
  {
   "cell_type": "code",
   "execution_count": null,
   "id": "9b3539d1",
   "metadata": {},
   "outputs": [],
   "source": []
  }
 ],
 "metadata": {
  "kernelspec": {
   "display_name": "Python 3 (ipykernel)",
   "language": "python",
   "name": "python3"
  },
  "language_info": {
   "codemirror_mode": {
    "name": "ipython",
    "version": 3
   },
   "file_extension": ".py",
   "mimetype": "text/x-python",
   "name": "python",
   "nbconvert_exporter": "python",
   "pygments_lexer": "ipython3",
   "version": "3.9.13"
  }
 },
 "nbformat": 4,
 "nbformat_minor": 5
}
