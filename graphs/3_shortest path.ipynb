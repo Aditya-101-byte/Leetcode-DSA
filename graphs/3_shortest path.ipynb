{
 "cells": [
  {
   "cell_type": "markdown",
   "id": "4c25d894",
   "metadata": {},
   "source": [
    "# topo sort shortest dist"
   ]
  },
  {
   "cell_type": "code",
   "execution_count": 1,
   "id": "23527604",
   "metadata": {},
   "outputs": [],
   "source": [
    "class Solution:\n",
    "    def shortestPath(self, n : int, m : int, edges):\n",
    "        adj=[[] for i in range(n)]\n",
    "        for i in range(m):\n",
    "            x, y, w = edges[i][0], edges[i][1], edges[i][2]\n",
    "            adj[x].append((y, w))\n",
    "        \n",
    "        def toposort(i, adj, visited, stack):\n",
    "            visited[i]=1\n",
    "            for neb in adj[i]:\n",
    "                x= neb[0]\n",
    "                if visited[x]==0:\n",
    "                    toposort(x, adj, visited, stack)\n",
    "            stack.append(i)\n",
    "        \n",
    "        visited=[0]*n\n",
    "        stack=[]\n",
    "        for i in range(n):\n",
    "            if visited[i]==0:\n",
    "                toposort(i, adj, visited, stack)\n",
    "        \n",
    "        dist=[1e9]*n\n",
    "        dist[0]=0\n",
    "        while stack:\n",
    "            node= stack.pop()\n",
    "            for neb in adj[node]:\n",
    "                x, w= neb[0], neb[1]\n",
    "                \n",
    "                if dist[node] + w < dist[x]:\n",
    "                    dist[x]= dist[node]+w\n",
    "            \n",
    "        for i in range(len(dist)):\n",
    "            if dist[i] == 1e9:\n",
    "                dist[i] = -1\n",
    "                \n",
    "        return dist"
   ]
  },
  {
   "cell_type": "markdown",
   "id": "9a4caa86",
   "metadata": {},
   "source": [
    "# dfs shortest path in undirected graph"
   ]
  },
  {
   "cell_type": "code",
   "execution_count": 3,
   "id": "7b047b62",
   "metadata": {},
   "outputs": [],
   "source": [
    "from typing import List\n",
    "\n",
    "class Solution:\n",
    "    def shortestPath(self, edges: List[List[int]], n: int, m: int, src: int) -> List[int]:\n",
    "        adj = [[] for _ in range(n)]\n",
    "        for i in range(m):\n",
    "            x, y = edges[i][0], edges[i][1]\n",
    "            adj[x].append(y)\n",
    "            adj[y].append(x)\n",
    "        \n",
    "        dist = [1e9] * n\n",
    "        dist[src] = 0\n",
    "        queue = [(src, 0)]\n",
    "        \n",
    "        while queue:\n",
    "            node, _ = queue.pop(0)\n",
    "            for neb in adj[node]:                \n",
    "                if dist[neb] > dist[node] + 1:\n",
    "                    dist[neb] = dist[node] + 1\n",
    "                    queue.append((neb, dist[neb]))\n",
    "                \n",
    "        for i in range(len(dist)):\n",
    "            if dist[i] == 1e9:\n",
    "                dist[i] = -1\n",
    "                \n",
    "        return dist\n"
   ]
  },
  {
   "cell_type": "markdown",
   "id": "78eb9bc6",
   "metadata": {},
   "source": [
    "# dijkstra"
   ]
  },
  {
   "cell_type": "code",
   "execution_count": 34,
   "id": "2a38fafb",
   "metadata": {},
   "outputs": [],
   "source": [
    "from typing import List\n",
    "import heapq\n",
    "class Solution:\n",
    "\n",
    "    #Function to find the shortest distance of all the vertices\n",
    "    #from the source vertex S.\n",
    "    def dijkstra(self, V: int, adj, S: int):\n",
    "    # Code here\n",
    "        dist=[1e9]*V\n",
    "        dist[S]=0\n",
    "        pq=[]\n",
    "        heapq.heappush(pq, (0,S ))\n",
    "        while pq:\n",
    "            _, node= heapq.heappop(pq)\n",
    "            for neb, dis in adj[node]:\n",
    "                \n",
    "                if dist[node]+ dis < dist[neb]:\n",
    "                    dist[neb]= dist[node]+ dis\n",
    "                    heapq.heappush(pq,(dist[neb], neb) )\n",
    "        return dist"
   ]
  },
  {
   "cell_type": "code",
   "execution_count": 35,
   "id": "53c59c45",
   "metadata": {},
   "outputs": [],
   "source": [
    "from typing import List\n",
    "import heapq\n",
    "\n",
    "class Solution:\n",
    "    def shortestPath(self, n: int, m: int, edges):\n",
    "        # Create adjacency list\n",
    "        adj = [[] for i in range(n + 1)]\n",
    "        for a,b,c in edges:\n",
    "            adj[a].append((b,c))\n",
    "            adj[b].append((a,c))\n",
    "        \n",
    "        # Priority queue and initialization\n",
    "        pq = []\n",
    "        heapq.heappush(pq, (0, 1))\n",
    "        parent = [i for i in range(n + 1)]\n",
    "        dist = [float('inf')] * (n + 1)\n",
    "        dist[1] = 0\n",
    "        \n",
    "        while pq:\n",
    "            dis, node = heapq.heappop(pq)\n",
    "            if dis> dist[node]: continue\n",
    "            for nebnode, nebdis in adj[node]:\n",
    "                if nebdis + dist[node] < dist[nebnode]:\n",
    "                    dist[nebnode] = dist[node] + nebdis\n",
    "                    parent[nebnode] = node\n",
    "                    heapq.heappush(pq, (dist[nebnode], nebnode))\n",
    "        \n",
    "        # Check if there is a path to the destination node\n",
    "        if dist[n] == float('inf'):\n",
    "            return [-1]\n",
    "        \n",
    "        # Reconstruct the path\n",
    "        ans = []\n",
    "        node = n\n",
    "        while parent[node] != node:\n",
    "            ans.append(node)\n",
    "            node = parent[node]\n",
    "        ans.append(1)\n",
    "        \n",
    "        return ans[::-1]"
   ]
  },
  {
   "cell_type": "markdown",
   "id": "223bf588",
   "metadata": {},
   "source": [
    "# dijk dijk in grid grid"
   ]
  },
  {
   "cell_type": "code",
   "execution_count": 36,
   "id": "8bf23774",
   "metadata": {},
   "outputs": [],
   "source": [
    "class Solution:\n",
    "    def shortestPathBinaryMatrix(self, grid) -> int:\n",
    "        if grid[0][0]==1: return -1\n",
    "\n",
    "        n=len(grid)\n",
    "        if n==1: return 1\n",
    "        pq = [(0,0,0)]\n",
    "        dist = [[1e5]*n for i in range(n)]\n",
    "        dist[0][0]=0\n",
    "        delrow=[ -1, 0, 1, 0, -1, 1, 1, -1]\n",
    "        delcol= [ 0, 1, 0, -1, -1, -1, 1, 1]\n",
    "        \n",
    "        while pq:\n",
    "\n",
    "            dis, x, y = pq.pop(0)\n",
    "            if dis> dist[x][y]: continue\n",
    "            for i in range(8):\n",
    "                nrow, ncol= x+ delrow[i], y+ delcol[i]\n",
    "                if 0<= nrow< n and 0<=ncol <n and grid[nrow][ncol]==0:\n",
    "                    if nrow== ncol and ncol== n-1:\n",
    "                        return dist[x][y] +2\n",
    "                    if dist[nrow][ncol]> dist[x][y]+1:\n",
    "                        dist[nrow][ncol]= dist[x][y]+1\n",
    "                        pq.append((dist[nrow][ncol], nrow, ncol))\n",
    "\n",
    "        \n",
    "        if dist[n-1][n-1] == 1e5:\n",
    "            return -1"
   ]
  },
  {
   "cell_type": "code",
   "execution_count": 38,
   "id": "029dfc18",
   "metadata": {},
   "outputs": [],
   "source": [
    "class Solution:                         # same as befor instead of calculating sum calculate min difference of elements in path\n",
    "    def minimumEffortPath(self, grid) -> int:\n",
    "\n",
    "        m, n =len(grid), len(grid[0])\n",
    "        if n==m==1: return 0\n",
    "        pq=[]\n",
    "        heapq.heappush(pq, (0,0,0))\n",
    "        dist = [[1e9]*n for i in range(m)]\n",
    "        dist[0][0]=0\n",
    "        delrow=[ 0, 1, 0, -1]\n",
    "        delcol= [ 1, 0, -1, 0]\n",
    "        \n",
    "        while pq:\n",
    "\n",
    "            dis, x, y = heapq.heappop(pq)\n",
    "            # if dis> dist[x][y]: continue\n",
    "            for i in range(4):\n",
    "                nrow, ncol= x+ delrow[i], y+ delcol[i]\n",
    "                if 0<= nrow< m and 0<=ncol <n : \n",
    "    \n",
    "                    new= max(dis, abs( grid[x][y]- grid[nrow][ncol]))\n",
    "\n",
    "                    if dist[nrow][ncol]>new:\n",
    "                        dist[nrow][ncol]= new                                                \n",
    "                        heapq.heappush(pq, (new, nrow, ncol))\n",
    "\n",
    "        \n",
    "        if dist[m-1][n-1] == 1e9:\n",
    "            return -1\n",
    "        return dist[m-1][n-1]"
   ]
  },
  {
   "cell_type": "markdown",
   "id": "24021928",
   "metadata": {},
   "source": [
    "# cheap flights: same with directed graph"
   ]
  },
  {
   "cell_type": "code",
   "execution_count": 39,
   "id": "91f908de",
   "metadata": {},
   "outputs": [],
   "source": [
    "class Solution:\n",
    "    def findCheapestPrice(self, n: int, flights, src: int, dst: int, k: int) -> int:\n",
    "        adj=[[] for i in range(n)]\n",
    "        for fro, to, cost in flights:\n",
    "            adj[fro].append((to, cost))\n",
    "        pq=[]\n",
    "        heapq.heappush(pq, (0, src, 0))\n",
    "        costlist=[1e9]*n\n",
    "        costlist[src]=0\n",
    "\n",
    "        while pq:\n",
    "            stops, node, cost= heapq.heappop(pq)\n",
    "            for neb, nebcost in adj[node]:\n",
    "                if cost+ nebcost< costlist[neb] and stops<=k:\n",
    "                    costlist[neb]= nebcost+ cost\n",
    "                    heapq.heappush(pq, (stops+1, neb, costlist[neb]))\n",
    "\n",
    "        return costlist[dst] if costlist[dst]!= 1e9 else -1"
   ]
  },
  {
   "cell_type": "markdown",
   "id": "fecb194f",
   "metadata": {},
   "source": [
    "# stupid question"
   ]
  },
  {
   "cell_type": "code",
   "execution_count": 40,
   "id": "7e7d67e6",
   "metadata": {},
   "outputs": [],
   "source": [
    "class Solution:\n",
    "    \n",
    "    def minimumMultiplications(self, arr , start : int, end : int) -> int:\n",
    "        if start==end: return 0\n",
    "        queue=[(start, 0)]\n",
    "        dist=[1e5]*100000\n",
    "        dist[start]=0\n",
    "        mod= 1e5\n",
    "        while queue:\n",
    "            node, steps= queue.pop(0)\n",
    "            for k in arr:\n",
    "                num= int(node*k % mod)\n",
    "                if num == end: return 1+steps\n",
    "                if 1+ steps< dist[num]:\n",
    "                    dist[num]=1+ steps\n",
    "                    queue.append((num, steps+1))\n",
    "        return -1"
   ]
  },
  {
   "cell_type": "markdown",
   "id": "51b65d77",
   "metadata": {},
   "source": [
    "# ways to arrive at destination"
   ]
  },
  {
   "cell_type": "code",
   "execution_count": 42,
   "id": "05cbe233",
   "metadata": {},
   "outputs": [],
   "source": [
    "class Solution:\n",
    "    def countPaths(self, n: int, roads) -> int:\n",
    "        adj=[[] for i in range(n)]\n",
    "        for a, b, c in roads:\n",
    "            adj[a].append((b,c))\n",
    "            adj[b].append((a,c))\n",
    "        dist, ways = [float('inf')]*n, [0]*n\n",
    "        dist[0], ways[0] = 0, 1\n",
    "\n",
    "        queue= []\n",
    "        heapq.heappush(queue, (0,0))\n",
    "        mod= int(1e9 +7)\n",
    "        while queue:\n",
    "            mini, node = heapq.heappop(queue)\n",
    "            for neb, cost in adj[node]:\n",
    "                if cost+ mini< dist[neb]:\n",
    "                    dist[neb]= cost+ mini\n",
    "                    ways[neb]= ways[node]\n",
    "                    heapq.heappush(queue,(dist[neb], neb ))\n",
    "                elif cost+ mini==dist[neb]:\n",
    "                    ways[neb]= int((ways[node]+ ways[neb])% mod)\n",
    "                 \n",
    "        return int(ways[n-1]% mod)"
   ]
  },
  {
   "cell_type": "markdown",
   "id": "26dc5ff0",
   "metadata": {},
   "source": [
    "# Bellman Ford"
   ]
  },
  {
   "cell_type": "code",
   "execution_count": 1,
   "id": "8ac8c7b9",
   "metadata": {},
   "outputs": [],
   "source": [
    "def bellman_ford(self, n, edges, S):\n",
    "    distance=[1e8]*n\n",
    "    distance[S]=0\n",
    "    for i in range(n):\n",
    "        for fro, to, w in edges:\n",
    "            if distance[fro]!= 1e8 and distance[fro]+ w< distance[to]:\n",
    "                distance[to]=distance[fro]+ w\n",
    "\n",
    "    for fro, to, w in edges:\n",
    "        if distance[fro]!= 1e8 and distance[fro]+ w< distance[to]:\n",
    "            return [-1]\n",
    "    return [int(i) for i in distance]"
   ]
  },
  {
   "cell_type": "markdown",
   "id": "5cd20465",
   "metadata": {},
   "source": [
    "# Floyd Walsh"
   ]
  },
  {
   "cell_type": "code",
   "execution_count": 4,
   "id": "c794014b",
   "metadata": {},
   "outputs": [],
   "source": [
    "class Solution:\n",
    "    def shortest_distance(self, matrix):\n",
    "        n= len(matrix)\n",
    "        for i in range(n):            \n",
    "            for j in range(n):                \n",
    "                if matrix[i][j]==-1: matrix[i][j]=1e9\n",
    "                if i ==j: matrix[i][j]=0\n",
    "        for k in range(n):\n",
    "               for i in range(n):\n",
    "                    for j in range(n):\n",
    "                        matrix[i][j]= min(matrix[i][j], matrix[i][k]+ matrix[k][j])\n",
    "                    \n",
    "        for i in range(n):\n",
    "            if matrix[i][i]<0:\n",
    "                return [-1]\n",
    "        \n",
    "        for i in range(n):\n",
    "            for j in range(n):\n",
    "                if matrix[i][j]==1e9:\n",
    "                    matrix[i][j]=-1\n",
    "                    \n",
    "        return matrix"
   ]
  }
 ],
 "metadata": {
  "kernelspec": {
   "display_name": "Python 3 (ipykernel)",
   "language": "python",
   "name": "python3"
  },
  "language_info": {
   "codemirror_mode": {
    "name": "ipython",
    "version": 3
   },
   "file_extension": ".py",
   "mimetype": "text/x-python",
   "name": "python",
   "nbconvert_exporter": "python",
   "pygments_lexer": "ipython3",
   "version": "3.9.13"
  }
 },
 "nbformat": 4,
 "nbformat_minor": 5
}
