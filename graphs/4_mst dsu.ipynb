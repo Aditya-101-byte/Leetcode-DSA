{
 "cells": [
  {
   "cell_type": "markdown",
   "id": "2e16b25e",
   "metadata": {},
   "source": [
    "# Prim's Algo"
   ]
  },
  {
   "cell_type": "code",
   "execution_count": 3,
   "id": "c91007da",
   "metadata": {},
   "outputs": [],
   "source": [
    "def spanningTree(self, V, adj):\n",
    "    pq=[]\n",
    "    sum1=0\n",
    "    heapq.heappush(pq, (0,0,-1))\n",
    "    visited=[0]*V\n",
    "    mst=[]\n",
    "    while pq:\n",
    "        dist, node, par= heapq.heappop(pq)\n",
    "        if visited[node]==1: continue\n",
    "        visited[node]=1\n",
    "        sum1+=dist\n",
    "        if parent!=-1: mst.append((node, par))\n",
    "\n",
    "        for neb, w in adj[node]:\n",
    "            if visited[neb]==0:\n",
    "                heapq.heappush(pq, (w, neb, node))\n",
    "    return sum1, mst"
   ]
  },
  {
   "cell_type": "markdown",
   "id": "ff54a04a",
   "metadata": {},
   "source": [
    "# DSU (by rank)"
   ]
  },
  {
   "cell_type": "code",
   "execution_count": 10,
   "id": "3667850f",
   "metadata": {},
   "outputs": [],
   "source": [
    "class DSUr:\n",
    "    def __init__(self, n):\n",
    "        self.rank= [0]*(n+1)\n",
    "        self.parent = [i for i in range(n+1)]\n",
    "        \n",
    "    def findparent(self, node):\n",
    "        if node== self.parent[node]:\n",
    "            return node\n",
    "        self.parent[node]= self.findparent(self.parent[node])\n",
    "        return self.parent[node]\n",
    "    \n",
    "    def rank_union(self, u, v):\n",
    "        paru= self.findparent(u)\n",
    "        parv= self.findparent(v)\n",
    "        if paru==parv: return\n",
    "        if self.rank[paru]> self.rank[parv]: self.parent[parv]= paru\n",
    "        elif self.rank[paru]> self.rank[parv]: self.parent[paru]= parv\n",
    "        else: \n",
    "            self.parent[parv]= paru\n",
    "            self.rank[paru]+=1           "
   ]
  },
  {
   "cell_type": "markdown",
   "id": "227fc4f7",
   "metadata": {},
   "source": [
    "# DSU (by size)"
   ]
  },
  {
   "cell_type": "code",
   "execution_count": 13,
   "id": "6a724129",
   "metadata": {},
   "outputs": [],
   "source": [
    "class DSUs:\n",
    "    def __init__(self, n):\n",
    "        self.size= [1]*(n+1)\n",
    "        self.parent = [i for i in range(n+1)]\n",
    "        \n",
    "    def findparent(self, node):\n",
    "        if node==self.parent[node]:\n",
    "            return node\n",
    "        self.parent[node]= self.findparent(self.parent[node])\n",
    "        return self.parent[node]\n",
    "    \n",
    "    def size_union(self, u, v):\n",
    "        paru= self.findparent(u)\n",
    "        parv= self.findparent(v)\n",
    "        if paru==parv: return\n",
    "        if self.size[paru]>=self.size[parv]:\n",
    "            self.parent[parv]= paru\n",
    "            self.size[paru]+=self.size[parv]\n",
    "        else: \n",
    "            self.parent[paru]= parv\n",
    "            self.size[parv]+=self.size[paru]"
   ]
  },
  {
   "cell_type": "markdown",
   "id": "98100012",
   "metadata": {},
   "source": [
    "# Kruskal's Algo"
   ]
  },
  {
   "cell_type": "code",
   "execution_count": 14,
   "id": "7ddf7681",
   "metadata": {},
   "outputs": [],
   "source": [
    "def spanningTree(self, V, adj):\n",
    "    edges=[]\n",
    "    for u in range(V):\n",
    "        for v, w in adj[u]:\n",
    "            edges.append((w, (u, v)))\n",
    "    ds= DSUr(V)                                     # dsu by rank\n",
    "    edges.sort()\n",
    "    ans=0\n",
    "    for w, node in edges:\n",
    "        u, v = node[0], node[1]\n",
    "        if ds.findparent(u)!= ds.findparent(v):\n",
    "            ans+=w\n",
    "            ds.rank_union(u, v)\n",
    "    return ans"
   ]
  },
  {
   "cell_type": "markdown",
   "id": "4c268bc3",
   "metadata": {},
   "source": [
    "# min no. of connections"
   ]
  },
  {
   "cell_type": "code",
   "execution_count": 16,
   "id": "5897bf74",
   "metadata": {},
   "outputs": [],
   "source": [
    "class Solution:\n",
    "    def makeConnected(self, n: int, connections) -> int:\n",
    "        if len(connections)< n-1: return -1\n",
    "        ds= DSUs(n)\n",
    "        count=0\n",
    "        for i, j in connections:\n",
    "            pi= ds.findparent(i)\n",
    "            pj= ds.findparent(j)\n",
    "            if pi==pj:\n",
    "                count+=1\n",
    "            else: \n",
    "                ds.size_union(i,j)\n",
    "        cc=0\n",
    "        for i in range(n):\n",
    "            if ds.parent[i]==i: \n",
    "                cc+=1\n",
    "        if count>=cc-1: return cc-1"
   ]
  },
  {
   "cell_type": "markdown",
   "id": "6f259619",
   "metadata": {},
   "source": [
    "# merge mail"
   ]
  },
  {
   "cell_type": "code",
   "execution_count": 17,
   "id": "0c2b9db6",
   "metadata": {},
   "outputs": [],
   "source": [
    "class Solution:\n",
    "    def accountsMerge(self, accounts):\n",
    "        n=len(accounts)\n",
    "        firstmap= {}\n",
    "        ds= DSUs(n)\n",
    "        for i in range(n):\n",
    "            for j in range(1, len(accounts[i])):\n",
    "                mail= accounts[i][j]\n",
    "                if mail not in firstmap:\n",
    "                    firstmap[mail]=i\n",
    "                else:\n",
    "                    ds.size_union(i, firstmap[mail])\n",
    "\n",
    "        mergedmap=[[] for i in range(n)]\n",
    "        for node, ind in firstmap.items():\n",
    "            root= ds.findparent(ind)\n",
    "            mergedmap[root].append(node)\n",
    "        \n",
    "        ans=[]\n",
    "        for i in range(n):\n",
    "            if mergedmap[i]:\n",
    "                mergedmap[i].sort()\n",
    "                temp= [accounts[i][0]] + mergedmap[i]\n",
    "                ans.append(temp)\n",
    "        return ans"
   ]
  },
  {
   "cell_type": "code",
   "execution_count": null,
   "id": "be6cd4ce",
   "metadata": {},
   "outputs": [],
   "source": [
    "def islands(m, n, operators):\n",
    "    visited=[[0]*m for i in range(n)]\n",
    "    ds= DSUs(m*n)\n",
    "    count=0\n",
    "    ans=[]\n",
    "    delrow=[-1, 0, 1, 0]\n",
    "    delcol= [0, 1 -1, 0]\n",
    "    for row, col in operators:\n",
    "        if visited[row][col]==1:\n",
    "            ans.append(count)\n",
    "            continue\n",
    "        visited[row][col]=1\n",
    "        count+=1\n",
    "        for i in range(4):\n",
    "            nrow, ncol = row+ delrow[i], col + delcol[i]\n",
    "            if 0<= nrow< n and 0<= ncol<m and visited[nrow][ncol]==1:\n",
    "                node, newnode= m*row + col, m* nrow + ncol\n",
    "                if ds.findparent(node)!= ds.findparent(newnode):\n",
    "                    count-=1\n",
    "                    ds.size_union(node, newnode)\n",
    "        ans.append(count)\n",
    "    return ans"
   ]
  },
  {
   "cell_type": "markdown",
   "id": "438f854d",
   "metadata": {},
   "source": [
    "# longest island"
   ]
  },
  {
   "cell_type": "code",
   "execution_count": 21,
   "id": "4c75d9ca",
   "metadata": {},
   "outputs": [],
   "source": [
    "class Solution:\n",
    "    def largestIsland(self, grid):\n",
    "        n = len(grid)\n",
    "        delrow= [-1, 0, 1, 0]\n",
    "        delcol= [0, 1, 0, -1]\n",
    "        ds= DSUs(n*n)\n",
    "        for row in range(n):\n",
    "            for col in range(n):\n",
    "                if grid[row][col]==0: continue\n",
    "                for i in range(4):\n",
    "                    nrow, ncol = row+ delrow[i], col + delcol[i]\n",
    "                    if 0<= nrow< n and 0<= ncol<n and grid[nrow][ncol]==1:\n",
    "                        node, newnode= row*n +col, nrow*n + ncol\n",
    "                        ds.size_union(node, newnode)\n",
    "\n",
    "        maxi = max((ds.size[ds.findparent(row * n + col)] for row in range(n) for col in range(n) if grid[row][col] == 1), default=0)\n",
    "        if maxi==0: return 1\n",
    "        if maxi>=n*n-1: return n*n\n",
    "        \n",
    "        for row in range(n):\n",
    "            for col in range(n):\n",
    "                if grid[row][col]==1: continue\n",
    "                s= set()\n",
    "                for i in range(4):\n",
    "                    nrow, ncol = row+ delrow[i], col + delcol[i]\n",
    "                    if 0<= nrow< n and 0<= ncol<n and grid[nrow][ncol]==1:\n",
    "                        newnode= nrow*n + ncol\n",
    "                        s.add(ds.findparent(newnode))\n",
    "                size=1\n",
    "                for k in s: size+= ds.size[k]\n",
    "                maxi= max(maxi, size)\n",
    "        return maxi"
   ]
  },
  {
   "cell_type": "markdown",
   "id": "1c31558a",
   "metadata": {},
   "source": [
    "# stones removal"
   ]
  },
  {
   "cell_type": "code",
   "execution_count": 22,
   "id": "5096adc3",
   "metadata": {},
   "outputs": [],
   "source": [
    "class Solution:\n",
    "    def removeStones(self, stones: List[List[int]]) -> int:\n",
    "        maxrow, maxcol = 0, 0\n",
    "        for x, y in stones:\n",
    "            maxrow= max(maxrow, x)\n",
    "            maxcol= max(maxcol, y)\n",
    "        ds= DSUs(maxrow+maxcol+2)\n",
    "        mapi={}\n",
    "        for x, y in stones:\n",
    "            ds.size_union(x, y+ maxrow +1 )\n",
    "            mapi[x]=1\n",
    "            mapi[y+maxrow+1]=1\n",
    "\n",
    "        # to find the number of connected components we see that how many\n",
    "        # unique parents are there i.e. how many  nodes are their own parents\n",
    "        count=0\n",
    "        for i, j in mapi.items():\n",
    "            if ds.findparent(i)== i:\n",
    "                count+=1\n",
    "        return len(stones)- count"
   ]
  },
  {
   "cell_type": "code",
   "execution_count": null,
   "id": "8cc2fac0",
   "metadata": {},
   "outputs": [],
   "source": []
  }
 ],
 "metadata": {
  "kernelspec": {
   "display_name": "Python 3 (ipykernel)",
   "language": "python",
   "name": "python3"
  },
  "language_info": {
   "codemirror_mode": {
    "name": "ipython",
    "version": 3
   },
   "file_extension": ".py",
   "mimetype": "text/x-python",
   "name": "python",
   "nbconvert_exporter": "python",
   "pygments_lexer": "ipython3",
   "version": "3.9.13"
  }
 },
 "nbformat": 4,
 "nbformat_minor": 5
}
