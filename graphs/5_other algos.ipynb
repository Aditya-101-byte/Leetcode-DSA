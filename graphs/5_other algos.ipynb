{
 "cells": [
  {
   "cell_type": "markdown",
   "id": "d6ac8a0f",
   "metadata": {},
   "source": [
    "# Kosaraju's Algo"
   ]
  },
  {
   "cell_type": "code",
   "execution_count": 1,
   "id": "6e8a38b1",
   "metadata": {},
   "outputs": [],
   "source": [
    "class Solution:    \n",
    "    #Function to find number of strongly connected components in the graph.\n",
    "    def kosaraju(self, V, adj):\n",
    "        visited=[0]*V\n",
    "        stack=[]\n",
    "        \n",
    "        def dfs(i, stack, adj, visited):\n",
    "            visited[i]=1\n",
    "            for neb in adj[i]:\n",
    "                if visited[neb]==0:\n",
    "                    dfs(neb, stack, adj, visited)\n",
    "            stack.append(i)\n",
    "            \n",
    "        for i in range(V):\n",
    "            if visited[i]!=1: dfs(i, stack, adj, visited)\n",
    "            \n",
    "        adjreverse=[[] for i in range(V)]\n",
    "        for i in range(V):\n",
    "            visited[i]=0\n",
    "            for neb in adj[i]:\n",
    "                adjreverse[neb].append(i)\n",
    "        \n",
    "        def dfs2(node, visited, adjreverse):\n",
    "            visited[node]=1\n",
    "            for neb in adjreverse[node]:\n",
    "                if visited[neb]==0:\n",
    "                    dfs2(neb, visited, adjreverse)            \n",
    "        count=0\n",
    "        while stack:\n",
    "            k= stack.pop()\n",
    "            if visited[k]==0:\n",
    "                count+=1\n",
    "                dfs2(k, visited, adjreverse)\n",
    "        return count"
   ]
  },
  {
   "cell_type": "markdown",
   "id": "5f60c356",
   "metadata": {},
   "source": [
    "# Detect Bridges"
   ]
  },
  {
   "cell_type": "code",
   "execution_count": 3,
   "id": "0234eff9",
   "metadata": {},
   "outputs": [],
   "source": [
    "class Solution:\n",
    "    def criticalConnections(self, n: int, connections):\n",
    "        # timer=1\n",
    "        def dfs( node, par, visited, adj, bridges, low, tin, timer):\n",
    "            visited[node]=1\n",
    "            low[node]=timer\n",
    "            tin[node]= timer\n",
    "            timer+=1\n",
    "            for neb in adj[node]:\n",
    "                if neb==par: continue\n",
    "                if visited[neb]==0:\n",
    "                    dfs(neb, node, visited, adj, bridges, low, tin, timer)\n",
    "                    low[node]= min(low[node], low[neb])\n",
    "                    if low[neb]> tin[node]:\n",
    "                        bridges.append((node, neb))\n",
    "                else:\n",
    "                    low[node]= min(low[node], low[neb])\n",
    "        \n",
    "        visited=[0]*n\n",
    "        tin, low= [0]*n, [0]*n\n",
    "        adj=[[] for i in range(n)]\n",
    "        for a, b in connections:\n",
    "            adj[a].append(b)\n",
    "            adj[b].append(a)\n",
    "        bridges=[]\n",
    "        dfs(0, -1, visited, adj, bridges,low, tin,1 )\n",
    "        return bridges"
   ]
  },
  {
   "cell_type": "code",
   "execution_count": null,
   "id": "5cdf94ca",
   "metadata": {},
   "outputs": [],
   "source": []
  }
 ],
 "metadata": {
  "kernelspec": {
   "display_name": "Python 3 (ipykernel)",
   "language": "python",
   "name": "python3"
  },
  "language_info": {
   "codemirror_mode": {
    "name": "ipython",
    "version": 3
   },
   "file_extension": ".py",
   "mimetype": "text/x-python",
   "name": "python",
   "nbconvert_exporter": "python",
   "pygments_lexer": "ipython3",
   "version": "3.9.13"
  }
 },
 "nbformat": 4,
 "nbformat_minor": 5
}
