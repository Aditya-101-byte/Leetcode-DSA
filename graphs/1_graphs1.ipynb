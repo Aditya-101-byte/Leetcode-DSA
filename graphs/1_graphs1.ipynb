{
 "cells": [
  {
   "cell_type": "code",
   "execution_count": 2,
   "id": "1a6721fc",
   "metadata": {},
   "outputs": [],
   "source": [
    "from collections import defaultdict"
   ]
  },
  {
   "cell_type": "code",
   "execution_count": 1,
   "id": "b25bff7c",
   "metadata": {},
   "outputs": [
    {
     "data": {
      "text/plain": [
       "[[0, 0, 0, 0, 0],\n",
       " [0, 0, 0, 0, 0],\n",
       " [0, 0, 0, 0, 0],\n",
       " [0, 0, 0, 0, 0],\n",
       " [0, 0, 0, 0, 0]]"
      ]
     },
     "execution_count": 1,
     "metadata": {},
     "output_type": "execute_result"
    }
   ],
   "source": [
    "[[0]*5]*5"
   ]
  },
  {
   "cell_type": "code",
   "execution_count": 5,
   "id": "c1491dbc",
   "metadata": {},
   "outputs": [],
   "source": [
    "edges = [\n",
    "    (1, 2),  (2, 4), (2, 5), \n",
    "    (3, 6),  (4, 8), (4, 7),  \n",
    "    (6, 10), (7, 8), (9, 10)\n",
    "]"
   ]
  },
  {
   "cell_type": "code",
   "execution_count": 3,
   "id": "c6f77a0c",
   "metadata": {},
   "outputs": [
    {
     "data": {
      "text/plain": [
       "[[0, 1, 1], [1, 0, 1], [1, 1, 0]]"
      ]
     },
     "execution_count": 3,
     "metadata": {},
     "output_type": "execute_result"
    }
   ],
   "source": [
    "def graphm(vert, edges):                                  # graph using matrices    \n",
    "    arr=[[0]*vert for i in range(vert)]\n",
    "    for edge in edges:\n",
    "        u,v= edge\n",
    "        arr[u][v], arr[v][u]=1,1\n",
    "    return arr\n",
    "\n",
    "# Example\n",
    "V1 = 3\n",
    "edges1 = [(0, 1), (1, 2), (2, 0)]\n",
    "graphm(V1, edges1)"
   ]
  },
  {
   "cell_type": "code",
   "execution_count": 24,
   "id": "822274f1",
   "metadata": {},
   "outputs": [
    {
     "name": "stdout",
     "output_type": "stream",
     "text": [
      "defaultdict(<class 'list'>, {1: [2], 2: [1, 4, 5], 4: [2, 8, 7], 5: [2], 3: [6], 6: [3, 0], 8: [4, 7], 7: [4, 8], 0: [6, 9], 9: [0]})\n"
     ]
    }
   ],
   "source": [
    "def graphd(edges):                                        #graph using dictionaries\n",
    "    arr=defaultdict(list)\n",
    "    for i in edges:\n",
    "        u,v=i\n",
    "        arr[u].append(v)\n",
    "        arr[v].append(u)\n",
    "\n",
    "    return arr\n",
    "adj=graphd(edges)\n",
    "print(adj)"
   ]
  },
  {
   "cell_type": "code",
   "execution_count": 11,
   "id": "22f917a7",
   "metadata": {},
   "outputs": [
    {
     "data": {
      "text/plain": [
       "defaultdict(list, {0: [1, 2], 1: [0, 2], 2: [1, 0]})"
      ]
     },
     "execution_count": 11,
     "metadata": {},
     "output_type": "execute_result"
    }
   ],
   "source": [
    "def graphd1(edges):\n",
    "    arr = defaultdict(list)\n",
    "    for u, v in edges:\n",
    "        arr[u].append(v)\n",
    "        arr[v].append(u)\n",
    "    return arr\n",
    "graphd1(edges1)"
   ]
  },
  {
   "cell_type": "code",
   "execution_count": 26,
   "id": "f1fcc8ab",
   "metadata": {},
   "outputs": [
    {
     "data": {
      "text/plain": [
       "[0, 6, 9, 3]"
      ]
     },
     "execution_count": 26,
     "metadata": {},
     "output_type": "execute_result"
    }
   ],
   "source": [
    "def bfs(start ,n , adj):\n",
    "    ans=[]\n",
    "    visited= [0]*n\n",
    "    visited[start]=1\n",
    "    queue= [start]\n",
    "    while queue:\n",
    "        node= queue.pop(0)\n",
    "        ans.append(node)\n",
    "        for neb in adj[node]:\n",
    "       \n",
    "            if visited[neb]!=1:\n",
    "                visited[neb]=1\n",
    "                queue.append(neb)\n",
    "    return ans\n",
    "bfs(0,10,adj )\n"
   ]
  },
  {
   "cell_type": "code",
   "execution_count": 27,
   "id": "96ce398d",
   "metadata": {},
   "outputs": [
    {
     "data": {
      "text/plain": [
       "[0, 6, 3, 9]"
      ]
     },
     "execution_count": 27,
     "metadata": {},
     "output_type": "execute_result"
    }
   ],
   "source": [
    "def dfs(node, vis, adj, ans):\n",
    "    vis[node]=1\n",
    "    ans.append(node)\n",
    "    for neb in adj[node]:\n",
    "        if vis[neb]!=1:\n",
    "            dfs(neb, vis, adj, ans)\n",
    "def sol(n,adj):\n",
    "    visited=[0]*n\n",
    "    start=0\n",
    "    ans=[]\n",
    "    dfs(start, visited, adj, ans)\n",
    "    return ans\n",
    "sol(10, adj)\n",
    "        "
   ]
  },
  {
   "cell_type": "code",
   "execution_count": 14,
   "id": "8857a55f",
   "metadata": {},
   "outputs": [
    {
     "data": {
      "image/png": "[encoded data removed]",
      "text/plain": [
       "<Figure size 640x480 with 1 Axes>"
      ]
     },
     "metadata": {},
     "output_type": "display_data"
    }
   ],
   "source": [
    "import networkx as nx\n",
    "import matplotlib.pyplot as plt\n",
    "\n",
    "edges = [\n",
    "    (1, 2),  (2, 4), (2, 5), \n",
    "    (3, 6),  (4, 8), (4, 7),  \n",
    "    (6, 0), (7, 8), (9, 0)\n",
    "]\n",
    "\n",
    "G = nx.Graph()\n",
    "G.add_edges_from(edges)\n",
    "\n",
    "# Draw the graph\n",
    "pos = nx.spring_layout(G)\n",
    "nx.draw(G, pos, with_labels=True, node_color='lightblue', node_size=500, font_size=10, font_weight='bold')\n",
    "plt.show()\n"
   ]
  },
  {
   "cell_type": "code",
   "execution_count": 19,
   "id": "5287743b",
   "metadata": {},
   "outputs": [
    {
     "name": "stdout",
     "output_type": "stream",
     "text": [
      "defaultdict(<class 'list'>, {1: [2], 2: [1, 4, 5], 4: [2, 8, 7], 5: [2], 3: [6], 6: [3, 10], 8: [4, 7], 7: [4, 8], 10: [6, 9], 9: [10]})\n"
     ]
    },
    {
     "data": {
      "text/plain": [
       "10"
      ]
     },
     "execution_count": 19,
     "metadata": {},
     "output_type": "execute_result"
    }
   ],
   "source": [
    "print(adj)\n",
    "#using this as my adjacency list\n",
    "len(adj)"
   ]
  },
  {
   "cell_type": "code",
   "execution_count": 16,
   "id": "c9a15b26",
   "metadata": {},
   "outputs": [],
   "source": [
    "def dfs(node, vis, adj):\n",
    "    vis[node]=1\n",
    "#     ans.append(node)\n",
    "    for neb in adj[node]:\n",
    "        if vis[neb]!=1:\n",
    "            dfs(neb, vis, adj)"
   ]
  },
  {
   "cell_type": "markdown",
   "id": "46e6389d",
   "metadata": {},
   "source": [
    "# Questions  from L7:"
   ]
  },
  {
   "cell_type": "markdown",
   "id": "b8ec1fa6",
   "metadata": {},
   "source": [
    "# provines/ islands/ floodfill/ orange rotting"
   ]
  },
  {
   "cell_type": "code",
   "execution_count": 17,
   "id": "e0c792c8",
   "metadata": {},
   "outputs": [
    {
     "data": {
      "text/plain": [
       "2"
      ]
     },
     "execution_count": 17,
     "metadata": {},
     "output_type": "execute_result"
    }
   ],
   "source": [
    "def provinces(n, adj):\n",
    "    visited=[0]*(n+1)\n",
    "    count=0\n",
    "    for i in range(1,n+1):\n",
    "        if visited[i]!=1:\n",
    "            count+=1\n",
    "            dfs(i, visited, adj)\n",
    "            \n",
    "    return count\n",
    "provinces(10, adj)\n",
    "    "
   ]
  },
  {
   "cell_type": "code",
   "execution_count": 18,
   "id": "cd92e860",
   "metadata": {},
   "outputs": [
    {
     "name": "stdout",
     "output_type": "stream",
     "text": [
      "2\n"
     ]
    }
   ],
   "source": [
    "def islands(grid):\n",
    "    m= len(grid)\n",
    "    n=len(grid[0])\n",
    "    visited=[[0]*n for i in range(m)]\n",
    "    count=0\n",
    "    for i in range(m):\n",
    "        for j in range(n):\n",
    "            if grid[i][j]==1 and visited[i][j]==0:\n",
    "                traverse(i, j, grid, visited)\n",
    "                count+=1\n",
    "    return count\n",
    "def traverse(i, j, grid, visited):\n",
    "    m, n= len(grid), len(grid[0])\n",
    "    queue= [(i,j)]\n",
    "    visited[i][j]=1\n",
    "    while queue:\n",
    "        row, col= queue.pop(0)\n",
    "        for i in range(-1,2):\n",
    "            for j in range(-1, 2):\n",
    "                nrow, ncol= row+i, col+j\n",
    "                if 0<=nrow< m and 0<=ncol<n and grid[nrow][ncol]==1 and visited[nrow][ncol]!=1:\n",
    "                    visited[nrow][ncol]=1\n",
    "                    queue.append((nrow, ncol))\n",
    "\n",
    "                    # Example grid\n",
    "grid = [\n",
    "    [1, 1, 0, 0, 0],\n",
    "    [1, 1, 0, 1, 1],\n",
    "    [0, 0, 0, 1, 1],\n",
    "    [0, 0, 1, 0, 0]\n",
    "]\n",
    "\n",
    "print(islands(grid))  "
   ]
  },
  {
   "cell_type": "code",
   "execution_count": 19,
   "id": "28a3c770",
   "metadata": {},
   "outputs": [],
   "source": [
    "class Solution:\n",
    "    def floodFill(self, grid, sr: int, sc: int, final: int):\n",
    "        \n",
    "        def dfs(grid, i, j, inicolor, final, ans, delrow, delcol):\n",
    "            m,n= len(grid), len(grid[0])\n",
    "            ans[i][j]= final\n",
    "            for x in range(4):\n",
    "                nrow, ncol= i+ delrow[x], j+ delcol[x]\n",
    "                if 0<=nrow< m and 0<=ncol<n and grid[nrow][ncol]==inicolor and ans[nrow][ncol]!= final:\n",
    "                    dfs(grid, nrow, ncol, inicolor, final, ans, delrow, delcol)            \n",
    "        \n",
    "\n",
    "        ans= grid.copy()\n",
    "        m, n= len(grid), len(grid[0])\n",
    "        inicolor= grid[sr][sc]\n",
    "        visited= [[0]*n for i in range(n)]\n",
    "        delrow=[-1, 0, 1, 0]\n",
    "        delcol=[0, -1, 0, 1]\n",
    "        dfs(grid, sr, sc, inicolor, final, ans, delrow, delcol)\n",
    "        return ans"
   ]
  },
  {
   "cell_type": "code",
   "execution_count": 20,
   "id": "5808640d",
   "metadata": {},
   "outputs": [],
   "source": [
    "class Solution:\n",
    "    def orangesRotting(self, grid) -> int:\n",
    "        m, n = len(grid), len(grid[0])\n",
    "        queue=[]\n",
    "        visited= [[0]*n for _ in range(m)]\n",
    "        initial =0 #--->> store initial no. of 1s\n",
    "        for i in range(m):\n",
    "            for j in range(n):\n",
    "                if grid[i][j]== 2:\n",
    "                    queue.append((i,j,0))\n",
    "                    visited[i][j]=2\n",
    "                else:  visited[i][j]=0\n",
    "                if grid[i][j]==1: initial+=1\n",
    "\n",
    "        if not queue and initial ==0: return 0\n",
    "        if not queue: return -1\n",
    "        delrow=[-1, 0, 1, 0]\n",
    "        delcol=[0, -1, 0, 1]\n",
    "        while queue:\n",
    "            x, y, time= queue.pop(0)\n",
    "\n",
    "            for k in range(4):\n",
    "                nrow, ncol= x+ delrow[k], y+ delcol[k]\n",
    "                if 0<= nrow< m and 0<= ncol<n and  grid[nrow][ncol]==1 and visited[nrow][ncol]==0:\n",
    "                    visited[nrow][ncol]=2\n",
    "                    initial-=1\n",
    "                    queue.append((nrow, ncol, time+1))\n",
    "        \n",
    "        return time if initial ==0 else -1"
   ]
  },
  {
   "cell_type": "markdown",
   "id": "532bc0e5",
   "metadata": {},
   "source": [
    "# detecting cycles"
   ]
  },
  {
   "cell_type": "code",
   "execution_count": null,
   "id": "c18b873c",
   "metadata": {},
   "outputs": [],
   "source": [
    "class Solution:\n",
    "    #Function to detect cycle in an undirected graph.\n",
    "\tdef isCycle(self, V: int, adj) -> bool:\n",
    "\t    visited=[0]*V\n",
    "\t    \n",
    "    \tdef bfs(source , adj, visited):\n",
    "    \t    visited[source]=1\n",
    "    \t    queue=[]\n",
    "    \t    queue.append((source, -1))\n",
    "    \n",
    "    \t    while queue:\n",
    "    \t        node, parent= queue.pop(0)\n",
    "    \t        for neb in adj[node]:\n",
    "    \t            if visited[neb]==0:\n",
    "    \t                visited[neb]=1\n",
    "    \t                queue.append((neb,node ))\n",
    "    \t            elif parent != neb: return True \n",
    "    \t    return False\n",
    "    \t    \n",
    "\t    for i in range(V):\n",
    "\t        if visited[i]==0:\n",
    "\t            if bfs(i, adj, visited):\n",
    "\t                return True\n",
    "\t    return False\n",
    "    \t    "
   ]
  },
  {
   "cell_type": "code",
   "execution_count": 25,
   "id": "86f020e2",
   "metadata": {},
   "outputs": [],
   "source": [
    "from typing import List\n",
    "class Solution:\n",
    "    #Function to detect cycle in an undirected graph.\n",
    "    def isCycle(self, V: int, adj: List[List[int]]) -> bool:     # v denotes no. of nodes\n",
    "        visited=[0]*V\n",
    "        \n",
    "        def dfs(source,parent,  adj, visited):\n",
    "            visited[source]=1\n",
    "            for neb in adj[source]:\n",
    "                if visited[neb]==0:\n",
    "                    if dfs(neb,source,  adj, visited): return True\n",
    "                elif neb!= parent: return True\n",
    "            return False\n",
    "        \n",
    "        for i in range(V):\n",
    "            if visited[i]==0:\n",
    "                if dfs(i, -1,adj, visited):\n",
    "                    return True\n",
    "        return False  "
   ]
  },
  {
   "cell_type": "markdown",
   "id": "65f416b5",
   "metadata": {},
   "source": [
    "# dfs/ bfs in grid"
   ]
  },
  {
   "cell_type": "code",
   "execution_count": 26,
   "id": "59102ca6",
   "metadata": {},
   "outputs": [],
   "source": [
    "# Distance of nearset cell hahving 0/1 matrix\n",
    "\n",
    "def updateMatrix( mat):\n",
    "    m, n = len(mat), len(mat[0])\n",
    "    visited = [[0]*n for _ in range(m)]\n",
    "    new =  [[0]*n for _ in range(m)]\n",
    "    queue=[]\n",
    "    delrow= [-1, 0, 1, 0]\n",
    "    delcol= [0, -1, 0, 1]\n",
    "\n",
    "    for i in range(m):\n",
    "        for j in range(n):\n",
    "            if mat[i][j]==0:\n",
    "                queue.append((i,j,0))\n",
    "                visited[i][j]=1\n",
    "\n",
    "    while queue:\n",
    "        x, y, val = queue.pop(0)\n",
    "        for i in range(4):\n",
    "            nrow, ncol= x+ delrow[i], y+ delcol[i]\n",
    "            if 0<= nrow< m and 0<= ncol < n:\n",
    "                if visited[nrow][ncol]==0:\n",
    "                    visited[nrow][ncol]=1\n",
    "                    new[nrow][ncol]= val+1\n",
    "                    queue.append((nrow, ncol, val+1))\n",
    "    return new"
   ]
  },
  {
   "cell_type": "code",
   "execution_count": 30,
   "id": "ade7bcfc",
   "metadata": {},
   "outputs": [],
   "source": [
    "class Solution:                                   # Os and Xs problem Leetcode 130                  G-14\n",
    "    def solve(self, board) -> None:\n",
    "        m, n = len(board), len(board[0])\n",
    "        queue=[]\n",
    "        visited=[[0]*n for _ in range(m)]\n",
    "\n",
    "        for i in range(m):\n",
    "            if board[i][0]== \"O\":\n",
    "                queue.append((i,0))\n",
    "                visited[i][0]=1\n",
    "            if board[i][n-1]== \"O\":\n",
    "                queue.append((i, n-1))\n",
    "                visited[i][n-1]=1\n",
    "\n",
    "        for i in range(n):\n",
    "            if board[0][i]== \"O\":\n",
    "                queue.append(( 0, i ))\n",
    "                visited[0][i]=1\n",
    "            if board[m-1][i]== \"O\":\n",
    "                queue.append(( m-1, i ))\n",
    "                visited[m-1][i]=1\n",
    "        \n",
    "        delrow= [ -1, 0, 1, 0]\n",
    "        delcol= [ 0, -1, 0, 1]\n",
    "\n",
    "        while queue:\n",
    "            x, y= queue.pop(0)\n",
    "            for i in range(4):\n",
    "                nrow, ncol= x + delrow[i], y+ delcol[i]\n",
    "                if 0<= nrow < m and 0<= ncol < n and board[nrow][ncol]==\"O\" and visited[nrow][ncol]==0:\n",
    "                    queue.append((nrow, ncol))\n",
    "                    visited[nrow][ncol]=1\n",
    "        \n",
    "        for i in range(1,m-1):\n",
    "            for j in range(1,n-1):\n",
    "                if visited[i][j]==0 and board[i][j]== \"O\":\n",
    "                    board[i][j]= \"X\"\n",
    "        \"\"\"\n",
    "        Do not return anything, modify board in-place instead.\n",
    "        \"\"\""
   ]
  },
  {
   "cell_type": "code",
   "execution_count": 31,
   "id": "8c703bcf",
   "metadata": {},
   "outputs": [],
   "source": [
    "# G-15 and G-14 are exactly the same"
   ]
  },
  {
   "cell_type": "markdown",
   "id": "06f3c4ff",
   "metadata": {},
   "source": [
    "# distinct islands"
   ]
  },
  {
   "cell_type": "code",
   "execution_count": 32,
   "id": "1abc74e6",
   "metadata": {},
   "outputs": [],
   "source": [
    "class Solution:\n",
    "    def countDistinctIslands(self, grid) -> int:\n",
    "        m, n = len(grid), len(grid[0])\n",
    "        visited=[[0]*n for i in range(m)]\n",
    "        s= set()\n",
    "        delrow= [ -1, 0, 1, 0]\n",
    "        delcol= [ 0, -1, 0, 1]\n",
    "        \n",
    "        def dfs(i, j, lrow, lcol, queue):\n",
    "            queue.append((i- lrow, j- lcol))\n",
    "            for k in range(4):\n",
    "                nrow, ncol= i + delrow[k], j+ delcol[k]\n",
    "                if 0<= nrow < m and 0<= ncol < n and grid[nrow][ncol]==1 and visited[nrow][ncol]==0:\n",
    "                    visited[nrow][ncol]=1\n",
    "                    dfs(nrow, ncol, lrow, lcol, queue)\n",
    "                    \n",
    "        for i in range(m):\n",
    "            for j in range(n):\n",
    "                if visited[i][j]!=1 and grid[i][j]==1:\n",
    "                    queue=[]\n",
    "                    visited[i][j]=1\n",
    "                    dfs(i, j, i, j,queue)\n",
    "                    s.add(tuple(queue))                  # remember this line   v.v important \n",
    "        return len(s)"
   ]
  },
  {
   "cell_type": "markdown",
   "id": "688545bb",
   "metadata": {},
   "source": [
    "# bipartite graphs"
   ]
  },
  {
   "cell_type": "code",
   "execution_count": 33,
   "id": "d7269e92",
   "metadata": {},
   "outputs": [],
   "source": [
    "class Solution:\n",
    "    def isBipartite(self, graph) -> bool:\n",
    "        n=len(graph)\n",
    "        visited=[-1]*n\n",
    "        def bfs(i):\n",
    "            queue=[(i,0)]\n",
    "            while queue:\n",
    "                node, flag = queue.pop(0)\n",
    "                visited[node]= flag\n",
    "                for neb in graph[node]:\n",
    "                    if visited[neb]==-1:\n",
    "                        visited[neb]= 1-flag\n",
    "                        queue.append((neb, 1-flag))\n",
    "                    elif visited[neb] == flag: return False\n",
    "            return True\n",
    "        \n",
    "        for i in range(n):\n",
    "            if visited[i]== -1:\n",
    "                if bfs(i)== False: return False\n",
    "        return True"
   ]
  },
  {
   "cell_type": "code",
   "execution_count": 34,
   "id": "2d4ffd4c",
   "metadata": {},
   "outputs": [],
   "source": [
    "class Solution:\n",
    "    def isBipartite(self, graph) -> bool:\n",
    "        n=len(graph)\n",
    "        visited=[-1]*n\n",
    "\n",
    "        def dfs(i,flag):\n",
    "            visited[i]=flag\n",
    "            for neb in graph[i]:\n",
    "                if visited[neb]==-1:\n",
    "                    if dfs(neb, 1-flag)== False: return False\n",
    "                elif visited[neb]== flag: return False\n",
    "            return True\n",
    "\n",
    "        for i in range(n):\n",
    "            if visited[i]==-1:\n",
    "                if dfs(i,0)== False: return False\n",
    "        \n",
    "        return True"
   ]
  },
  {
   "cell_type": "markdown",
   "id": "d85edfd1",
   "metadata": {},
   "source": [
    "# detect Cycles in Directed graph"
   ]
  },
  {
   "cell_type": "code",
   "execution_count": 37,
   "id": "870f7302",
   "metadata": {},
   "outputs": [],
   "source": [
    "class Solution:\n",
    "    \n",
    "    #Function to detect cycle in a directed graph.\n",
    "    def isCyclic(self, V : int , adj ) -> bool :\n",
    "        # code here\n",
    "        visited=[0]*V\n",
    "        path=[0]*V\n",
    "        \n",
    "        def dfs(i):\n",
    "            visited[i]=1\n",
    "            path[i]=1\n",
    "            for neb in adj[i]:\n",
    "                if visited[neb]==0:\n",
    "                    if dfs(neb): return True\n",
    "                elif path[neb]==1: return True\n",
    "            \n",
    "            path[i]= 0\n",
    "            return False\n",
    "        \n",
    "        for i in range(V):\n",
    "            if visited[i]==0:\n",
    "                if dfs(i):return True\n",
    "        return False"
   ]
  },
  {
   "cell_type": "markdown",
   "id": "dd25894a",
   "metadata": {},
   "source": [
    "# find eventual safe     -- same as above que"
   ]
  },
  {
   "cell_type": "code",
   "execution_count": 39,
   "id": "88c5feb8",
   "metadata": {},
   "outputs": [],
   "source": [
    "class Solution:\n",
    "    def eventualSafeNodes(self, graph):\n",
    "        V= len(graph)\n",
    "        visited=[0]*V\n",
    "        path=[0]*V\n",
    "        queue=[]\n",
    "        def dfs(i):\n",
    "            visited[i]=1\n",
    "            path[i]=1\n",
    "            for neb in graph[i]:\n",
    "                if visited[neb]==0:\n",
    "                    if dfs(neb): return True\n",
    "                elif path[neb]==1: return True\n",
    "            \n",
    "            path[i]= 0\n",
    "            queue.append(i)\n",
    "            return False\n",
    "        \n",
    "        for i in range(V):\n",
    "            if visited[i]==0:\n",
    "                dfs(i)\n",
    "        return sorted(queue)"
   ]
  }
 ],
 "metadata": {
  "kernelspec": {
   "display_name": "Python 3 (ipykernel)",
   "language": "python",
   "name": "python3"
  },
  "language_info": {
   "codemirror_mode": {
    "name": "ipython",
    "version": 3
   },
   "file_extension": ".py",
   "mimetype": "text/x-python",
   "name": "python",
   "nbconvert_exporter": "python",
   "pygments_lexer": "ipython3",
   "version": "3.9.13"
  }
 },
 "nbformat": 4,
 "nbformat_minor": 5
}
