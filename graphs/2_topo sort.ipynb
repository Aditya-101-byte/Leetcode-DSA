{
 "cells": [
  {
   "cell_type": "markdown",
   "id": "94892009",
   "metadata": {},
   "source": [
    "# topo sort - dfs"
   ]
  },
  {
   "cell_type": "code",
   "execution_count": 3,
   "id": "4466b813",
   "metadata": {},
   "outputs": [],
   "source": [
    "def topoSort(self, V, adj):\n",
    "    # Code here\n",
    "    visited=[0]*V\n",
    "    stack=[]\n",
    "\n",
    "    def dfs(i):\n",
    "        visited[i]=1\n",
    "        for neb in adj[i]:\n",
    "            if visited[neb]==0:\n",
    "                dfs(neb)\n",
    "        stack.append(i)\n",
    "\n",
    "    for i in range(V):\n",
    "        if visited[i]==0:\n",
    "            dfs(i)\n",
    "    return stack[::-1]"
   ]
  },
  {
   "cell_type": "markdown",
   "id": "36c50d62",
   "metadata": {},
   "source": [
    "# kahn - bfs "
   ]
  },
  {
   "cell_type": "code",
   "execution_count": 4,
   "id": "405b41f2",
   "metadata": {},
   "outputs": [],
   "source": [
    "class Solution:\n",
    "    \n",
    "    #Function to return list containing vertices in Topological order.\n",
    "    def topoSort(self, V, adj):\n",
    "        # Code here\n",
    "        nebs = [0]*V\n",
    "        for i in range(V):\n",
    "            for j in adj[i]:\n",
    "                nebs[j]+=1                \n",
    "        stack=[]       \n",
    "        for i in range(V):\n",
    "            if nebs[i]==0:\n",
    "                stack.append(i)\n",
    "        ans=[]\n",
    "        while stack:\n",
    "            node= stack.pop(0)\n",
    "            ans.append(node)\n",
    "            for neb in adj[node]:\n",
    "                nebs[neb]-=1                \n",
    "                if nebs[neb]==0:\n",
    "                    stack.append(neb)\n",
    "        return ans "
   ]
  },
  {
   "cell_type": "code",
   "execution_count": 5,
   "id": "501b17e6",
   "metadata": {},
   "outputs": [],
   "source": [
    "# to find a cycle in a  directed graph using topo sort/ Kahn algorithm we can just return if len(ans)== V i.e no. of nodes"
   ]
  },
  {
   "cell_type": "markdown",
   "id": "42e96a6e",
   "metadata": {},
   "source": [
    "# eventual safe states using topo sort"
   ]
  },
  {
   "cell_type": "code",
   "execution_count": 6,
   "id": "301e73df",
   "metadata": {},
   "outputs": [],
   "source": [
    "class Solution:\n",
    "    def eventualSafeNodes(self, graph):\n",
    "        V = len(graph)\n",
    "        reverse = [[] for _ in range(V)]  # Correct initialization\n",
    "        indegree = [0] * V\n",
    "\n",
    "        # Reverse the graph and calculate indegree\n",
    "        for i in range(V):\n",
    "            for neb in graph[i]:\n",
    "                reverse[neb].append(i)\n",
    "                indegree[i] += 1\n",
    "\n",
    "        # Queue for processing nodes with indegree 0\n",
    "        queue = deque()\n",
    "        for i in range(V):\n",
    "            if indegree[i] == 0:\n",
    "                queue.append(i)\n",
    "\n",
    "        ans = []\n",
    "        while queue:\n",
    "            node = queue.popleft()\n",
    "            ans.append(node)\n",
    "            for neb in reverse[node]:\n",
    "                indegree[neb] -= 1\n",
    "                if indegree[neb] == 0:\n",
    "                    queue.append(neb)\n",
    "\n",
    "        return sorted(ans)"
   ]
  },
  {
   "cell_type": "markdown",
   "id": "18165ba9",
   "metadata": {},
   "source": [
    "# course schedule 1 & 2"
   ]
  },
  {
   "cell_type": "code",
   "execution_count": null,
   "id": "8e2ff78c",
   "metadata": {},
   "outputs": [],
   "source": []
  }
 ],
 "metadata": {
  "kernelspec": {
   "display_name": "Python 3 (ipykernel)",
   "language": "python",
   "name": "python3"
  },
  "language_info": {
   "codemirror_mode": {
    "name": "ipython",
    "version": 3
   },
   "file_extension": ".py",
   "mimetype": "text/x-python",
   "name": "python",
   "nbconvert_exporter": "python",
   "pygments_lexer": "ipython3",
   "version": "3.9.13"
  }
 },
 "nbformat": 4,
 "nbformat_minor": 5
}
