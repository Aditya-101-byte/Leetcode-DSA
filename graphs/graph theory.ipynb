{
 "cells": [
  {
   "cell_type": "code",
   "execution_count": 9,
   "id": "cede01a9",
   "metadata": {},
   "outputs": [],
   "source": [
    "def graphd(edges):                                        #graph using dictionaries\n",
    "    arr={}\n",
    "    for i in edges:\n",
    "        u,v=i\n",
    "        if u in arr: arr[u].append(v)\n",
    "        else: arr[u]=[v]\n",
    "        if v in arr: arr[v].append(u)\n",
    "        else: arr[v]=[u]\n",
    "    return arr"
   ]
  },
  {
   "cell_type": "code",
   "execution_count": 71,
   "id": "07cc65ee",
   "metadata": {},
   "outputs": [
    {
     "data": {
      "text/plain": [
       "{0: [1, 2, 4],\n",
       " 1: [0, 2],\n",
       " 2: [1, 0, 3],\n",
       " 3: [2, 4],\n",
       " 4: [3, 0, 5],\n",
       " 6: [5],\n",
       " 5: [6, 4]}"
      ]
     },
     "execution_count": 71,
     "metadata": {},
     "output_type": "execute_result"
    }
   ],
   "source": [
    "edges1 = [(0, 1), (1, 2), (2, 0), (2,3), (3,4),(4,0),(6,5), (4,5) ]\n",
    "k=graphd(edges1)\n",
    "k"
   ]
  },
  {
   "cell_type": "markdown",
   "id": "fa5cdca3",
   "metadata": {},
   "source": [
    "# dfs"
   ]
  },
  {
   "cell_type": "code",
   "execution_count": 14,
   "id": "96825b29",
   "metadata": {},
   "outputs": [],
   "source": [
    "visited=[False for i in range(5)]\n",
    "def dfs(root):\n",
    "    if visited[root]:return\n",
    "    visited[root]=True\n",
    "    for nxt in k[root]:\n",
    "        dfs(nxt)\n",
    "dfs(0)"
   ]
  },
  {
   "cell_type": "markdown",
   "id": "07a9470a",
   "metadata": {},
   "source": [
    "# connected components\n"
   ]
  },
  {
   "cell_type": "code",
   "execution_count": 59,
   "id": "57ca4833",
   "metadata": {},
   "outputs": [
    {
     "name": "stdout",
     "output_type": "stream",
     "text": [
      "(1, [1, 1, 1, 1, 1, 1, 1])\n",
      "0:00:00.001179\n"
     ]
    }
   ],
   "source": [
    "n=7\n",
    "visited=[False for i in range(n)]\n",
    "component=[0 for i in range(n)]\n",
    "count=0\n",
    "def conc():\n",
    "    global count\n",
    "    for i in range(n):\n",
    "        if visited[i]== False:\n",
    "            count= count+1\n",
    "            dfs1(i)\n",
    "    return (count, component)\n",
    "\n",
    "def dfs1(root):\n",
    "    if visited[root]:return\n",
    "    visited[root]= True\n",
    "    component[root]= count\n",
    "    for nxt in k[root]:\n",
    "        if visited[nxt]== False:\n",
    "            dfs1(nxt)\n",
    "            \n",
    "a=datetime.now()\n",
    "print(conc()        )\n",
    "b=datetime.now()\n",
    "print(b-a)"
   ]
  },
  {
   "cell_type": "code",
   "execution_count": 47,
   "id": "b3f0a2e6",
   "metadata": {},
   "outputs": [],
   "source": [
    "from datetime import datetime"
   ]
  },
  {
   "cell_type": "code",
   "execution_count": 60,
   "id": "25ea11bd",
   "metadata": {},
   "outputs": [
    {
     "name": "stdout",
     "output_type": "stream",
     "text": [
      "(1, [1, 1, 1, 1, 1, 1, 1])\n",
      "0:00:00\n"
     ]
    }
   ],
   "source": [
    "n=7\n",
    "visited=[False for i in range(n)]\n",
    "component=[0 for i in range(n)]\n",
    "def conc():\n",
    "    count=0\n",
    "    for i in range(n):\n",
    "        if visited[i]== False:\n",
    "            count= count+1\n",
    "            dfs1(i, count)\n",
    "    return (count, component)\n",
    "\n",
    "def dfs1(root, count):\n",
    "    if visited[root]:return\n",
    "    visited[root]= True\n",
    "    component[root]= count\n",
    "    for nxt in k[root]:\n",
    "        if visited[nxt]== False:\n",
    "            dfs1(nxt, count)\n",
    "            \n",
    "a=datetime.now()\n",
    "print(conc())\n",
    "b=datetime.now()\n",
    "print(b-a)"
   ]
  },
  {
   "cell_type": "markdown",
   "id": "c3ffc9d2",
   "metadata": {},
   "source": [
    "# bfs"
   ]
  },
  {
   "cell_type": "code",
   "execution_count": 82,
   "id": "cd5c5708",
   "metadata": {},
   "outputs": [
    {
     "data": {
      "text/plain": [
       "('path  [1, 0, 4, 5, 6]', 'prev  [1, None, 1, 2, 0, 4, 5]')"
      ]
     },
     "execution_count": 82,
     "metadata": {},
     "output_type": "execute_result"
    }
   ],
   "source": [
    "n=7\n",
    "def bfs(start, end):\n",
    "    prev= solve(start)\n",
    "    return reconstruct(start, end, prev)\n",
    "\n",
    "def solve(start):\n",
    "    queue= [start]\n",
    "    visited=[False for i in range(n)]\n",
    "    visited[start]= True\n",
    "    prev=[None for _ in range(n)]\n",
    "    \n",
    "    while queue:\n",
    "        x= queue.pop(0)    \n",
    "        for nxt in k[x]:\n",
    "            if not visited[nxt]:\n",
    "                visited[nxt]=True\n",
    "                queue.append(nxt)\n",
    "                prev[nxt]= x\n",
    "    return prev\n",
    "\n",
    "def reconstruct(start, end, prev):\n",
    "\n",
    "    path=[]\n",
    "    while end is not None:\n",
    "        path.append(end)\n",
    "        \n",
    "        end= prev[end]\n",
    "\n",
    "    if path[-1]== start: return f'path  {path[::-1]}', f'prev  {prev}'\n",
    "    return []\n",
    "bfs(1,6)"
   ]
  },
  {
   "cell_type": "markdown",
   "id": "4087aa7e",
   "metadata": {},
   "source": [
    "# center"
   ]
  },
  {
   "cell_type": "code",
   "execution_count": 96,
   "id": "94088e7d",
   "metadata": {},
   "outputs": [
    {
     "data": {
      "text/plain": [
       "[1, 3]"
      ]
     },
     "execution_count": 96,
     "metadata": {},
     "output_type": "execute_result"
    }
   ],
   "source": [
    "def center(tree):\n",
    "    n= len(tree)\n",
    "    degree=[0 for i in range(n)]\n",
    "    leaves=[]\n",
    "    for i in range(n):\n",
    "        degree[i]= len(tree[i])\n",
    "        if degree[i]<=1:\n",
    "            leaves.append(i)\n",
    "            degree[i]=0\n",
    "    count= len(leaves)\n",
    "    while count<n:\n",
    "        new=[]\n",
    "        for i in leaves:\n",
    "            for j in tree[i]:\n",
    "                degree[j]-=1\n",
    "                if degree[j]==1:\n",
    "                    new.append(j)\n",
    "#             degree[i]=0\n",
    "        count+=len(new)\n",
    "        leaves=new\n",
    "    return leaves\n",
    "center(tree)          "
   ]
  },
  {
   "cell_type": "code",
   "execution_count": 95,
   "id": "e44dfce3",
   "metadata": {},
   "outputs": [],
   "source": [
    "tree = {\n",
    "    0: [1, 2],\n",
    "    1: [0, 3, 4],\n",
    "    2: [0],\n",
    "    3: [1, 5],\n",
    "    4: [1],\n",
    "    5: [3, 6],\n",
    "    6: [5]\n",
    "}"
   ]
  },
  {
   "cell_type": "code",
   "execution_count": null,
   "id": "c7231075",
   "metadata": {},
   "outputs": [],
   "source": []
  }
 ],
 "metadata": {
  "kernelspec": {
   "display_name": "Python 3 (ipykernel)",
   "language": "python",
   "name": "python3"
  },
  "language_info": {
   "codemirror_mode": {
    "name": "ipython",
    "version": 3
   },
   "file_extension": ".py",
   "mimetype": "text/x-python",
   "name": "python",
   "nbconvert_exporter": "python",
   "pygments_lexer": "ipython3",
   "version": "3.9.13"
  }
 },
 "nbformat": 4,
 "nbformat_minor": 5
}
