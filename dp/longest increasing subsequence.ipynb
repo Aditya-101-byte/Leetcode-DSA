{
 "cells": [
  {
   "cell_type": "markdown",
   "id": "2b02c005",
   "metadata": {},
   "source": [
    "#    lis_len"
   ]
  },
  {
   "cell_type": "code",
   "execution_count": 1,
   "id": "7104bb78",
   "metadata": {},
   "outputs": [
    {
     "data": {
      "text/plain": [
       "4"
      ]
     },
     "execution_count": 1,
     "metadata": {},
     "output_type": "execute_result"
    }
   ],
   "source": [
    "def lenlis(index, prevind):\n",
    "    if index==len(arr): return 0\n",
    "    nope= lenlis(index+1, prevind)\n",
    "    if arr[index]>arr[prevind] or prevind==-1:\n",
    "        yes=1+ lenlis(index+1, index)\n",
    "        nope= max(nope, yes)\n",
    "    return nope\n",
    "arr=[9,5,3,7,101,12,18]\n",
    "n=len(arr)\n",
    "lenlis(0,-1)"
   ]
  },
  {
   "cell_type": "code",
   "execution_count": 4,
   "id": "42b34c9f",
   "metadata": {},
   "outputs": [
    {
     "data": {
      "text/plain": [
       "4"
      ]
     },
     "execution_count": 4,
     "metadata": {},
     "output_type": "execute_result"
    }
   ],
   "source": [
    "dp=[[-1]*(n+1) for i in range(n)]      #here the prev ranges from -1 to n-1 so we increase the index by 1 --> range(n+1) 0 to n\n",
    "def lenlis_mem(index, prevind, dp):\n",
    "    if index==len(arr): return 0\n",
    "    if dp[index][prevind+1]!=-1: return dp[index][prevind+1] # instead of returning dp[][prevind] return dp[][prevind+1] everywhere\n",
    "    nope= lenlis_mem(index+1, prevind,dp)                    # since prevind starts with -1 \n",
    "    yes=-1\n",
    "    if arr[index]>arr[prevind] or prevind==-1:\n",
    "        yes= 1+ lenlis_mem(index+1, index,dp)\n",
    "    dp[index][prevind+1]= max(yes, nope)\n",
    "    return dp[index][prevind+1]\n",
    "lenlis_mem(0,-1, dp)                                 # high time complexity and space complexity"
   ]
  },
  {
   "cell_type": "code",
   "execution_count": 3,
   "id": "9f6c0dc1",
   "metadata": {},
   "outputs": [
    {
     "data": {
      "text/plain": [
       "4"
      ]
     },
     "execution_count": 3,
     "metadata": {},
     "output_type": "execute_result"
    }
   ],
   "source": [
    "def lenlistab(arr):\n",
    "    dp=[[0]*(n+1) for i in range(n+1)]   #basically the nth row will bw 0 and we will start from the end to 0th row\n",
    "    for ind in range(n-1,-1,-1):\n",
    "        for prevind in range(ind-1,-2,-1):  # going till -1 here for prevind since we are adding +1 everywhere with prevind\n",
    "            nottake= dp[ind+1][prevind+1]                                    # |\n",
    "            take=0                                                          # \\/\n",
    "            if prevind==-1 or arr[ind]> arr[prevind]:                      # except here\n",
    "                take= dp[ind+1][ind+1] +1\n",
    "            dp[ind][prevind+1]= max(take, nottake)\n",
    "    return dp[0][-1 +1] \n",
    "\n",
    "arr=[9,5,3,7,101,12,18]\n",
    "n=len(arr)\n",
    "lenlistab(arr)     "
   ]
  },
  {
   "cell_type": "code",
   "execution_count": 10,
   "id": "ea727617",
   "metadata": {},
   "outputs": [
    {
     "data": {
      "text/plain": [
       "4"
      ]
     },
     "execution_count": 10,
     "metadata": {},
     "output_type": "execute_result"
    }
   ],
   "source": [
    "def lenlisspace(arr):\n",
    "    n=len(arr)\n",
    "    prev =[0]*(n+1)\n",
    "    for ind in range(n-1,-1,-1):\n",
    "        curr=[0]*(n+1)\n",
    "        for prevind in range(ind-1,-2,-1):  # going till -1 here for prevind since we are adding +1 everywhere with prevind\n",
    "            nottake= prev[prevind+1]\n",
    "            take=0\n",
    "            if prevind==-1 or arr[ind]> arr[prevind]:\n",
    "                take= prev[ind+1] +1\n",
    "            curr[prevind+1]= max(take, nottake)\n",
    "        prev=curr\n",
    "    return prev[-1 +1] \n",
    "arr=[9,5,3,7,101,12,18]\n",
    "lenlisspace(arr)  "
   ]
  },
  {
   "cell_type": "code",
   "execution_count": 5,
   "id": "7c2ad105",
   "metadata": {},
   "outputs": [
    {
     "data": {
      "text/plain": [
       "4"
      ]
     },
     "execution_count": 5,
     "metadata": {},
     "output_type": "execute_result"
    }
   ],
   "source": [
    "def lentab(arr):                                  # O(N^2) time complexity\n",
    "    n=len(arr)\n",
    "    dp=[1]*(n)\n",
    "    maxi=1\n",
    "    for i in range(n):\n",
    "        for prev in range(i):                   # make sure to iterate till i-1 so range(i )\n",
    "            if arr[i]> arr[prev]:\n",
    "                dp[i]=max( 1+ dp[prev] ,dp[i])\n",
    "        maxi= max(maxi, dp[i])\n",
    "    return maxi\n",
    "arr=[9,5,3,7,101,12,18]\n",
    "lentab(arr)           "
   ]
  },
  {
   "cell_type": "code",
   "execution_count": 7,
   "id": "cc856246",
   "metadata": {},
   "outputs": [
    {
     "data": {
      "text/plain": [
       "[1, 2, 5, 8, 90]"
      ]
     },
     "execution_count": 7,
     "metadata": {},
     "output_type": "execute_result"
    }
   ],
   "source": [
    "def backtrack_lis(arr):                         \n",
    "    n=len(arr)\n",
    "    dp=[1]*(n+1)\n",
    "    dic={}\n",
    "    maxi=1\n",
    "    for i in range(n):\n",
    "        dic[i]=i\n",
    "        for prev in range(i):\n",
    "            if arr[i]>arr[prev] and dp[i]<1+ dp[prev]:                  # by adding the if statement arr[i]%arr[prev]==0\n",
    "                dp[i]=  1+ dp[prev]                                     # we can find longest divisible subset of sorted array\n",
    "                dic[i]= prev\n",
    "        if dp[i]> maxi:\n",
    "            maxi=dp[i]\n",
    "            lastindex=i\n",
    "    new=[arr[lastindex]]\n",
    "    \n",
    "    while dic[lastindex]!= lastindex:        \n",
    "        lastindex= dic[lastindex]\n",
    "        new.append(arr[lastindex])\n",
    "    return new[::-1]\n",
    "arr=[1,1,6,2,5,3,8,90]\n",
    "backtrack_lis(arr)\n",
    "            "
   ]
  },
  {
   "cell_type": "code",
   "execution_count": 56,
   "id": "49da98f5",
   "metadata": {},
   "outputs": [
    {
     "name": "stdout",
     "output_type": "stream",
     "text": [
      "[1, 4]\n",
      "[1, 4, 6]\n",
      "[1, 2, 6]\n",
      "[1, 2, 5]\n",
      "[1, 2, 3]\n",
      "[1, 2, 3, 8]\n",
      "[1, 2, 3, 8, 90]\n"
     ]
    },
    {
     "data": {
      "text/plain": [
       "5"
      ]
     },
     "execution_count": 56,
     "metadata": {},
     "output_type": "execute_result"
    }
   ],
   "source": [
    "def lis_efficient(arr):\n",
    "    def bisect_left(a, x):\n",
    "        lo, hi = 0, len(a)\n",
    "        while lo < hi:\n",
    "            mid = (lo + hi) // 2\n",
    "            if a[mid] < x:  lo = mid + 1\n",
    "            else: hi = mid\n",
    "        return lo\n",
    "    \n",
    "    dp=[arr[0]]\n",
    "    for i in range(1,len(arr)):\n",
    "        if arr[i]>dp[-1]:\n",
    "            dp.append(arr[i])\n",
    "            print(dp)\n",
    "        else:\n",
    "            #replace the number in the dp which is just greater than the arr[i]\n",
    "            ind= bisect_left(dp, arr[i])\n",
    "            dp[ind]= arr[i]\n",
    "            print(dp)\n",
    "    return len(dp)\n",
    "arr=[1,4,6,2,5,3,8,90]\n",
    "lis_efficient(arr)"
   ]
  },
  {
   "cell_type": "markdown",
   "id": "40da93f2",
   "metadata": {},
   "source": [
    "# longest string chain"
   ]
  },
  {
   "cell_type": "code",
   "execution_count": 1,
   "id": "9e712374",
   "metadata": {},
   "outputs": [
    {
     "data": {
      "text/plain": [
       "True"
      ]
     },
     "execution_count": 1,
     "metadata": {},
     "output_type": "execute_result"
    }
   ],
   "source": [
    "def similar(arr, prr):\n",
    "    if len(prr)!= len(arr)+1: return False\n",
    "    i,j=0,0\n",
    "    count=0\n",
    "    while i< len(prr) and j< len(arr):\n",
    "        if arr[j]==prr[i]:\n",
    "            count+=1\n",
    "            j+=1\n",
    "            i+=1\n",
    "        else:\n",
    "            i+=1\n",
    "    return count==len(arr)\n",
    "similar(\"b\",\"ab\")\n",
    "            "
   ]
  },
  {
   "cell_type": "code",
   "execution_count": 81,
   "id": "cb1a5843",
   "metadata": {},
   "outputs": [
    {
     "data": {
      "text/plain": [
       "(4, ['a', 'ab', 'aba', 'daba'])"
      ]
     },
     "execution_count": 81,
     "metadata": {},
     "output_type": "execute_result"
    }
   ],
   "source": [
    "def backtrack_lis(arr):\n",
    "    n = len(arr)\n",
    "    dp = [1] * n\n",
    "    dic = {}\n",
    "    maxi = 1\n",
    "\n",
    "    # Initialize the dictionary to point each element to itself\n",
    "    for i in range(n):\n",
    "        dic[i] = i\n",
    "        for prev in range(i):\n",
    "            if similar(arr[prev], arr[i]) and dp[i] < 1 + dp[prev]:\n",
    "                dp[i] = 1 + dp[prev]\n",
    "                dic[i] = prev\n",
    "        if dp[i] > maxi:\n",
    "            maxi = dp[i]\n",
    "            lastindex = i\n",
    "    # Construct the longest chain\n",
    "    new = [arr[lastindex]]\n",
    "    while dic[lastindex] != lastindex:\n",
    "        lastindex = dic[lastindex]\n",
    "        new.append(arr[lastindex])\n",
    "    \n",
    "    return maxi,new[::-1]\n",
    "\n",
    "# Example usage\n",
    "arr = [\"a\", \"ab\", \"aba\", \"abc\", \"daba\"]\n",
    "backtrack_lis(arr) "
   ]
  },
  {
   "cell_type": "markdown",
   "id": "0a930b5a",
   "metadata": {},
   "source": [
    "# no. of lis"
   ]
  },
  {
   "cell_type": "code",
   "execution_count": 88,
   "id": "90cee96c",
   "metadata": {},
   "outputs": [
    {
     "data": {
      "text/plain": [
       "2"
      ]
     },
     "execution_count": 88,
     "metadata": {},
     "output_type": "execute_result"
    }
   ],
   "source": [
    "def liscount(arr):                               #    O(N^2) time complexity\n",
    "    n=len(arr)\n",
    "    dp=[1]*(n)\n",
    "    count=[1]*n\n",
    "    for i in range(n):\n",
    "        for prev in range(i):                   # make sure to iterate till i-1 so range(i )\n",
    "            if arr[i]> arr[prev] and 1+ dp[prev]> dp[i]:\n",
    "                dp[i]=1+ dp[prev] \n",
    "                count[i]= count[prev]\n",
    "            elif arr[i]> arr[prev] and 1+dp[prev]==dp[i]:\n",
    "                count[i]+=count[prev]              \n",
    "    return max(count)\n",
    "arr=[9,5,3,7,101,12,18]\n",
    "liscount(arr) "
   ]
  },
  {
   "cell_type": "markdown",
   "id": "6250f2ab",
   "metadata": {},
   "source": [
    "# bitonic"
   ]
  },
  {
   "cell_type": "code",
   "execution_count": 2,
   "id": "515f2f10",
   "metadata": {},
   "outputs": [
    {
     "data": {
      "text/plain": [
       "6"
      ]
     },
     "execution_count": 2,
     "metadata": {},
     "output_type": "execute_result"
    }
   ],
   "source": [
    "def bitonic(arr):\n",
    "    n=len(arr)\n",
    "    dp1=[1]*n\n",
    "    for i in range(1,n):\n",
    "        for prev in range(i):\n",
    "            if arr[i]> arr[prev] and dp1[i]<1+dp1[prev]:\n",
    "                dp1[i]= 1+dp1[prev]\n",
    "                \n",
    "    arr=arr[::-1]\n",
    "    dp2=[1]*n\n",
    "    for i in range(1,n):\n",
    "        for prev in range(i):\n",
    "            if arr[i]> arr[prev] and dp2[i]<1+dp2[prev]:\n",
    "                dp2[i]= 1+dp2[prev]\n",
    "    dp2= dp2[::-1]\n",
    "    for i in range(n):\n",
    "        dp1[i]= dp1[i]+ dp2[i]\n",
    "    return max(dp1)-1\n",
    "\n",
    "bitonic([1,11,2,10,4,5,2,1])              "
   ]
  },
  {
   "cell_type": "code",
   "execution_count": null,
   "id": "3eca2795",
   "metadata": {},
   "outputs": [],
   "source": []
  }
 ],
 "metadata": {
  "kernelspec": {
   "display_name": "Python 3 (ipykernel)",
   "language": "python",
   "name": "python3"
  },
  "language_info": {
   "codemirror_mode": {
    "name": "ipython",
    "version": 3
   },
   "file_extension": ".py",
   "mimetype": "text/x-python",
   "name": "python",
   "nbconvert_exporter": "python",
   "pygments_lexer": "ipython3",
   "version": "3.9.13"
  }
 },
 "nbformat": 4,
 "nbformat_minor": 5
}
