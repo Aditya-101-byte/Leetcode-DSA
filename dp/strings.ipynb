{
 "cells": [
  {
   "cell_type": "markdown",
   "id": "917e7a19",
   "metadata": {},
   "source": [
    "# longest common subsequence  L25"
   ]
  },
  {
   "cell_type": "code",
   "execution_count": 5,
   "id": "ea56caad",
   "metadata": {},
   "outputs": [
    {
     "name": "stdout",
     "output_type": "stream",
     "text": [
      "4\n",
      "4\n",
      "4\n",
      "4\n"
     ]
    }
   ],
   "source": [
    "s1=\"abbaab\"\n",
    "s2=\"aacaac\"\n",
    "n=len(s1)\n",
    "m=len(s2)\n",
    "dp=[[-1]*m for _ in range(n)]\n",
    "\n",
    "def lcs1(s1, s2,n,m):               #-------------------->recursion\n",
    "    if n<0 or m<0:\n",
    "        return 0\n",
    "    if s1[n]== s2[m]:\n",
    "        return 1+ lcs1(s1,s2,n-1,m-1)\n",
    "    else:\n",
    "        return max(lcs1(s1,s2,n-1,m), lcs1(s1,s2,n, m-1))\n",
    "\n",
    "def lcs2(s1, s2, n, m, dp):                     #----------->memoization\n",
    "    if n<0 or m<0:\n",
    "        return 0\n",
    "    if dp[n][m]!=-1: return dp[n][m]\n",
    "    if s1[n]== s2[m]:\n",
    "        dp[n][m]=  1+ lcs2(s1,s2,n-1,m-1,dp)\n",
    "        return dp[n][m]\n",
    "    else:\n",
    "        dp[n][m]=max(lcs2(s1,s2,n-1,m,dp), lcs2(s1,s2,n, m-1,dp))\n",
    "        return dp[n][m]\n",
    "\n",
    "def lcs3(s1,s2):                                   #--------------->tabulation\n",
    "    dp=[[-1]*(m+1) for i in range(n+1)]\n",
    "    for i in range(m+1): dp[0][i]=0       # do not use doube == \n",
    "    for j in range(n+1): dp[j][0]=0\n",
    "\n",
    "    for i in range(1,n+1):\n",
    "        for j in range(1, m+1):\n",
    "            if s1[i-1]==s2[j-1]: dp[i][j]= 1+ dp[i-1][j-1] \n",
    "            else: dp[i][j]= max(dp[i-1][j], dp[i][j-1]) \n",
    "    return dp[n][m]\n",
    "\n",
    "def lcs4(s1,s2):                                   #----------------------->space optimization\n",
    "    prev=[-1]*(m+1)\n",
    "    for i in range(m+1): prev[i]=0\n",
    "\n",
    "    for i in range(1,n+1):\n",
    "        curr=[-1]*(m+1)\n",
    "        for j in range(1, m+1):\n",
    "            if s1[i-1]==s2[j-1]: curr[j]= 1+ prev[j-1] \n",
    "            else: curr[j]= max(prev[j], curr[j-1]) \n",
    "        prev=curr\n",
    "    return prev[m]\n",
    "\n",
    "print(lcs1(s1,s1[::-1],n-1,m-1))\n",
    "print(lcs2(s1,s1[::-1],n-1,m-1,dp))\n",
    "print(lcs3(s1,s1[::-1]))\n",
    "print(lcs4(s1,s1[::-1]))"
   ]
  },
  {
   "cell_type": "code",
   "execution_count": 88,
   "id": "b65e6b2c",
   "metadata": {},
   "outputs": [
    {
     "name": "stdout",
     "output_type": "stream",
     "text": [
      "baab\n",
      "baab\n"
     ]
    }
   ],
   "source": [
    "# -------------------------------------->>>>>>>>>>>>>>>>>>>>>self method__\n",
    "dp=[[-1]*m for _ in range(n)]\n",
    "def lcso(s1, s2,n,m,dp):               #-------------------->memoization\n",
    "    if n<0 or m<0:\n",
    "        return \"\"\n",
    "    if dp[n][m]!=-1: return dp[n][m]\n",
    "    if s1[n]== s2[m]:\n",
    "        dp[n][m]=lcso(s1,s2,n-1,m-1,dp)+ s1[n]\n",
    "        return dp[n][m]\n",
    "    else:\n",
    "        if len(lcso(s1,s2,n-1,m,dp))>len(lcso(s1,s2,n,m-1,dp)):\n",
    "            dp[n][m]= lcso(s1,s2,n-1,m,dp)\n",
    "            return dp[n][m]\n",
    "        else:\n",
    "            dp[n][m]= lcso(s1,s2,n,m-1,dp)\n",
    "            return dp[n][m]\n",
    "\n",
    "def lcso1(s1, s2):                    #--------->space optimization\n",
    "    prev=[\"\"]*(m+1)\n",
    "    for i in range(m+1): prev[i]=\"\"\n",
    "\n",
    "    for i in range(1,n+1):\n",
    "        curr=[\"\"]*(m+1)\n",
    "        for j in range(1, m+1):\n",
    "            if s1[i-1]==s2[j-1]: curr[j]= prev[j-1] +s1[i-1]\n",
    "            else:\n",
    "                if len(prev[j])>len(curr[j-1]):\n",
    "                    curr[j]= prev[j]\n",
    "                else:\n",
    "                    curr[j]=curr[j-1] \n",
    "        prev=curr\n",
    "    return prev[m]\n",
    "\n",
    "print(lcso(s1,s1[::-1],n-1,m-1,dp))\n",
    "print(lcso1(s1,s1[::-1])  )"
   ]
  },
  {
   "cell_type": "code",
   "execution_count": 6,
   "id": "377ce4aa",
   "metadata": {},
   "outputs": [
    {
     "data": {
      "text/plain": [
       "'aiya'"
      ]
     },
     "execution_count": 6,
     "metadata": {},
     "output_type": "execute_result"
    }
   ],
   "source": [
    "# longest common subsequence\n",
    "s1= \"aditya\"\n",
    "s2= \"aiyta\"\n",
    "def lcsss(s1, s2):\n",
    "    m,n=len(s2), len(s1)\n",
    "    dp=[[-1]*(m+1) for i in range(n+1)]\n",
    "    for i in range(m+1): dp[0][i]=0       # do not use doube == \n",
    "    for j in range(n+1): dp[j][0]=0\n",
    "\n",
    "    for i in range(1,n+1):\n",
    "        for j in range(1, m+1):\n",
    "            if s1[i-1]==s2[j-1]: dp[i][j]= 1+ dp[i-1][j-1] \n",
    "            else: dp[i][j]= max(dp[i-1][j], dp[i][j-1]) \n",
    "    count= dp[n][m]\n",
    "    string= \"\"\n",
    "    i,j=n,m\n",
    "    while i>0 and j>0:\n",
    "        if s1[i-1]==s2[j-1]:\n",
    "            string+= s1[i-1]\n",
    "            i-=1\n",
    "            j-=1\n",
    "        elif dp[i-1][j]> dp[i][j-1]:\n",
    "            \n",
    "            i-=1            \n",
    "        else:\n",
    "            j-=1\n",
    "    return string[::-1]\n",
    "lcsss(s1,s2)"
   ]
  },
  {
   "cell_type": "code",
   "execution_count": 5,
   "id": "78538992",
   "metadata": {},
   "outputs": [],
   "source": [
    "# using this as master lcs to return dp\n",
    "def lcsmaster(s1, s2):\n",
    "    m,n=len(s2), len(s1)\n",
    "    dp=[[-1]*(m+1) for i in range(n+1)]\n",
    "    for i in range(m+1): dp[0][i]=0       # do not use doube == \n",
    "    for j in range(n+1): dp[j][0]=0\n",
    "\n",
    "    for i in range(1,n+1):\n",
    "        for j in range(1, m+1):\n",
    "            if s1[i-1]==s2[j-1]: dp[i][j]= 1+ dp[i-1][j-1] \n",
    "            else: dp[i][j]= max(dp[i-1][j], dp[i][j-1]) \n",
    "    return dp"
   ]
  },
  {
   "cell_type": "markdown",
   "id": "9fd3c9d7",
   "metadata": {},
   "source": [
    "# shortest commom supersequence"
   ]
  },
  {
   "cell_type": "code",
   "execution_count": 2,
   "id": "300a1437",
   "metadata": {},
   "outputs": [
    {
     "name": "stdout",
     "output_type": "stream",
     "text": [
      "[[0, 0, 0, 0, 0, 0], [0, 1, 1, 1, 1, 1], [0, 1, 2, 2, 2, 2], [0, 1, 2, 2, 2, 2], [0, 1, 2, 3, 3, 3]]\n"
     ]
    },
    {
     "data": {
      "text/plain": [
       "'blueed'"
      ]
     },
     "execution_count": 2,
     "metadata": {},
     "output_type": "execute_result"
    }
   ],
   "source": [
    "# returning the \n",
    "def loco(s1, s2):\n",
    "    n,m = len(s1),len(s2)\n",
    "    dp=[[-1]*(m+1) for i in range(n+1)]\n",
    "    for i in range(m+1): dp[0][i]=0\n",
    "    for i in range(n+1): dp[i][0]=0\n",
    "    for row in range(1,n+1):\n",
    "        for col in range(1,m+1):\n",
    "            if s1[row-1]==s2[col-1]: dp[row][col]= 1+dp[row-1][col-1]\n",
    "            else: dp[row][col]= max(dp[row-1][col], dp[row][col-1])\n",
    "    string= \"\"\n",
    "    i,j=n,m\n",
    "    print(dp)\n",
    "    while i>0 and j>0:\n",
    "        if s1[i-1]==s2[j-1]:\n",
    "            string+= s1[i-1]\n",
    "            i-=1\n",
    "            j-=1\n",
    "        elif dp[i-1][j]> dp[i][j-1]:\n",
    "            string+= s1[i-1] \n",
    "            i-=1            \n",
    "        else:\n",
    "            string+=s2[j-1]\n",
    "            j-=1\n",
    "    while i>0:\n",
    "        string+=s1[i-1]\n",
    "        i-=1\n",
    "    while j>0:\n",
    "        string+=s2[j-1]\n",
    "        j-=1\n",
    "    return string[::-1]\n",
    "loco(\"blue\",\"bleed\")   "
   ]
  },
  {
   "cell_type": "markdown",
   "id": "8cedf415",
   "metadata": {},
   "source": [
    "# longest common substring"
   ]
  },
  {
   "cell_type": "code",
   "execution_count": 3,
   "id": "4305fea4",
   "metadata": {},
   "outputs": [
    {
     "data": {
      "text/plain": [
       "3"
      ]
     },
     "execution_count": 3,
     "metadata": {},
     "output_type": "execute_result"
    }
   ],
   "source": [
    "s1= \"adatya\"\n",
    "def lcsubstring(s1,s2):                                   #--------------->tabulation\n",
    "    n=m=len(s1)\n",
    "    dp=[[-1]*(m+1) for i in range(n+1)]\n",
    "    for i in range(m+1): dp[0][i]=0       # do not use doube == \n",
    "    for j in range(n+1): dp[j][0]=0\n",
    "    ans=0\n",
    "    for i in range(1,n+1):\n",
    "        for j in range(1, m+1):\n",
    "            if s1[i-1]==s2[j-1]: dp[i][j]= 1+ dp[i-1][j-1] \n",
    "            else: dp[i][j]=0\n",
    "            if dp[i][j]> ans:\n",
    "                ans= dp[i][j]\n",
    "#                 k=i\n",
    "    return ans\n",
    "lcsubstring(s1,s1[::-1])"
   ]
  },
  {
   "cell_type": "markdown",
   "id": "d8121e80",
   "metadata": {},
   "source": [
    "# distinct supersequences"
   ]
  },
  {
   "cell_type": "code",
   "execution_count": 6,
   "id": "8f971e0a",
   "metadata": {},
   "outputs": [
    {
     "data": {
      "text/plain": [
       "4"
      ]
     },
     "execution_count": 6,
     "metadata": {},
     "output_type": "execute_result"
    }
   ],
   "source": [
    "def distinctsup(s1,s2):\n",
    "    n,m=len(s1),len(s2)\n",
    "    dp= lcsmaster(s1,s2)\n",
    "    i,j=n,m\n",
    "    count=1\n",
    "    while i>0 and j>0:\n",
    "        if s1[i-1]==s2[j-1] :\n",
    "            if 1+ dp[i-1][j-1]== dp[i-1][j]== dp[i][j-1]:\n",
    "                count+=2\n",
    "            elif 1+ dp[i-1][j-1]== dp[i-1][j] or 1+ dp[i-1][j-1]== dp[i][j-1]:\n",
    "                count+=1\n",
    "            \n",
    "            i-=1\n",
    "            j-=1\n",
    "        elif dp[i-1][j]==dp[i][j-1]:\n",
    "            count+=1\n",
    "            i-=1\n",
    "        elif dp[i-1][j]> dp[i][j-1]: i-=1            \n",
    "        else: j-=1\n",
    "    return count\n",
    "distinctsup(\"babgbag\",\"bag\") "
   ]
  },
  {
   "cell_type": "markdown",
   "id": "af75a6dc",
   "metadata": {},
   "source": [
    "# insertion/ deletion/ replacement"
   ]
  },
  {
   "cell_type": "code",
   "execution_count": 22,
   "id": "d82b4e6c",
   "metadata": {},
   "outputs": [
    {
     "data": {
      "text/plain": [
       "3"
      ]
     },
     "execution_count": 22,
     "metadata": {},
     "output_type": "execute_result"
    }
   ],
   "source": [
    "def f(i,j,str1, str2,dp):                    # here the base case hass ahve been switched to 1 based indexing from 0 based\n",
    "    if i==0: return j                           # if i<0: return j+1 \n",
    "    if j==0: return i                           # if j<0: return i+1\n",
    "    if dp[i][j]!=-1: return dp[i][j]\n",
    "    if str1[i-1]==str2[j-1]:                     # if str1[i]== str2[j]\n",
    "        dp[i][j] = f(i-1, j-1, str1, str2,dp)\n",
    "    else:\n",
    "        replace= f(i-1, j-1,str1, str2,dp) +1\n",
    "        insert= f(i, j-1,str1, str2,dp)+1\n",
    "        delete= f(i-1,j,str1, str2,dp)+1\n",
    "        dp[i][j] =min(replace, min(insert,delete))\n",
    "    return dp[i][j]\n",
    "def sol( str1, str2):\n",
    "    m,n=len(str1),len(str2)\n",
    "    dp=[[-1]*(n+1) for i in range(m+1)]               # from m,n to m+1, n+1\n",
    "    return f(m,n,str1,str2,dp)\n",
    "sol(\"horse\",\"ros\")"
   ]
  },
  {
   "cell_type": "code",
   "execution_count": 20,
   "id": "253b83b9",
   "metadata": {},
   "outputs": [
    {
     "data": {
      "text/plain": [
       "3"
      ]
     },
     "execution_count": 20,
     "metadata": {},
     "output_type": "execute_result"
    }
   ],
   "source": [
    "def ftab(str1, str2):\n",
    "    m,n=len(str1),len(str2)\n",
    "    dp=[[0]*(n+1) for i in range(m+1)]       \n",
    "    for j in range(n): dp[0][j]= j\n",
    "    for i in range(m): dp[i][0]= i\n",
    "\n",
    "    for i in range(1,m+1):\n",
    "        for j in range(1,n+1):\n",
    "            if str1[i-1]==str2[j-1]:                     # if str1[i]== str2[j]\n",
    "                dp[i][j] = dp[i-1][j-1]\n",
    "            else:\n",
    "                replace= dp[i-1][j-1] +1\n",
    "                insert= dp[i][j-1]+1\n",
    "                delete= dp[i-1][j]+1\n",
    "                dp[i][j] =min(replace, min(insert,delete))\n",
    "    return dp[m][n]\n",
    "\n",
    "ftab(\"horse\",\"ros\")           "
   ]
  },
  {
   "cell_type": "markdown",
   "id": "59096c2a",
   "metadata": {},
   "source": [
    "# wildcard matching"
   ]
  },
  {
   "cell_type": "code",
   "execution_count": 46,
   "id": "8147c9c6",
   "metadata": {},
   "outputs": [
    {
     "data": {
      "text/plain": [
       "True"
      ]
     },
     "execution_count": 46,
     "metadata": {},
     "output_type": "execute_result"
    }
   ],
   "source": [
    "def wildcard(i,j,str1,str2,dp):\n",
    "    if i== 0 and j== 0:return True             # Both strings are fully matched\n",
    "        \n",
    "    if i==0 and j>0: return False\n",
    "    if j==0 and i>0:\n",
    "        for k in str1[:i]:\n",
    "            if k!='*': return False\n",
    "        return True\n",
    "    if dp[i][j]!=-1: return dp[i][j]\n",
    "    if str1[i-1] == str2[j-1] or str1[i-1]=='?': dp[i][j]= wildcard(i-1,j-1,str1,str2,dp)\n",
    "    elif str1[i-1]=='*': dp[i][j]= wildcard(i-1,j,str1,str2,dp)  or wildcard(i,j-1,str1,str2,dp)\n",
    "    else: dp[i][j]=  False\n",
    "    return dp[i][j]\n",
    "def ans(str1, str2):\n",
    "    m,n=len(str1),len(str2)\n",
    "    dp=[[-1]*(n+1) for _ in range(m+1)]\n",
    "    return wildcard(m, n,str1,str2,dp)\n",
    "ans(\"k**?abc\",\"kkabc\")"
   ]
  },
  {
   "cell_type": "code",
   "execution_count": 51,
   "id": "df01da3a",
   "metadata": {},
   "outputs": [
    {
     "data": {
      "text/plain": [
       "True"
      ]
     },
     "execution_count": 51,
     "metadata": {},
     "output_type": "execute_result"
    }
   ],
   "source": [
    "def wtab(str1,str2):\n",
    "    m,n=len(str1),len(str2)\n",
    "    dp=[[False]*(n+1) for _ in range(m+1)]\n",
    "    dp[0][0]=True\n",
    "    for i in range(1,m+1):\n",
    "        dp[i][0] = dp[i - 1][0] and str1[i - 1] == '*'        # base cond fantastic\n",
    "        \n",
    "    for i in range(1, m+1):\n",
    "        for j in range(1,n+1):\n",
    "            if str1[i-1] == str2[j-1] or str1[i-1]=='?': dp[i][j]= dp[i-1][j-1]\n",
    "            elif str1[i-1]=='*': dp[i][j]= dp[i][j-1]  or dp[i-1][j]\n",
    "            else: dp[i][j]=  False\n",
    "    return dp[m-1][n-1]\n",
    "wtab(\"k?*abc\",\"kkabc\")      "
   ]
  },
  {
   "cell_type": "code",
   "execution_count": null,
   "id": "a836e5fe",
   "metadata": {},
   "outputs": [],
   "source": []
  }
 ],
 "metadata": {
  "kernelspec": {
   "display_name": "Python 3 (ipykernel)",
   "language": "python",
   "name": "python3"
  },
  "language_info": {
   "codemirror_mode": {
    "name": "ipython",
    "version": 3
   },
   "file_extension": ".py",
   "mimetype": "text/x-python",
   "name": "python",
   "nbconvert_exporter": "python",
   "pygments_lexer": "ipython3",
   "version": "3.9.13"
  }
 },
 "nbformat": 4,
 "nbformat_minor": 5
}
