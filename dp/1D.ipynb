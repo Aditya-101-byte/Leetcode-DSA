{
 "cells": [
  {
   "cell_type": "markdown",
   "id": "fa74981a",
   "metadata": {},
   "source": [
    "# Dynamic Programming"
   ]
  },
  {
   "cell_type": "code",
   "execution_count": 13,
   "id": "89d50f73",
   "metadata": {},
   "outputs": [],
   "source": [
    "import sys"
   ]
  },
  {
   "cell_type": "markdown",
   "id": "c1b943dc",
   "metadata": {},
   "source": [
    "step1= try to represent the problem in terms of index\n",
    "\n",
    "step2= do all operations on that\n",
    "\n",
    "step3= take minimum/ maximum or count all answers "
   ]
  },
  {
   "cell_type": "markdown",
   "id": "63c3ddab",
   "metadata": {},
   "source": [
    "MEMOIZATION------> TABULATION-----> SPACE OPTIMIZATION"
   ]
  },
  {
   "cell_type": "code",
   "execution_count": 25,
   "id": "98ee5834",
   "metadata": {},
   "outputs": [
    {
     "data": {
      "text/plain": [
       "8"
      ]
     },
     "execution_count": 25,
     "metadata": {},
     "output_type": "execute_result"
    }
   ],
   "source": [
    "def fibonacci(n, dp= None):\n",
    "    if dp is None:\n",
    "        dp=[-1]*(n+1)\n",
    "    if n<= 1:\n",
    "        return n\n",
    "    \n",
    "    if dp[n]!=-1: return dp[n]\n",
    "    dp[n] = fibonacci(n-1)+ fibonacci(n-2)\n",
    "    return dp[n]\n",
    "\n",
    "fibonacci (6)"
   ]
  },
  {
   "cell_type": "code",
   "execution_count": 8,
   "id": "6ee27ea7",
   "metadata": {},
   "outputs": [
    {
     "data": {
      "text/plain": [
       "55"
      ]
     },
     "execution_count": 8,
     "metadata": {},
     "output_type": "execute_result"
    }
   ],
   "source": [
    "def fib(n):\n",
    "    prev2=0\n",
    "    prev1=1\n",
    "    if n<=1:\n",
    "        return n\n",
    "    else:        \n",
    "        for i in range(2,n+1):\n",
    "            curr= prev1 + prev2\n",
    "            prev1, prev2= curr ,prev1\n",
    "    return curr\n",
    "fib(10)"
   ]
  },
  {
   "cell_type": "code",
   "execution_count": 9,
   "id": "6f6c3dd5",
   "metadata": {},
   "outputs": [],
   "source": [
    "def fibb(n):\n",
    "    prev, curr=0, 1\n",
    "    if n<2: return n\n",
    "    for i in range(2, n+1):\n",
    "        curr+= prev\n",
    "        prev= curr-prev\n",
    "    return curr"
   ]
  },
  {
   "cell_type": "code",
   "execution_count": 39,
   "id": "19c32d15",
   "metadata": {},
   "outputs": [
    {
     "data": {
      "text/plain": [
       "89"
      ]
     },
     "execution_count": 39,
     "metadata": {},
     "output_type": "execute_result"
    }
   ],
   "source": [
    "#clibing satirs using 1 or 2 steps find number of ways\n",
    "def ladder(n):\n",
    "    if n<=1:\n",
    "        return 1\n",
    "    left= ladder(n-1)\n",
    "    lef= ladder(n-2)\n",
    "    return left+ lef\n",
    "# same problem as before here prev1 and prev2 both are 1 \n",
    "\n",
    "ladder(10)"
   ]
  },
  {
   "cell_type": "markdown",
   "id": "39fe9bd9",
   "metadata": {},
   "source": [
    "# FROG JUMPS"
   ]
  },
  {
   "cell_type": "code",
   "execution_count": 21,
   "id": "7472a6b4",
   "metadata": {},
   "outputs": [
    {
     "data": {
      "text/plain": [
       "(90, [-1, 30, 50, 40, 60, 90])"
      ]
     },
     "execution_count": 21,
     "metadata": {},
     "output_type": "execute_result"
    }
   ],
   "source": [
    "def frog_jump1(arr):                     # memoization approach\n",
    "    dp=[-1 for i in range(len(arr))]\n",
    "    return f(len(arr)-1, arr,dp ), dp\n",
    "\n",
    "def f(index, arr, dp):\n",
    "    if index==0: return 0\n",
    "    if dp[index]!= -1: return dp[index]\n",
    "    lef= f(index-1, arr, dp) + abs(arr[index]- arr[index-1])\n",
    "    righ= max(arr)\n",
    "    if index>1 : righ= f(index-2, arr, dp)+abs(arr[index]- arr[index-2])\n",
    "    dp[index]= min(lef, righ)\n",
    "\n",
    "    return dp[index]\n",
    "\n",
    "frog_jump1([10,40,60,30,70,100])\n"
   ]
  },
  {
   "cell_type": "code",
   "execution_count": 14,
   "id": "935ad584",
   "metadata": {},
   "outputs": [
    {
     "data": {
      "text/plain": [
       "(80, [-1, 40, 30, 70, 30, 80])"
      ]
     },
     "execution_count": 14,
     "metadata": {},
     "output_type": "execute_result"
    }
   ],
   "source": [
    "def fk(index, arr, dp, k):\n",
    "    if index==0: return 0\n",
    "    if dp[index]!= -1: return dp[index]\n",
    "    maxi= sys.maxsize\n",
    "    for i in range(1,k+1):\n",
    "        if index-i>=0:\n",
    "            new= fk(index-i, arr, dp, k)+ abs(arr[index]- arr[index-i])\n",
    "            maxi= min(maxi, new)\n",
    "    dp[index]= maxi\n",
    "    return dp[index]\n",
    "\n",
    "def solve(height, k):\n",
    "    n= len(height)\n",
    "    dp = [-1] * n  # Initialize a memoization array to store calculated results\n",
    "    return fk(n - 1, height, dp, k) , dp\n",
    "solve([90,50,60,20,60,10], 3)"
   ]
  },
  {
   "cell_type": "markdown",
   "id": "01a614eb",
   "metadata": {},
   "source": [
    "# memoization --> top down approach tabulation--> bottom up "
   ]
  },
  {
   "cell_type": "code",
   "execution_count": 43,
   "id": "7081827d",
   "metadata": {},
   "outputs": [
    {
     "data": {
      "text/plain": [
       "(90, [0, 30, 50, 40, 60, 90])"
      ]
     },
     "execution_count": 43,
     "metadata": {},
     "output_type": "execute_result"
    }
   ],
   "source": [
    "import sys               # tabulation approach\n",
    "def frog_jump2(arr):\n",
    "    n= len(arr)\n",
    "    dp=[0 for _ in range(n)]\n",
    "    dp[0]=0\n",
    "    for i in range(1,n):\n",
    "        first= dp[i-1]+ abs(arr[i]- arr[i-1])\n",
    "        second= sys.maxsize\n",
    "        if i>1: second= dp[i-2]+ abs(arr[i]- arr[i-2])\n",
    "        dp[i]= min(first, second)\n",
    "    return dp[n-1], dp\n",
    "frog_jump2([10,40,60,30,70,100])"
   ]
  },
  {
   "cell_type": "code",
   "execution_count": 62,
   "id": "0d2714c5",
   "metadata": {},
   "outputs": [
    {
     "data": {
      "text/plain": [
       "(0, [0, 30, 0, 20, 60, 0])"
      ]
     },
     "execution_count": 62,
     "metadata": {},
     "output_type": "execute_result"
    }
   ],
   "source": [
    "import sys               # tabulation approach\n",
    "def frog_jumpk2(arr,k):\n",
    "    n= len(arr)\n",
    "    dp=[0 for _ in range(n)]\n",
    "    dp[0]=0\n",
    "    for i in range(1,n):\n",
    "        minsteps=sys.maxsize\n",
    "        for j in range(1,k+1):\n",
    "            if i>=j:\n",
    "                jump= dp[i-j]+ abs( arr[i]- arr[i-j])\n",
    "                minsteps= min(minsteps, jump)\n",
    "        dp[i]= minsteps\n",
    "    return dp[n-1], dp\n",
    "frog_jumpk2([10,40,10,30,70,10], 3)\n",
    "# here dp array should be initialized as - sym.maxsize instead"
   ]
  },
  {
   "cell_type": "code",
   "execution_count": 32,
   "id": "169d6ed7",
   "metadata": {},
   "outputs": [],
   "source": [
    "# there is always space optimization if we are working with index i-1 and i-2"
   ]
  },
  {
   "cell_type": "code",
   "execution_count": 42,
   "id": "55c9ff86",
   "metadata": {},
   "outputs": [
    {
     "data": {
      "text/plain": [
       "90"
      ]
     },
     "execution_count": 42,
     "metadata": {},
     "output_type": "execute_result"
    }
   ],
   "source": [
    "def frog_jump3(arr):             # space optimization \n",
    "    n= len(arr)\n",
    "    prev, prev2=0,0\n",
    "    for i in range(1,n):\n",
    "        first= prev+ abs(arr[i]- arr[i-1])\n",
    "        second= sys.maxsize\n",
    "        if i>1: second= prev2+ abs(arr[i]- arr[i-2])\n",
    "        curr= min(first, second)\n",
    "        prev2, prev= prev, curr\n",
    "    return prev\n",
    "frog_jump3([10,40,60,30,70,100])"
   ]
  }
 ],
 "metadata": {
  "kernelspec": {
   "display_name": "Python 3 (ipykernel)",
   "language": "python",
   "name": "python3"
  },
  "language_info": {
   "codemirror_mode": {
    "name": "ipython",
    "version": 3
   },
   "file_extension": ".py",
   "mimetype": "text/x-python",
   "name": "python",
   "nbconvert_exporter": "python",
   "pygments_lexer": "ipython3",
   "version": "3.9.13"
  }
 },
 "nbformat": 4,
 "nbformat_minor": 5
}
