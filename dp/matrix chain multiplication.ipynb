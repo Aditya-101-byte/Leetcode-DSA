{
 "cells": [
  {
   "cell_type": "code",
   "execution_count": 12,
   "id": "faa4f8b9",
   "metadata": {},
   "outputs": [],
   "source": [
    "arr=[10,30,5,60]\n",
    "dp= [[-1]*len(arr) for i in range(len(arr))]\n",
    "import sys"
   ]
  },
  {
   "cell_type": "code",
   "execution_count": 13,
   "id": "bc52dd34",
   "metadata": {},
   "outputs": [
    {
     "data": {
      "text/plain": [
       "4500"
      ]
     },
     "execution_count": 13,
     "metadata": {},
     "output_type": "execute_result"
    }
   ],
   "source": [
    "def mcm1(i,j,dp):\n",
    "    if i==j:  return 0\n",
    "    mini=1e9                                 # sys.maxsize\n",
    "    if dp[i][j]!=-1: return dp[i][j]\n",
    "    for k in range(i,j ):\n",
    "        steps=arr[i-1]*arr[k]*arr[j] + mcm1(i,k,dp)+mcm1(k+1,j,dp)\n",
    "        mini= min(mini, steps)\n",
    "    dp[i][j]=mini\n",
    "    return dp[i][j]\n",
    "mcm1(1,len(arr)-1,dp)"
   ]
  },
  {
   "cell_type": "code",
   "execution_count": 14,
   "id": "c1398b2e",
   "metadata": {},
   "outputs": [
    {
     "data": {
      "text/plain": [
       "4500"
      ]
     },
     "execution_count": 14,
     "metadata": {},
     "output_type": "execute_result"
    }
   ],
   "source": [
    "def mcm2(arr):\n",
    "    n=len(arr)\n",
    "    dp=[[-1]*n for _ in range(n)]\n",
    "    for i in range(n):\n",
    "        dp[i][i]=0\n",
    "    for i in range(n-1,0,-1):\n",
    "        for j in range(i+1,n):\n",
    "            mini=1e9\n",
    "            for k in range(i,j):\n",
    "                steps=arr[i-1]*arr[k]*arr[j] + dp[i][k] + dp[k+1][j]\n",
    "                mini= min(mini, steps)\n",
    "            dp[i][j]=mini\n",
    "    return dp[1][n-1]\n",
    "mcm2(arr)            \n",
    "            "
   ]
  },
  {
   "cell_type": "markdown",
   "id": "52749ba2",
   "metadata": {},
   "source": [
    "# rod cutting"
   ]
  },
  {
   "cell_type": "code",
   "execution_count": 127,
   "id": "c611eaad",
   "metadata": {},
   "outputs": [
    {
     "data": {
      "text/plain": [
       "14"
      ]
     },
     "execution_count": 127,
     "metadata": {},
     "output_type": "execute_result"
    }
   ],
   "source": [
    "cuts=[1,3,5]\n",
    "def rodcut(i,j,cuts,dp):\n",
    "    if i>j: return 0\n",
    "    mini=1e9\n",
    "    if dp[i][j]!=-1: return dp[i][j]\n",
    "    for k in range(i, j+1):\n",
    "        length= cuts[j+1]-cuts[i-1] + rodcut(i, k-1,cuts,dp) + rodcut(k+1, j,cuts,dp)\n",
    "        mini= min(mini, length)\n",
    "    dp[i][j]= mini\n",
    "    return dp[i][j]\n",
    "\n",
    "def cost(n,c,cuts):\n",
    "    k=c+2\n",
    "    dp=[[-1]*k for i in range(k)]\n",
    "    cuts.insert(0,0)\n",
    "    cuts.append(n)\n",
    "    cuts= sorted(cuts)\n",
    "    return rodcut(1,c,cuts,dp)\n",
    "cost(7,3,cuts)"
   ]
  },
  {
   "cell_type": "code",
   "execution_count": 82,
   "id": "5c8efd85",
   "metadata": {},
   "outputs": [],
   "source": [
    "def rodcut2(n,c,cuts):\n",
    "    cuts.insert(0,0)\n",
    "    cuts.append(n)\n",
    "    cuts=sorted(cuts)\n",
    "    dp=[[0]*(c+2) for i in range(c+2)]\n",
    "    \n",
    "    for i in range(c,0,-1):\n",
    "        for j in range(1,c+1):\n",
    "            if i>j: continue\n",
    "            mini=1e9\n",
    "            for k in range(i, j+1):\n",
    "                length= cuts[j+1]-cuts[i-1] + dp[i][k-1] + dp[k+1][j]\n",
    "                mini= min(mini, length)\n",
    "            dp[i][j]= mini\n",
    "    print(\"dp---->\",dp)\n",
    "    return dp[1][c]\n",
    "        "
   ]
  },
  {
   "cell_type": "code",
   "execution_count": 90,
   "id": "212a46bc",
   "metadata": {},
   "outputs": [
    {
     "name": "stdout",
     "output_type": "stream",
     "text": [
      "dp----> [[0, 0, 0, 0, 0], [0, 3, 8, 14, 0], [0, 0, 4, 10, 0], [0, 0, 0, 4, 0], [0, 0, 0, 0, 0]]\n"
     ]
    },
    {
     "data": {
      "text/plain": [
       "14"
      ]
     },
     "execution_count": 90,
     "metadata": {},
     "output_type": "execute_result"
    }
   ],
   "source": [
    "cuts=[1,3,5]\n",
    "rodcut2(7,3,cuts)"
   ]
  },
  {
   "cell_type": "markdown",
   "id": "28548d7b",
   "metadata": {},
   "source": [
    "# balloons"
   ]
  },
  {
   "cell_type": "code",
   "execution_count": 128,
   "id": "e1af3831",
   "metadata": {},
   "outputs": [
    {
     "data": {
      "text/plain": [
       "140"
      ]
     },
     "execution_count": 128,
     "metadata": {},
     "output_type": "execute_result"
    }
   ],
   "source": [
    "def balloon1(i,j,arr,dp):\n",
    "    if i >j : return 0\n",
    "    maxi=-1\n",
    "    if dp[i][j]!=-1: return dp[i][j]\n",
    "    for k in range(i,j+1):\n",
    "        steps= arr[i-1]*arr[k]*arr[j+1]+ balloon1(i, k-1,arr,dp) + balloon1(k+1, j, arr,dp)\n",
    "        maxi= max(steps, maxi)\n",
    "    dp[i][j]= maxi\n",
    "    return dp[i][j]\n",
    "def solution(arr):\n",
    "    n=len(arr)\n",
    "    dp=[[-1]*(n+2) for _ in range(n+2)]\n",
    "    arr.append(1)\n",
    "    arr.insert(0,1)\n",
    "    return balloon1(1,n,arr,dp )\n",
    "solution([1,3,5,7])"
   ]
  },
  {
   "cell_type": "code",
   "execution_count": 131,
   "id": "2ea02bd4",
   "metadata": {},
   "outputs": [
    {
     "name": "stdout",
     "output_type": "stream",
     "text": [
      "1 4 4\n"
     ]
    },
    {
     "data": {
      "text/plain": [
       "140"
      ]
     },
     "execution_count": 131,
     "metadata": {},
     "output_type": "execute_result"
    }
   ],
   "source": [
    "def balloon_tab(arr):\n",
    "    n= len(arr)\n",
    "    arr.append(1)\n",
    "    arr.insert(0,1)\n",
    "    dp=[[0]*(n+2) for _ in range(n+2)]\n",
    "    for i in range(n,0,-1):\n",
    "        for j in range(i,n+1):\n",
    "            maxi=-1\n",
    "            for k in range(i,j+1):\n",
    "                steps= arr[i-1]*arr[k]*arr[j+1]+ dp[i][k-1] + dp[k+1][j]\n",
    "                maxi= max(steps, maxi)\n",
    "            dp[i][j]= maxi\n",
    "    return dp[1][n]                  # at this final state i,j = 1,n or whatever appenars here so dp[i][j] also works.\n",
    "balloon_tab([1,3,5,7])"
   ]
  },
  {
   "cell_type": "markdown",
   "id": "38cc2126",
   "metadata": {},
   "source": [
    "# boolean"
   ]
  },
  {
   "cell_type": "code",
   "execution_count": 149,
   "id": "ac4cc8b4",
   "metadata": {},
   "outputs": [
    {
     "data": {
      "text/plain": [
       "0"
      ]
     },
     "execution_count": 149,
     "metadata": {},
     "output_type": "execute_result"
    }
   ],
   "source": [
    "arr=\"F&T&T\"\n",
    "def boolean(i,j,istrue,dp):\n",
    "    if i>j : return 0\n",
    "    mod = 1000000007\n",
    "    if i==j:\n",
    "        if istrue: return arr[i]=='T' \n",
    "        else: return arr[i]=='F'\n",
    "    if dp[i][j][istrue]!= -1 : return dp[i][j][istrue]\n",
    "    steps=0\n",
    "    for op in range(i+1, j,2):\n",
    "        lt= boolean(i, op-1, 1,dp)\n",
    "        lf= boolean(i, op-1, 0,dp)\n",
    "        rt= boolean(op+1, j, 1,dp)\n",
    "        rf= boolean(op+1, j, 0,dp)\n",
    "        if arr[op] == '&':\n",
    "            if istrue==1: steps+= (lt*rt)%mod\n",
    "            else: steps+= ((lf*rf)%mod + (lt*rf)%mod +(lf*rt)%mod)%mod\n",
    "        elif arr[op] == '|':\n",
    "            if istrue==1: steps+= lt*rt + lt*rf +lf*rt               #-----------> in all the 3 if elif and elif statements \n",
    "            else: steps+=lf*rf                                       #-----------> mod is applied\n",
    "        elif arr[op] == '^':\n",
    "            if istrue==1: steps+= lt*rf +lf*rt\n",
    "            else: steps+= lf*rf + lt*rt\n",
    "\n",
    "    dp[i][j][istrue]= steps\n",
    "    return dp[i][j][istrue]\n",
    "\n",
    "def soln(arr):\n",
    "    n=len(arr)\n",
    "    dp=[[[-1]*2 for _ in range(n)] for _ in range(n)]\n",
    "    return boolean(0, n-1,1,dp)\n",
    "soln(arr)"
   ]
  },
  {
   "cell_type": "code",
   "execution_count": 150,
   "id": "8482a856",
   "metadata": {},
   "outputs": [
    {
     "data": {
      "text/plain": [
       "0"
      ]
     },
     "execution_count": 150,
     "metadata": {},
     "output_type": "execute_result"
    }
   ],
   "source": [
    "def bool_tab(arr):\n",
    "    n=len(arr)\n",
    "    dp=[[[0]*2 for _ in range(n)] for _ in range(n)]\n",
    "    for i in range(n):\n",
    "        dp[i][i][1]= arr[i]=='T'\n",
    "        dp[i][i][0]= arr[i]=='F'\n",
    "    for i in range(n-1,-1,-1):\n",
    "        for j in range(0, n): \n",
    "            for istrue in range(2):\n",
    "                maxi=-1\n",
    "                steps=0\n",
    "                for op in range(i+1, j+1,2):\n",
    "                    lt= boolean(i, op-1, 1,dp)\n",
    "                    lf= boolean(i, op-1, 0,dp)\n",
    "                    rt= boolean(op+1, j, 1,dp)\n",
    "                    rf= boolean(op+1, j, 0,dp)\n",
    "                    if arr[op] == '&':\n",
    "                        if istrue==1: steps+= lt*rt\n",
    "                        else: steps+= lf*rf + lt*rf +lf*rt\n",
    "                    elif arr[op] == '|':\n",
    "                        if istrue==1: steps+= lt*rt + lt*rf +lf*rt\n",
    "                        else: steps+=lf*rf \n",
    "                    elif arr[op] == '^':\n",
    "                        if istrue==1: steps+= lt*rf +lf*rt\n",
    "                        else: steps+= lf*rf + lt*rt\n",
    "                    maxi= max(maxi, steps)\n",
    "                dp[i][j][istrue]= maxi\n",
    "    return dp[i][j][1]\n",
    "\n",
    "arr=\"F&T&T\"\n",
    "bool_tab(arr)"
   ]
  },
  {
   "cell_type": "markdown",
   "id": "6ef6e73d",
   "metadata": {},
   "source": [
    "# palindrome partitions "
   ]
  },
  {
   "cell_type": "code",
   "execution_count": 177,
   "id": "161e5048",
   "metadata": {},
   "outputs": [
    {
     "data": {
      "text/plain": [
       "(2, [3, 3, 2, 3, 2, 1])"
      ]
     },
     "execution_count": 177,
     "metadata": {},
     "output_type": "execute_result"
    }
   ],
   "source": [
    "def ispalin(string):\n",
    "    if string==string[::-1]: return True\n",
    "    return False\n",
    "def palindrome(i,arr,dp):\n",
    "    if i==len(arr): return 0\n",
    "    new=\"\"\n",
    "    mini= 1e9\n",
    "    if dp[i]!=-1: return dp[i]\n",
    "    for k in range(i,len(arr)):\n",
    "        new+=arr[k]\n",
    "        if ispalin(new):\n",
    "            count=1+ palindrome(k+1, arr,dp)\n",
    "            mini= min(mini, count)\n",
    "        dp[i]=mini\n",
    "    return dp[i]\n",
    "def ans(arr):\n",
    "    n=len(arr)\n",
    "    dp=[-1]*n\n",
    "    return palindrome(0,arr,dp)-1, dp\n",
    "ans(\"aabwbc\")"
   ]
  },
  {
   "cell_type": "code",
   "execution_count": 188,
   "id": "f39a0f9e",
   "metadata": {},
   "outputs": [
    {
     "data": {
      "text/plain": [
       "2"
      ]
     },
     "execution_count": 188,
     "metadata": {},
     "output_type": "execute_result"
    }
   ],
   "source": [
    "def paltab(arr):\n",
    "    n=len(arr)\n",
    "    dp=[0]*(n+1)\n",
    "    for i in range(n,-1,-1):\n",
    "        new=\"\"\n",
    "        mini=1e9\n",
    "        for k in range(i,len(arr)):\n",
    "            new+=arr[k]\n",
    "            if ispalin(new):\n",
    "                count=1+ dp[k+1]\n",
    "                mini= min(mini, count)\n",
    "            dp[i]=mini\n",
    "    return dp[0] -1\n",
    "paltab(\"aabbdgnjnjngd\")\n",
    "    "
   ]
  },
  {
   "cell_type": "markdown",
   "id": "727f78b2",
   "metadata": {},
   "source": [
    "# max array partition sum"
   ]
  },
  {
   "cell_type": "code",
   "execution_count": 201,
   "id": "465144ff",
   "metadata": {},
   "outputs": [
    {
     "data": {
      "text/plain": [
       "33"
      ]
     },
     "execution_count": 201,
     "metadata": {},
     "output_type": "execute_result"
    }
   ],
   "source": [
    "def partition(i,arr,dp):\n",
    "    if i==len(arr): return 0\n",
    "    len1 =0\n",
    "    maxi,ans= -1,-1                                # instead of -1 use -inf or something/ -1e9      \n",
    "    if dp[i]!=-1: return dp[i]\n",
    "    for k in range(i, min(i+3, len(arr))):\n",
    "        len1 +=1\n",
    "        maxi= max(maxi, arr[k])\n",
    "        sum1= len1*maxi + partition(k+1,arr,dp)\n",
    "        ans=max(ans,sum1)\n",
    "    dp[i]=ans\n",
    "    return dp[i]\n",
    "\n",
    "def sol(arr):\n",
    "    n=len(arr)\n",
    "    dp=[-1]*(n+1)\n",
    "    return partition(0, arr,dp)\n",
    "sol([1,3,5,7,9])          "
   ]
  },
  {
   "cell_type": "code",
   "execution_count": 209,
   "id": "0557aa81",
   "metadata": {},
   "outputs": [
    {
     "data": {
      "text/plain": [
       "94"
      ]
     },
     "execution_count": 209,
     "metadata": {},
     "output_type": "execute_result"
    }
   ],
   "source": [
    "def partition_tab(arr):\n",
    "    n=len(arr)\n",
    "    dp=[0]*(n+1)    \n",
    "    for i in range(n,-1,-1):        \n",
    "        len1 =0\n",
    "        maxi,ans= -1,-1                             # instead of -1 use -inf or something/ -1e9           \n",
    "        for k in range(i, min(i+3, n)):\n",
    "            len1 +=1\n",
    "            maxi= max(maxi, arr[k])\n",
    "            sum1= len1*maxi + partition(k+1,arr,dp)\n",
    "            ans=max(ans,sum1)\n",
    "        dp[i]=ans\n",
    "    return dp[0]\n",
    "partition_tab([1,3,20,17,9])"
   ]
  },
  {
   "cell_type": "code",
   "execution_count": null,
   "id": "7d957ba0",
   "metadata": {},
   "outputs": [],
   "source": []
  }
 ],
 "metadata": {
  "kernelspec": {
   "display_name": "Python 3 (ipykernel)",
   "language": "python",
   "name": "python3"
  },
  "language_info": {
   "codemirror_mode": {
    "name": "ipython",
    "version": 3
   },
   "file_extension": ".py",
   "mimetype": "text/x-python",
   "name": "python",
   "nbconvert_exporter": "python",
   "pygments_lexer": "ipython3",
   "version": "3.9.13"
  }
 },
 "nbformat": 4,
 "nbformat_minor": 5
}
