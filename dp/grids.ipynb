{
 "cells": [
  {
   "cell_type": "markdown",
   "id": "5fbb87ea",
   "metadata": {},
   "source": [
    "# ninja training"
   ]
  },
  {
   "cell_type": "code",
   "execution_count": 7,
   "id": "9d86f84e",
   "metadata": {},
   "outputs": [
    {
     "name": "stdout",
     "output_type": "stream",
     "text": [
      "[[8, 8, 4, -1], [13, 17, 17, -1], [23, 23, 21, -1], [-1, -1, -1, 32]]\n"
     ]
    },
    {
     "data": {
      "text/plain": [
       "32"
      ]
     },
     "execution_count": 7,
     "metadata": {},
     "output_type": "execute_result"
    }
   ],
   "source": [
    "def lastday(day, last, dp):\n",
    "    if day<0: return 0\n",
    "    if dp[day][last]!= -1: return dp[day][last]\n",
    "    maxi=0\n",
    "    for i in range(3):\n",
    "        if i != last: \n",
    "            maxi= max(maxi, task[day][i]+ lastday(day-1, i, dp))\n",
    "    dp[day][last]= maxi\n",
    "    if day==3: print(dp)\n",
    "    return dp[day][last]\n",
    "\n",
    "task=[[1,4,8],[9,5,2],[3,4,6],[9,7,10]]\n",
    "dp=[[-1]*4 for i in range(4)]\n",
    "lastday(3,3,dp)   "
   ]
  },
  {
   "cell_type": "code",
   "execution_count": 2,
   "id": "de5b646b",
   "metadata": {},
   "outputs": [],
   "source": [
    "def ge(arr):\n",
    "        return min(arr[i:] + arr[:i] for i in range(len(arr)))"
   ]
  },
  {
   "cell_type": "code",
   "execution_count": 5,
   "id": "47229038",
   "metadata": {},
   "outputs": [
    {
     "data": {
      "text/plain": [
       "[1, 6, 2, 3, 4]"
      ]
     },
     "execution_count": 5,
     "metadata": {},
     "output_type": "execute_result"
    }
   ],
   "source": [
    "ge([2,3,4,1, 6])"
   ]
  },
  {
   "cell_type": "code",
   "execution_count": 6,
   "id": "3d12f8d0",
   "metadata": {},
   "outputs": [
    {
     "data": {
      "text/plain": [
       "3"
      ]
     },
     "execution_count": 6,
     "metadata": {},
     "output_type": "execute_result"
    }
   ],
   "source": [
    "def booth(s):\n",
    "    \"\"\"Finds the starting index of the lexicographically smallest rotation of s using Booth's Algorithm (O(M)).\"\"\"\n",
    "    s = s + s  # Concatenate to handle cyclic shifts\n",
    "    n = len(s) // 2\n",
    "    f = [-1] * (2 * n)\n",
    "    k = 0  # Smallest rotation start index\n",
    "    \n",
    "    for j in range(1, 2 * n):\n",
    "        i = f[j - k - 1]\n",
    "        while i != -1 and s[j] != s[k + i + 1]:\n",
    "            if s[j] < s[k + i + 1]: \n",
    "                k = j - i - 1\n",
    "            i = f[i]\n",
    "        \n",
    "        if s[j] != s[k + i + 1]: \n",
    "            if s[j] < s[k]: \n",
    "                k = j\n",
    "            f[j - k] = -1\n",
    "        else:\n",
    "            f[j - k] = i + 1\n",
    "\n",
    "    return k\n",
    "booth([2,3,6,1,4])"
   ]
  },
  {
   "cell_type": "code",
   "execution_count": 7,
   "id": "061d2146",
   "metadata": {},
   "outputs": [
    {
     "data": {
      "text/plain": [
       "[1, 4, 2, 3, 6]"
      ]
     },
     "execution_count": 7,
     "metadata": {},
     "output_type": "execute_result"
    }
   ],
   "source": [
    "arr=[2,3,6,1,4]\n",
    "arr[3:] + arr[:3]"
   ]
  },
  {
   "cell_type": "code",
   "execution_count": null,
   "id": "66518cf5",
   "metadata": {},
   "outputs": [],
   "source": []
  }
 ],
 "metadata": {
  "kernelspec": {
   "display_name": "Python 3 (ipykernel)",
   "language": "python",
   "name": "python3"
  },
  "language_info": {
   "codemirror_mode": {
    "name": "ipython",
    "version": 3
   },
   "file_extension": ".py",
   "mimetype": "text/x-python",
   "name": "python",
   "nbconvert_exporter": "python",
   "pygments_lexer": "ipython3",
   "version": "3.9.13"
  }
 },
 "nbformat": 4,
 "nbformat_minor": 5
}
