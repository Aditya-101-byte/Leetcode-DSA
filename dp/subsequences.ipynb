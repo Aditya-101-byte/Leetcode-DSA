{
 "cells": [
  {
   "cell_type": "code",
   "execution_count": 2,
   "id": "cb7b08ef",
   "metadata": {},
   "outputs": [],
   "source": [
    "# express everything in terms of index and target\n",
    "# explore all possibilities of the subsequence"
   ]
  },
  {
   "cell_type": "markdown",
   "id": "06fcdcf3",
   "metadata": {},
   "source": [
    "# existence of subsequence all methods"
   ]
  },
  {
   "cell_type": "code",
   "execution_count": 1,
   "id": "e6c53d1d",
   "metadata": {},
   "outputs": [
    {
     "data": {
      "text/plain": [
       "True"
      ]
     },
     "execution_count": 1,
     "metadata": {},
     "output_type": "execute_result"
    }
   ],
   "source": [
    "def bool_sum(arr, target, sum1):\n",
    "    if sum1== target: return True\n",
    "    if len(arr)== 0: return False\n",
    "    take= bool_sum(arr[1:], target, sum1+arr[0])\n",
    "    nottake= bool_sum(arr[1:], target, sum1)\n",
    "    return take or nottake\n",
    "\n",
    "arr=[1,2,3,5,8]\n",
    "target= 5\n",
    "dp=[[False for j in range(target+1)]for i in range(len(arr))]\n",
    "\n",
    "def f(ind, target,dp):                           #----------------> striver method  memoization\n",
    "    if target==0: return True\n",
    "    if ind==0: return arr[0]==target\n",
    "    if dp[ind][target]!=-1: return dp[ind][target]\n",
    "    take=False\n",
    "    if target>= arr[ind]:\n",
    "        take= f(ind-1, target-arr[ind],dp)\n",
    "    nott= f(ind-1, target,dp)\n",
    "    dp[ind][target]== take or nott\n",
    "    return dp[ind][target]\n",
    " \n",
    "# tabulation method here prev replaces dp[ind-1] or dp[n-1] and curr replaces dp[ind]\n",
    "def subsetsum(n, k, arr):                            # tabulation + space optimization\n",
    "    prev=[False for i in range(k+1)]\n",
    "    prev[0] = True\n",
    "    \n",
    "    # Check if the first element of the array can be used to make the target sum.\n",
    "    prev[arr[0]] = True\n",
    "    \n",
    "    # Fill in the DP table iteratively.\n",
    "    for ind in range(1, n):\n",
    "        curr= [False for i in range(k+1)]\n",
    "        for target in range(1, k + 1):\n",
    "            notTaken = prev[target]  # Not taking the current element.\n",
    "            taken = False\n",
    "            # Check if taking the current element is possible without exceeding the target.\n",
    "            if arr[ind] <= target:\n",
    "                taken = prev[target - arr[ind]]\n",
    "            curr[target] = notTaken or taken  # Update the DP table with the result.\n",
    "        prev=curr\n",
    "    # The final result is stored in the bottom-right cell of the DP table.\n",
    "    return prev[k]\n",
    "subsetsum(5,11, [1,3,4,6,8])"
   ]
  },
  {
   "cell_type": "markdown",
   "id": "981886a8",
   "metadata": {},
   "source": [
    "# difference bw the sum of 2 subset sums- minimum"
   ]
  },
  {
   "cell_type": "code",
   "execution_count": 3,
   "id": "e77b5170",
   "metadata": {},
   "outputs": [
    {
     "data": {
      "text/plain": [
       "1"
      ]
     },
     "execution_count": 3,
     "metadata": {},
     "output_type": "execute_result"
    }
   ],
   "source": [
    "def subsetsumdiff(n,arr):       # minimum difference bw sum of 2 subsets\n",
    "    k= sum(arr)\n",
    "    prev=[False for i in range(k+1)]\n",
    "    prev[0]= True\n",
    "    if arr[0]<= k:                              # this is done just to make sure that the index arr[0] lies in the range of dp otherwise overflow occurs\n",
    "        prev[arr[0]]=True\n",
    "    for ind in range(1,n):                    # make sure to start the range from (1,n) \n",
    "        curr=[False for _ in range(k+1)]\n",
    "        for target in range(1,k+1):                         # use correct variable names\n",
    "            take= False\n",
    "            if arr[ind]<=target: take= prev[target- arr[ind]]\n",
    "            nottake= prev[target]\n",
    "            curr[target]= take or nottake\n",
    "        prev= curr\n",
    "    mini= k                  # the last row represents if sum= index can be achieved till the end of array\n",
    "    for i in range(k//2 +1):\n",
    "        if prev[i]:\n",
    "            mini= min(mini,abs(i -(k-i) ))\n",
    "    return mini        \n",
    "        \n",
    "subsetsumdiff(9,[1,3,4,6,19,20,40,50,60])"
   ]
  },
  {
   "cell_type": "markdown",
   "id": "3e6b3c54",
   "metadata": {},
   "source": [
    "# count subarrays with sum k tabulation"
   ]
  },
  {
   "cell_type": "code",
   "execution_count": 2,
   "id": "8f1fd4e8",
   "metadata": {},
   "outputs": [
    {
     "data": {
      "text/plain": [
       "(3, 3)"
      ]
     },
     "execution_count": 2,
     "metadata": {},
     "output_type": "execute_result"
    }
   ],
   "source": [
    "arr=[1,3,4,6,10,20,40,50,60]                                     #number of subarrys with sum k using tabulation    \n",
    "n=9\n",
    "target=30 \n",
    "dp=[[-1 for i in range(target+1)] for j in range(n)]\n",
    "\n",
    "def memo(i, target, arr,dp):\n",
    "    if target==0: return 1\n",
    "    if i==0: return 1 if target==arr[0] else 0\n",
    "    if dp[i][target]!=-1: return dp[i][target]\n",
    "    take=0\n",
    "    if arr[i]<=target:\n",
    "        take= memo(i-1, target-arr[i], arr,dp)\n",
    "    nottake= memo(i-1, target, arr,dp)\n",
    "    dp[i][target]= take +nottake\n",
    "    return dp[i][target]\n",
    "#memo(n-1,target,arr,dp)\n",
    "\n",
    "\n",
    "def f1(arr, target):\n",
    "    dp=[[0 for i in range(target+1)] for j in range(n)]\n",
    "    \n",
    "    for i in range(n): dp[i][0]= 1\n",
    "    if arr[0]<=target: dp[0][arr[0]]= 1\n",
    "    \n",
    "    for ind in range(1,n):\n",
    "        for tar in range(1,target+1):\n",
    "            take= 0\n",
    "            if tar>= arr[ind]: take= dp[ind-1][tar-arr[ind]]\n",
    "            nottake= dp[ind-1][tar]\n",
    "            dp[ind][tar]= take + nottake\n",
    "        \n",
    "    return dp[n-1][target]\n",
    "f1(arr,target), memo(n-1, target, arr, dp)\n",
    "# this question is done with the constraints that the array with contain only positive elemnets not 0s\n",
    "# if the constraints allow 0s: then the base condition will change it will be:\n",
    "                    # if index==0: \n",
    "                    #     if sum==0 and arr[0]==0: return 2\n",
    "                    #     if sum==0 or sum== arr[0]: return 1\n",
    "                    #     return 0           ----->memoization code"
   ]
  },
  {
   "cell_type": "markdown",
   "id": "287146bc",
   "metadata": {},
   "source": [
    "# Knapsack"
   ]
  },
  {
   "cell_type": "code",
   "execution_count": 99,
   "id": "6cb6347b",
   "metadata": {},
   "outputs": [
    {
     "data": {
      "text/plain": [
       "220"
      ]
     },
     "execution_count": 99,
     "metadata": {},
     "output_type": "execute_result"
    }
   ],
   "source": [
    "weight, value=[2,3,4,5,6], [70,30,90,120,70]\n",
    "n=len(weight)\n",
    "w=10\n",
    "dp= [[-1]*(w+1) for _ in range(n)]\n",
    "def knapsack1(ind, w):\n",
    "    if ind==0:\n",
    "        if w>= weight[0]: return value[0]\n",
    "        else: return 0\n",
    "    if dp[ind][w]!=-1: return dp[ind][w]\n",
    "    take=0\n",
    "    if weight[ind]<=w: take= value[ind]+ knapsack1(ind-1, w-weight[ind])\n",
    "    nottake= knapsack1(ind-1, w)\n",
    "    dp[ind][w]=max(take, nottake)\n",
    "    return dp[ind][w]\n",
    "knapsack1(n-1, w)\n",
    "\n",
    "def knapsack2(w):\n",
    "    dp= [[0]*(w+1) for _ in range(n)]\n",
    "    \n",
    "    for wi in range(w+1):\n",
    "        if wi>=weight[0]:\n",
    "            dp[0][wi]= value[0]\n",
    "            \n",
    "    for ind in range(1,n):\n",
    "        for way in range(1, w+1):\n",
    "            take= 0\n",
    "            if way>=weight[ind]: take= value[ind]+ dp[ind-1][way-weight[ind]]\n",
    "            nottake= dp[ind-1][way]\n",
    "            dp[ind][way]= max(take, nottake)\n",
    "    return dp[n-1][w]\n",
    "\n",
    "def knapsack3(w):\n",
    "    prev= [0]*(w+1)\n",
    "    \n",
    "    for wi in range(w+1):\n",
    "        if wi>=weight[0]:\n",
    "            prev[wi]= value[0]\n",
    "            \n",
    "    for ind in range(1,n):\n",
    "        curr=[0]*(w+1)\n",
    "        for way in range(1, w+1):\n",
    "            take= 0\n",
    "            if way>=weight[ind]: take= value[ind]+ prev[way-weight[ind]]\n",
    "            nottake= prev[way]\n",
    "            curr[way]= max(take, nottake)\n",
    "        prev=curr\n",
    "    return prev[w]\n",
    "\n",
    "#further optimizing the space complexity using O(n) instead of O(2n) by running thr second for loop in reverse\n",
    "#and updating values in prev \n",
    "\n",
    "# for ind in range(1,n):\n",
    "#         for way in range(w+1,1,-1):\n",
    "#             take= 0\n",
    "#             if way>=weight[ind]: take= value[ind]+ prev[way-weight[ind]]\n",
    "#             nottake= prev[way]\n",
    "#             prev[way]= max(take, nottake)\n",
    "#     return prev[w]\n"
   ]
  },
  {
   "cell_type": "markdown",
   "id": "74b43d53",
   "metadata": {},
   "source": [
    "# coin denomination"
   ]
  },
  {
   "cell_type": "code",
   "execution_count": 5,
   "id": "d08ce203",
   "metadata": {},
   "outputs": [
    {
     "data": {
      "text/plain": [
       "3"
      ]
     },
     "execution_count": 5,
     "metadata": {},
     "output_type": "execute_result"
    }
   ],
   "source": [
    "import sys\n",
    "arr=[11,3,5,7,8]\n",
    "n=len(arr)\n",
    "rem=21\n",
    "dp=[[-1]*(rem+1) for _ in range(n)]\n",
    "\n",
    "def coins(ind,rem,dp):                     #------------------------>memoization\n",
    "    if ind==0:\n",
    "        if rem%arr[0]==0: return rem//arr[0]\n",
    "        else:return sys.maxsize\n",
    "    if dp[ind][rem]!=-1: return dp[ind][rem]\n",
    "    take=sys.maxsize\n",
    "    if rem>=arr[ind]: take= 1+coins(ind, rem-arr[ind],dp)\n",
    "    nottake= coins(ind-1, rem,dp)\n",
    "    dp[ind][rem]= min(take, nottake)\n",
    "    return dp[ind][rem]\n",
    "\n",
    "\n",
    "def coins2(rem):                                         # -------.tabulation with space optimization\n",
    "    prev= [sys.maxsize]*(rem+1)\n",
    "    for i in range(rem+1):\n",
    "        if i%arr[0]==0:\n",
    "            prev[i]= i//arr[0]\n",
    "    \n",
    "    for ind in range(1,n):\n",
    "        curr=[sys.maxsize]*(rem+1)\n",
    "        for target in range(rem+1):\n",
    "            take=sys.maxsize\n",
    "            if arr[ind]<= target: take= 1 + curr[target-arr[ind]]\n",
    "            nottake= prev[target]\n",
    "            curr[target]= min(take, nottake)\n",
    "        prev=curr\n",
    "    return prev[rem] if prev[rem]!= sys.maxsize else -1\n",
    "coins2(rem)"
   ]
  },
  {
   "cell_type": "markdown",
   "id": "b6cae426",
   "metadata": {},
   "source": [
    "L21 and L22 are same"
   ]
  },
  {
   "cell_type": "markdown",
   "id": "0409a15a",
   "metadata": {},
   "source": [
    "# rod cutting prob"
   ]
  },
  {
   "cell_type": "code",
   "execution_count": 3,
   "id": "22625763",
   "metadata": {},
   "outputs": [],
   "source": [
    "def rod(ind, rem, arr,dp):\n",
    "    if ind==0: return rem*arr[0]\n",
    "    if dp[ind][rem]!=-1: return dp[ind][rem]\n",
    "    take=-1\n",
    "    if ind+1<= rem:\n",
    "        take= arr[ind]+ rod(ind, rem- (ind+1), arr,dp)\n",
    "    nottake= rod(ind-1, rem, arr,dp)\n",
    "    dp[ind][rem]= max(take, nottake)\n",
    "    return dp[ind][rem]\n",
    "def sol(arr):\n",
    "    dp=[[-1]*(len(arr)+1) for i in range(len(arr))]\n",
    "    return rod(len(arr)-1, len(arr), arr,dp)"
   ]
  },
  {
   "cell_type": "code",
   "execution_count": null,
   "id": "228d6836",
   "metadata": {},
   "outputs": [],
   "source": []
  }
 ],
 "metadata": {
  "kernelspec": {
   "display_name": "Python 3 (ipykernel)",
   "language": "python",
   "name": "python3"
  },
  "language_info": {
   "codemirror_mode": {
    "name": "ipython",
    "version": 3
   },
   "file_extension": ".py",
   "mimetype": "text/x-python",
   "name": "python",
   "nbconvert_exporter": "python",
   "pygments_lexer": "ipython3",
   "version": "3.9.13"
  }
 },
 "nbformat": 4,
 "nbformat_minor": 5
}
