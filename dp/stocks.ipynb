{
 "cells": [
  {
   "cell_type": "code",
   "execution_count": 3,
   "id": "8c2c4ff6",
   "metadata": {},
   "outputs": [
    {
     "data": {
      "text/plain": [
       "7"
      ]
     },
     "execution_count": 3,
     "metadata": {},
     "output_type": "execute_result"
    }
   ],
   "source": [
    "def stocks(arr):\n",
    "    n=len(arr)\n",
    "    mini=arr[0]\n",
    "    profit=0\n",
    "    for i in range(1,n):\n",
    "        if arr[i]> mini:\n",
    "            profit= max(profit,arr[i]-mini )\n",
    "        mini= min(arr[i], mini)\n",
    "    return profit\n",
    "stocks([3,5,2,1,9,3])"
   ]
  },
  {
   "cell_type": "code",
   "execution_count": 15,
   "id": "605c3d12",
   "metadata": {},
   "outputs": [
    {
     "data": {
      "text/plain": [
       "10"
      ]
     },
     "execution_count": 15,
     "metadata": {},
     "output_type": "execute_result"
    }
   ],
   "source": [
    "def stocks2(k, pos, arr,dp):\n",
    "    if k==len(arr): return 0\n",
    "    if dp[k][pos]!=-1: return dp[k][pos]\n",
    "    if pos==0:\n",
    "        take= -arr[k] +stocks2(k+1,1,arr,dp)\n",
    "        nottake= stocks2(k+1,0,arr,dp)\n",
    "        profit= max(take, nottake)\n",
    "    else:\n",
    "        take= arr[k] +stocks2(k+1,0,arr,dp)\n",
    "        nottake= stocks2(k+1,1,arr,dp)\n",
    "        profit= max(take, nottake)\n",
    "    dp[k][pos]= profit\n",
    "    return dp[k][pos]\n",
    "\n",
    "def ans(arr):\n",
    "    n=len(arr)\n",
    "    dp=[[-1]*2 for i in range(n)]\n",
    "    return stocks2(0,0,arr,dp)\n",
    "    \n",
    "ans([3,5,2,1,9,3])          "
   ]
  },
  {
   "cell_type": "code",
   "execution_count": 30,
   "id": "eff670f0",
   "metadata": {},
   "outputs": [
    {
     "data": {
      "text/plain": [
       "10"
      ]
     },
     "execution_count": 30,
     "metadata": {},
     "output_type": "execute_result"
    }
   ],
   "source": [
    "def stocks2_tab(arr):               # space optimization\n",
    "    n=len(arr)\n",
    "    prev=[0]*2\n",
    "    for k in range(n-1, -1,-1):\n",
    "        curr=[0]*2\n",
    "        for pos in range(2):\n",
    "            profit=0\n",
    "            if pos==0:\n",
    "                take= -arr[k] + prev[1]\n",
    "                nottake= prev[0]\n",
    "                profit= max(take, nottake)\n",
    "            else:\n",
    "                take= arr[k] +prev[0]\n",
    "                nottake= prev[1]\n",
    "                profit= max(take, nottake)\n",
    "            curr[pos]= profit\n",
    "        prev=curr\n",
    "    return prev[0]\n",
    "stocks2_tab([3,5,2,1,4,9]) "
   ]
  },
  {
   "cell_type": "code",
   "execution_count": 42,
   "id": "bcfa8da4",
   "metadata": {},
   "outputs": [
    {
     "data": {
      "text/plain": [
       "12"
      ]
     },
     "execution_count": 42,
     "metadata": {},
     "output_type": "execute_result"
    }
   ],
   "source": [
    "def stocks3(k, pos, arr,dp,cap):\n",
    "    if k==len(arr) or cap==0: return 0\n",
    "    if dp[k][pos][cap]!=-1: return dp[k][pos][cap]\n",
    "    if pos==0:\n",
    "        take= -arr[k] +stocks3(k+1,1,arr,dp,cap)\n",
    "        nottake= stocks3(k+1,0,arr,dp,cap)\n",
    "        profit= max(take, nottake)\n",
    "    else:\n",
    "        take= arr[k] +stocks3(k+1,0,arr,dp,cap-1)\n",
    "        nottake= stocks3(k+1,1,arr,dp,cap)\n",
    "        profit= max(take, nottake)\n",
    "    dp[k][pos][cap]= profit\n",
    "    return dp[k][pos][cap]\n",
    "\n",
    "def ans1(arr,cap):\n",
    "    n=len(arr)\n",
    "    dp=[[[-1 for _ in range(cap+1)] for i in range(2)] for j in range(n)]\n",
    "    return stocks3(0,0,arr,dp,cap)\n",
    "    \n",
    "ans1([3,5,2,1,9,3,1,5], 2) "
   ]
  },
  {
   "cell_type": "code",
   "execution_count": 60,
   "id": "1dc48d49",
   "metadata": {},
   "outputs": [
    {
     "data": {
      "text/plain": [
       "12"
      ]
     },
     "execution_count": 60,
     "metadata": {},
     "output_type": "execute_result"
    }
   ],
   "source": [
    "def stocks3_tab(arr, cap):               \n",
    "    n=len(arr)\n",
    "    dp=[[[0 for _ in range(cap+1)] for i in range(2)] for j in range(n+1)]\n",
    "    for k in range(n-1,-1,-1):\n",
    "        for pos in range(2):\n",
    "            for c in range(1,cap+1):                    #here the cap is going from 1, cap\n",
    "                if pos==0:\n",
    "                    take= -arr[k] +dp[k+1][1][c]\n",
    "                    nottake= dp[k+1][0][c]\n",
    "                    profit= max(take, nottake)\n",
    "                else:\n",
    "                    take= arr[k] +dp[k+1][0][c-1]\n",
    "                    nottake= dp[k+1][1][c]\n",
    "                    profit= max(take, nottake)\n",
    "                dp[k][pos][c]= profit\n",
    "    return dp[k][0][cap]\n",
    "stocks3_tab([3,5,2,1,9,3,1,5], 2)            \n",
    "    "
   ]
  },
  {
   "cell_type": "code",
   "execution_count": null,
   "id": "65117fae",
   "metadata": {},
   "outputs": [],
   "source": []
  }
 ],
 "metadata": {
  "kernelspec": {
   "display_name": "Python 3 (ipykernel)",
   "language": "python",
   "name": "python3"
  },
  "language_info": {
   "codemirror_mode": {
    "name": "ipython",
    "version": 3
   },
   "file_extension": ".py",
   "mimetype": "text/x-python",
   "name": "python",
   "nbconvert_exporter": "python",
   "pygments_lexer": "ipython3",
   "version": "3.9.13"
  }
 },
 "nbformat": 4,
 "nbformat_minor": 5
}
