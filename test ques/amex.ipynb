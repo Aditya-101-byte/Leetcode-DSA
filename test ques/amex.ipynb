{
 "cells": [
  {
   "cell_type": "code",
   "execution_count": 3,
   "id": "63528aa4",
   "metadata": {},
   "outputs": [],
   "source": [
    "import bisect\n",
    "\n",
    "def solution(S):\n",
    "    # This list will store the smallest last element of any increasing subsequence of length i+1\n",
    "    lis = []\n",
    "    \n",
    "    for char in S:\n",
    "        # Find the position where `char` can replace in `lis`\n",
    "        pos = bisect.bisect_right(lis, char)\n",
    "        \n",
    "        # If pos is equal to length of `lis`, it means `char` is greater than all elements in `lis`\n",
    "        # and can be appended to extend the increasing subsequence.\n",
    "        if pos == len(lis):\n",
    "            lis.append(char)\n",
    "        else:\n",
    "            # Replace the element at the found position with `char`\n",
    "            # to maintain the lowest possible value for an increasing subsequence of that length.\n",
    "            lis[pos] = char\n",
    "    \n",
    "    # The length of the LIS is now the length of `lis`\n",
    "    max_lis_length = len(lis)\n",
    "    \n",
    "    # Minimum deletions needed to make the string lexicographically sorted\n",
    "    return len(S) - max_lis_length\n"
   ]
  },
  {
   "cell_type": "code",
   "execution_count": 4,
   "id": "0f47c85e",
   "metadata": {},
   "outputs": [
    {
     "data": {
      "text/plain": [
       "3"
      ]
     },
     "execution_count": 4,
     "metadata": {},
     "output_type": "execute_result"
    }
   ],
   "source": [
    "solution('banana')"
   ]
  },
  {
   "cell_type": "code",
   "execution_count": 14,
   "id": "731a6282",
   "metadata": {},
   "outputs": [
    {
     "data": {
      "text/plain": [
       "2"
      ]
     },
     "execution_count": 14,
     "metadata": {},
     "output_type": "execute_result"
    }
   ],
   "source": [
    "solution(\"29162\", \"10524\")"
   ]
  },
  {
   "cell_type": "code",
   "execution_count": 13,
   "id": "3a91162e",
   "metadata": {},
   "outputs": [],
   "source": [
    "def solution(s, t):\n",
    "    cnt1 = 0\n",
    "    cnt2 = 0\n",
    "    n = len(s)\n",
    "    flag = False\n",
    "    \n",
    "    for i in range(n):\n",
    "        if s[i] > t[i]:\n",
    "            if flag:\n",
    "                cnt1 += 1\n",
    "            else:\n",
    "                flag = True\n",
    "        else:\n",
    "            if not flag:\n",
    "                flag = True\n",
    "                cnt1 += 1\n",
    "\n",
    "    flag = False\n",
    "    for i in range(n):\n",
    "        if t[i] > s[i]:\n",
    "            if flag:\n",
    "                cnt2 += 1\n",
    "            else:\n",
    "                flag = True\n",
    "        else:\n",
    "            if not flag:\n",
    "                flag = True\n",
    "                cnt2 += 1\n",
    "\n",
    "    return min(cnt1, cnt2)\n"
   ]
  },
  {
   "cell_type": "code",
   "execution_count": null,
   "id": "321fc6be",
   "metadata": {},
   "outputs": [],
   "source": []
  }
 ],
 "metadata": {
  "kernelspec": {
   "display_name": "Python 3 (ipykernel)",
   "language": "python",
   "name": "python3"
  },
  "language_info": {
   "codemirror_mode": {
    "name": "ipython",
    "version": 3
   },
   "file_extension": ".py",
   "mimetype": "text/x-python",
   "name": "python",
   "nbconvert_exporter": "python",
   "pygments_lexer": "ipython3",
   "version": "3.9.13"
  }
 },
 "nbformat": 4,
 "nbformat_minor": 5
}
