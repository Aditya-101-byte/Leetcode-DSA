{
 "cells": [
  {
   "cell_type": "code",
   "execution_count": 16,
   "id": "8727867b",
   "metadata": {},
   "outputs": [],
   "source": [
    "def sub(nums, k) -> int: \n",
    "    dic = defaultdict(int) # sum 0 occurs once\n",
    "    dic[0] = 1\n",
    "    runningSum = 0\n",
    "    count = 0\n",
    "    for num in nums:\n",
    "        runningSum ^= num\n",
    "        difference = runningSum^k\n",
    "        if difference in dic:\n",
    "            count += dic[difference]\n",
    "        dic[runningSum] += 1\n",
    "    return count"
   ]
  },
  {
   "cell_type": "code",
   "execution_count": 17,
   "id": "53630bf1",
   "metadata": {},
   "outputs": [
    {
     "data": {
      "text/plain": [
       "2"
      ]
     },
     "execution_count": 17,
     "metadata": {},
     "output_type": "execute_result"
    }
   ],
   "source": [
    "sub([4,2,1,5,3], 1)"
   ]
  },
  {
   "cell_type": "code",
   "execution_count": 18,
   "id": "614c0d4a",
   "metadata": {},
   "outputs": [
    {
     "data": {
      "text/plain": [
       "2"
      ]
     },
     "execution_count": 18,
     "metadata": {},
     "output_type": "execute_result"
    }
   ],
   "source": [
    "sub([4,2,1,5,3], 4)"
   ]
  },
  {
   "cell_type": "code",
   "execution_count": 25,
   "id": "2b10c62d",
   "metadata": {},
   "outputs": [],
   "source": [
    "def lex(nums):\n",
    "    n = len(nums)\n",
    "    arr = sorted(zip(nums, range(n)))\n",
    "    print(arr)\n",
    "    ans = [0] * n\n",
    "    i = 0\n",
    "    while i < n:\n",
    "        j = i + 1\n",
    "        while j < n and arr[j][0] ^ arr[j - 1][0] < 4:\n",
    "            j += 1\n",
    "        idx = sorted(k for _, k in arr[i:j])\n",
    "\n",
    "        for k, (x, _) in zip(idx, arr[i:j]):\n",
    "            ans[k] = x\n",
    "        print(idx, ans)\n",
    "        i = j\n",
    "    return ans"
   ]
  },
  {
   "cell_type": "code",
   "execution_count": 26,
   "id": "9e18542b",
   "metadata": {},
   "outputs": [
    {
     "name": "stdout",
     "output_type": "stream",
     "text": [
      "[(1, 2), (2, 0), (5, 3), (6, 4), (7, 1)]\n",
      "[0, 2] [1, 0, 2, 0, 0]\n",
      "[1, 3, 4] [1, 5, 2, 6, 7]\n"
     ]
    },
    {
     "data": {
      "text/plain": [
       "[1, 5, 2, 6, 7]"
      ]
     },
     "execution_count": 26,
     "metadata": {},
     "output_type": "execute_result"
    }
   ],
   "source": [
    "lex([2,7,1,5,6])"
   ]
  },
  {
   "cell_type": "code",
   "execution_count": null,
   "id": "a0816140",
   "metadata": {},
   "outputs": [],
   "source": []
  }
 ],
 "metadata": {
  "kernelspec": {
   "display_name": "Python 3 (ipykernel)",
   "language": "python",
   "name": "python3"
  },
  "language_info": {
   "codemirror_mode": {
    "name": "ipython",
    "version": 3
   },
   "file_extension": ".py",
   "mimetype": "text/x-python",
   "name": "python",
   "nbconvert_exporter": "python",
   "pygments_lexer": "ipython3",
   "version": "3.9.13"
  }
 },
 "nbformat": 4,
 "nbformat_minor": 5
}
