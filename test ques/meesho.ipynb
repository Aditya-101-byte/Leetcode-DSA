{
 "cells": [
  {
   "cell_type": "code",
   "execution_count": 2,
   "id": "67a70cf2",
   "metadata": {},
   "outputs": [],
   "source": [
    "def cost(dna):\n",
    "    n = len(dna)\n",
    "    total_cost = 0\n",
    "    \n",
    "    # Initialize the frequency of odd masks\n",
    "    odd_mask_freq = {0: 1}  # Start with an empty mask\n",
    "    current_mask = 0\n",
    "    \n",
    "    # Iterate over the string\n",
    "    for i in range(n):\n",
    "        # Toggle the bit corresponding to the current character\n",
    "        char_bit = ord(dna[i]) - ord('a')\n",
    "        current_mask ^= (1 << char_bit)\n",
    "        \n",
    "        # Check current mask in the frequency dictionary\n",
    "        # Substrings with identical masks or single bit difference\n",
    "        # can form a palindrome by rearrangement\n",
    "        for bit in range(27):  # 26 letters + 1 to handle out-of-bound mask toggling\n",
    "            check_mask = current_mask ^ (1 << bit)\n",
    "            total_cost += odd_mask_freq.get(check_mask, 0)\n",
    "        \n",
    "        # Include the current mask itself\n",
    "        total_cost += odd_mask_freq.get(current_mask, 0)\n",
    "        \n",
    "        # Update the frequency of the current mask\n",
    "        odd_mask_freq[current_mask] = odd_mask_freq.get(current_mask, 0) + 1\n",
    "    \n",
    "    return total_cost\n"
   ]
  },
  {
   "cell_type": "code",
   "execution_count": 4,
   "id": "d3913cfb",
   "metadata": {},
   "outputs": [
    {
     "data": {
      "text/plain": [
       "1"
      ]
     },
     "execution_count": 4,
     "metadata": {},
     "output_type": "execute_result"
    }
   ],
   "source": [
    "cost(\"a\")"
   ]
  },
  {
   "cell_type": "code",
   "execution_count": 7,
   "id": "3d0859f4",
   "metadata": {},
   "outputs": [
    {
     "name": "stdout",
     "output_type": "stream",
     "text": [
      "3\n"
     ]
    }
   ],
   "source": [
    "def get_total_palindrome_transformation_cost(dna):\n",
    "    n = len(dna)\n",
    "    total_cost = 0\n",
    "\n",
    "    # Iterate over all possible substrings\n",
    "    for i in range(n):\n",
    "        freq = [0] * 26  # Frequency array for characters\n",
    "        odd_count = 0  # Count of characters with odd frequency\n",
    "\n",
    "        for j in range(i, n):\n",
    "            # Update frequency of the current character\n",
    "            char_idx = ord(dna[j]) - ord('a')\n",
    "            freq[char_idx] += 1\n",
    "\n",
    "            # Update odd count\n",
    "            if freq[char_idx] % 2 == 1:\n",
    "                odd_count += 1\n",
    "            else:\n",
    "                odd_count -= 1\n",
    "\n",
    "            # Transformation cost = odd_count // 2\n",
    "            total_cost += odd_count // 2\n",
    "\n",
    "    return total_cost\n",
    "\n",
    "\n",
    "# Example usage\n",
    "dna = \"abc\"\n",
    "print(get_total_palindrome_transformation_cost(dna))  # Output: 6\n"
   ]
  },
  {
   "cell_type": "code",
   "execution_count": null,
   "id": "f5ffd6fe",
   "metadata": {},
   "outputs": [],
   "source": []
  }
 ],
 "metadata": {
  "kernelspec": {
   "display_name": "Python 3 (ipykernel)",
   "language": "python",
   "name": "python3"
  },
  "language_info": {
   "codemirror_mode": {
    "name": "ipython",
    "version": 3
   },
   "file_extension": ".py",
   "mimetype": "text/x-python",
   "name": "python",
   "nbconvert_exporter": "python",
   "pygments_lexer": "ipython3",
   "version": "3.9.13"
  }
 },
 "nbformat": 4,
 "nbformat_minor": 5
}
