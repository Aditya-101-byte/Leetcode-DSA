{
 "cells": [
  {
   "cell_type": "code",
   "execution_count": 2,
   "id": "3f8ad30b",
   "metadata": {},
   "outputs": [],
   "source": [
    "def solve(a,b,arr,dp,i):  \n",
    "    if i==len(arr):  return 0\n",
    "    if dp[a][b]!=-1:  return dp[a][b]\n",
    "\n",
    "    alice=solve(i,b,arr,dp,i+1)+abs(arr[i][0]-arr[a][0])+abs(arr[i][1]-arr[a][1])\n",
    "    bob=solve(a,i,arr,dp,i+1)+abs(arr[i][0]-arr[b][0])+abs(arr[i][1]-arr[b][1])\n",
    "\n",
    "    dp[a][b]=min(alice,bob)\n",
    "    return dp[a][b]\n",
    "\n",
    "def sol():\n",
    "    n=int(input())\n",
    "    e=[list(map(int,input().split())) for _ in range(n+2)]\n",
    "\n",
    "    dp=[[-1 for i in range(n+2)] for i in range(n+2)]\n",
    "\n",
    "    print(solve(0,1,e,dp,2)) "
   ]
  },
  {
   "cell_type": "code",
   "execution_count": 3,
   "id": "7c0b2ec2",
   "metadata": {},
   "outputs": [],
   "source": [
    "#even no. on odd places and vice versa find kth min"
   ]
  },
  {
   "cell_type": "code",
   "execution_count": 1,
   "id": "46047394",
   "metadata": {},
   "outputs": [
    {
     "name": "stdout",
     "output_type": "stream",
     "text": [
      "23410101\n"
     ]
    }
   ],
   "source": [
    "from collections import deque\n",
    "\n",
    "def kth_interesting_number(k):\n",
    "    # Define valid digits for odd and even positions\n",
    "    even_digits = ['0', '2', '4', '6', '8']\n",
    "    odd_digits = ['1', '3', '5', '7', '9']\n",
    "\n",
    "    # Initialize a queue for BFS\n",
    "    queue = deque()\n",
    "    \n",
    "    # Initialize with all valid starting digits (first position is odd)\n",
    "    for digit in even_digits[1:]:  # Exclude '0' to avoid leading zeros\n",
    "        queue.append(digit)\n",
    "    \n",
    "    count = 0\n",
    "    \n",
    "    # BFS to generate numbers\n",
    "    while queue:\n",
    "        # Dequeue the front of the queue\n",
    "        num = queue.popleft()\n",
    "        count += 1\n",
    "        \n",
    "        # If this is the k-th number, return it\n",
    "        if count == k:\n",
    "            return int(num)\n",
    "        \n",
    "        # Determine next digit to append based on current length\n",
    "        if len(num) % 2 == 1:  # Odd length so far, next should be even place\n",
    "            for digit in odd_digits:\n",
    "                queue.append(num + digit)\n",
    "        else:  # Even length so far, next should be odd place\n",
    "            for digit in even_digits:\n",
    "                queue.append(num + digit)\n",
    "\n",
    "# Example usage:\n",
    "k = 1e5\n",
    "print(kth_interesting_number(k))  # Output: 21 for k=5\n"
   ]
  },
  {
   "cell_type": "code",
   "execution_count": 5,
   "id": "b557ff89",
   "metadata": {},
   "outputs": [
    {
     "name": "stdout",
     "output_type": "stream",
     "text": [
      "Result: ['ros', 'horse', 'hello', 'world']\n"
     ]
    }
   ],
   "source": [
    "from typing import List, Tuple\n",
    "\n",
    "def minDistance(str1: str, str2: str, memo) -> int:\n",
    "    def helper(i: int, j: int) -> int:\n",
    "        if i == 0: \n",
    "            return j\n",
    "        if j == 0: \n",
    "            return i\n",
    "        \n",
    "        if (i, j) in memo:\n",
    "            return memo[(i, j)]\n",
    "        \n",
    "        if str1[i-1] == str2[j-1]:\n",
    "            memo[(i, j)] = helper(i-1, j-1)\n",
    "        else:\n",
    "            replace = helper(i-1, j-1)\n",
    "            insert = helper(i, j-1)\n",
    "            delete = helper(i-1, j)\n",
    "            memo[(i, j)] = 1 + min(replace, insert, delete)\n",
    "        \n",
    "        return memo[(i, j)]\n",
    "    \n",
    "    return helper(len(str1), len(str2))\n",
    "\n",
    "def findClosestStrings(own: List[str], queries: List[str]) -> List[str]:\n",
    "    result = []\n",
    "    for query in queries:\n",
    "        min_operations = float('inf')\n",
    "        closest_string = \"\"\n",
    "        for string in own:\n",
    "            # Memoization dictionary for each pair of query and own string\n",
    "            memo = {}\n",
    "            operations = minDistance(string, query, memo)\n",
    "            if operations < min_operations:\n",
    "                min_operations = operations\n",
    "                closest_string = string\n",
    "        result.append(closest_string)\n",
    "    return result\n",
    "\n",
    "# Example usage:\n",
    "own = [\"horse\", \"ros\", \"hello\", \"world\"]\n",
    "queries = [\"rose\", \"her\", \"hell\", \"word\"]\n",
    "\n",
    "result = findClosestStrings(own, queries)\n",
    "print(\"Result:\", result)\n"
   ]
  },
  {
   "cell_type": "code",
   "execution_count": null,
   "id": "6599871f",
   "metadata": {},
   "outputs": [],
   "source": []
  }
 ],
 "metadata": {
  "kernelspec": {
   "display_name": "Python 3 (ipykernel)",
   "language": "python",
   "name": "python3"
  },
  "language_info": {
   "codemirror_mode": {
    "name": "ipython",
    "version": 3
   },
   "file_extension": ".py",
   "mimetype": "text/x-python",
   "name": "python",
   "nbconvert_exporter": "python",
   "pygments_lexer": "ipython3",
   "version": "3.9.13"
  }
 },
 "nbformat": 4,
 "nbformat_minor": 5
}
