{
 "cells": [
  {
   "cell_type": "markdown",
   "id": "350d2d83",
   "metadata": {},
   "source": [
    "# Trie problem sq"
   ]
  },
  {
   "cell_type": "code",
   "execution_count": 78,
   "id": "3412b34d",
   "metadata": {},
   "outputs": [
    {
     "data": {
      "text/plain": [
       "[['mobile', 'moneypot', 'monitor'],\n",
       " ['mobile', 'moneypot', 'monitor'],\n",
       " ['mouse', 'mousepad'],\n",
       " ['mouse', 'mousepad'],\n",
       " ['mouse', 'mousepad']]"
      ]
     },
     "execution_count": 78,
     "metadata": {},
     "output_type": "execute_result"
    }
   ],
   "source": [
    "class Node:\n",
    "    def __init__(self):\n",
    "        self.links = [None] * 26  # Array to store child nodes for each letter (26 lowercase letters)\n",
    "        self.suggestions = []  # List to store lexicographically smallest suggestions\n",
    "\n",
    "    def containsKey(self, ch):\n",
    "        return self.links[ord(ch) - ord('a')] is not None\n",
    "    def put(self, ch, node):\n",
    "        self.links[ord(ch) - ord('a')] = node\n",
    "    def get(self, ch):\n",
    "        return self.links[ord(ch) - ord('a')]   \n",
    "\n",
    "\n",
    "class Trie:\n",
    "    def __init__(self):\n",
    "        self.root = Node()\n",
    "\n",
    "    # Insert a word into the Trie, maintaining up to 3 lexicographically smallest suggestions\n",
    "    def insert(self, word):\n",
    "        node = self.root\n",
    "        for ch in word:\n",
    "            if not node.containsKey(ch):\n",
    "                node.put(ch, Node())\n",
    "            node = node.get(ch)\n",
    "            if len(node.suggestions) < 3:\n",
    "                node.suggestions.append(word)\n",
    "\n",
    "      \n",
    "\n",
    "    # Get suggestions for each prefix of the searchWord\n",
    "    def getSuggestions(self, searchWord):\n",
    "        node = self.root\n",
    "        results = []\n",
    "        for ch in searchWord:\n",
    "            if node.containsKey(ch):\n",
    "                node = node.get(ch)\n",
    "                results.append(node.suggestions)\n",
    "            else:\n",
    "                # If the prefix isn't found, append empty lists for remaining characters\n",
    "                while len(results) < len(searchWord):\n",
    "                    results.append([])\n",
    "                break\n",
    "        return results\n",
    "\n",
    "# Function to get product suggestions based on a search word\n",
    "def suggestedProducts(products, searchWord):\n",
    "    # Sort products lexicographically\n",
    "    products.sort()\n",
    "    \n",
    "    # Create a Trie and insert products into it\n",
    "    trie = Trie()\n",
    "    for product in products:\n",
    "        trie.insert(product)\n",
    "    \n",
    "    # Retrieve suggestions for each prefix of the search word\n",
    "    return trie.getSuggestions(searchWord)\n",
    "\n",
    "# Example usage\n",
    "products = [\"mobile\", \"mouse\", \"moneypot\", \"monitor\", \"mousepad\"]\n",
    "searchWord = \"mouse\"\n",
    "suggestedProducts(products, searchWord)\n",
    "\n"
   ]
  },
  {
   "cell_type": "markdown",
   "id": "7436b096",
   "metadata": {},
   "source": [
    "# order book prob"
   ]
  },
  {
   "cell_type": "code",
   "execution_count": 78,
   "id": "3c0beab6",
   "metadata": {},
   "outputs": [
    {
     "name": "stdout",
     "output_type": "stream",
     "text": [
      "buy 10 13.0\n",
      "buy 10 12.0\n",
      "sell 15 12.0\n",
      "sell 11 12.0\n",
      "end\n",
      "sell 5@$$12.0\n",
      "sell 1@$$12.0\n"
     ]
    }
   ],
   "source": [
    "class Order:\n",
    "    def __init__(self, is_buy, qty, price):\n",
    "        self.is_buy = is_buy  # True if it's a buy order, False if it's a sell order\n",
    "        self.qty = qty        # The quantity of shares\n",
    "        self.price = price    # The price per share\n",
    "\n",
    "    def __str__(self):\n",
    "        order_type = \"buy\" if self.is_buy else \"sell\"\n",
    "        return f\"{order_type} {self.qty}@$${self.price}\"\n",
    "\n",
    "\n",
    "class OrderBook:\n",
    "    def __init__(self):\n",
    "        self.orders = []  # List to store all orders (both buy and sell)\n",
    "\n",
    "    def add(self, order):\n",
    "        # Try to find the best matching trade\n",
    "        while True:\n",
    "            best_trade = self.find_trade(order)\n",
    "            # If there's no trade, add the order to the order book\n",
    "            if best_trade is None:\n",
    "                \n",
    "                break\n",
    "            else:\n",
    "                # Perform the trade: match quantities, remove the matched order if needed\n",
    "                if order.qty == best_trade.qty:\n",
    "                    self.orders.remove(best_trade)\n",
    "                    self.orders.remove(order)\n",
    "                    break\n",
    "                elif order.qty < best_trade.qty:\n",
    "                    best_trade.qty -= order.qty\n",
    "                    self.orders.remove(order)\n",
    "                    self.orders.sort(key=lambda x: (-x.price if x.is_buy else x.price, -x.qty ))\n",
    "                    break\n",
    "                else:\n",
    "                    order.qty -= best_trade.qty  # Reduce the buy order's quantity\n",
    "                    self.orders.remove(best_trade)\n",
    "                    self.orders.sort(key=lambda x: (-x.price if x.is_buy else x.price, -x.qty ))\n",
    "                    break             \n",
    "                \n",
    "    def find_trade(self, order):\n",
    "        best_trade = None\n",
    "\n",
    "        # Iterate through orders to find the best trade\n",
    "        for existing_order in self.orders:\n",
    "            if order.is_buy != existing_order.is_buy:\n",
    "                # Buy order: find the lowest sell price that is acceptable\n",
    "                if order.is_buy and order.price >= existing_order.price:\n",
    "                    return existing_order\n",
    "\n",
    "                # Sell order: find the highest buy price that is acceptable\n",
    "                elif not order.is_buy and order.price <= existing_order.price:\n",
    "                    return existing_order\n",
    "\n",
    "        return best_trade  # Return the best trade if found, otherwise None\n",
    "\n",
    "    def parse(self):\n",
    "        # First collect all the orders\n",
    "        collected_orders = []\n",
    "        while True:\n",
    "            line = input().strip()  # Read input from the user\n",
    "            if line == \"end\":\n",
    "                break  # Stop when \"end\" is encountered\n",
    "\n",
    "            parts = line.split()\n",
    "            order_type = parts[0] == \"buy\"  # Determine if it's a buy or sell order\n",
    "            qty = int(parts[1])             # Read the quantity\n",
    "            price = float(parts[2])         # Read the price\n",
    "\n",
    "            order = Order(order_type, qty, price)  # Create the Order object\n",
    "            self.orders.append(order)  # Collect the order\n",
    "\n",
    "        self.orders.sort(key=lambda x: (-x.price if x.is_buy else x.price, -x.qty))\n",
    "        for order in self.orders:\n",
    "            self.add(order)\n",
    "        self.orders.sort(key=lambda x: (-x.price if x.is_buy else x.price, -x.qty))\n",
    "        \n",
    "    def __str__(self):\n",
    "        output = []\n",
    "        for order in self.orders:\n",
    "            output.append(str(order))\n",
    "        return \"\\n\".join(output)\n",
    "\n",
    "\n",
    "# Example of how to use the class\n",
    "if __name__ == \"__main__\":\n",
    "    book = OrderBook()\n",
    "    book.parse()\n",
    "    print(book)  # Print the state of the order book after processing all orders\n"
   ]
  },
  {
   "cell_type": "markdown",
   "id": "b74d7a66",
   "metadata": {},
   "source": [
    "# unique usernames"
   ]
  },
  {
   "cell_type": "code",
   "execution_count": 1,
   "id": "f047121e",
   "metadata": {},
   "outputs": [
    {
     "name": "stdout",
     "output_type": "stream",
     "text": [
      "['parkersp', 'parkerpe', 'parkepet', 'parkpete', 'parpeter', 'parpete1', 'parpete2', 'parpete3', 'parpete4', 'parpete5', 'parpete6', 'parpete7', 'parkepen', 'parkpene', 'parpenel', 'papenelo', 'ppenelop', 'penelope', 'penelop1', 'waynebru', 'kentclar', 'princedi', 'princdia', 'prindian', 'pridiana', 'pridian1', 'pridian2', 'pridian3', 'pridian4', 'onpeter', 'onpeter1']\n"
     ]
    }
   ],
   "source": [
    "import re\n",
    "\n",
    "def generate_usernames(names):\n",
    "    existing_usernames = set()  # To track already used usernames\n",
    "    usernames = []\n",
    "    \n",
    "    for name in names:\n",
    "        # Step 1: Extract given name and family name\n",
    "        name_parts = name.replace(\"-\", \"\").replace(\"'\", \"\").split()  # Remove non-alphabetic characters\n",
    "        given_name = name_parts[0].lower()  # First part is the given name\n",
    "        family_name = name_parts[-1].lower()  # Last part is the family name\n",
    "        \n",
    "        # Step 2: Create default username\n",
    "        base_family_part = family_name[:7]  # Take up to 7 characters of family name\n",
    "        remaining_length = 8 - len(base_family_part)  # Remaining length to be filled by given name\n",
    "        base_given_part = given_name[:remaining_length]  # Take as many chars as possible from given name\n",
    "        \n",
    "        default_username = base_family_part + base_given_part\n",
    "        unique_username = default_username[:8]  # Ensure username doesn't exceed 8 characters\n",
    "\n",
    "        # Step 3: Handle duplicates\n",
    "        if unique_username in existing_usernames:\n",
    "            # Rule 1: Try to adjust the balance between family and given name\n",
    "            for i in range(1, len(given_name)):\n",
    "                family_part = family_name[:7 - i]  # Reduce family name by i characters\n",
    "                given_part = given_name[:8 - len(family_part)]  # Add more from given name\n",
    "                unique_username = (family_part + given_part)[:8]  # Ensure it's 8 characters\n",
    "                if unique_username not in existing_usernames:\n",
    "                    break\n",
    "\n",
    "            # Rule 2: If still not unique, replace the last character(s) with a digit\n",
    "            if unique_username in existing_usernames:\n",
    "                counter = 1\n",
    "                while True:\n",
    "                    replacement_username = unique_username[:7] + str(counter)  # Replace last char(s) with a digit\n",
    "                    if replacement_username not in existing_usernames:\n",
    "                        unique_username = replacement_username\n",
    "                        break\n",
    "                    counter += 1\n",
    "\n",
    "        # Step 4: Add the unique username to the result list\n",
    "        usernames.append(unique_username)\n",
    "        existing_usernames.add(unique_username)  # Mark it as used\n",
    "\n",
    "    return usernames\n",
    "\n",
    "# Example usage:\n",
    "names = [\n",
    "    \"Peter Parkers\",\"Peter Parker\",\"Peter Parker\",\"Peter Parker\",\"Peter Parker\",\"Peter Parker\",\"Peter Parker\",\"Peter Parker\",\"Peter Parker\",\"Peter Parker\",\"Peter Parker\",\"Peter Parker\",\n",
    "    \"Penelope Parker\", \"Penelope Parker\", \"Penelope Parker\", \"Penelope Parker\", \"Penelope Parker\", \"Penelope Parker\", \"Penelope Parker\", \n",
    "    \"Bruce Wayne\", \n",
    "    \"Clark Kent\", \n",
    "    \"Diana Prince\",\"Diana Prince\",\"Diana Prince\",\"Diana Prince\",\"Diana Prince\",\"Diana Prince\",\"Diana Prince\",\"Diana Prince\",\n",
    "    \"Peter O'N\",  \"Peter O'N\"\n",
    "]\n",
    "\n",
    "print(generate_usernames(names))\n"
   ]
  },
  {
   "cell_type": "markdown",
   "id": "af0e2498",
   "metadata": {},
   "source": [
    "# url hash"
   ]
  },
  {
   "cell_type": "code",
   "execution_count": 80,
   "id": "f3ec1abe",
   "metadata": {},
   "outputs": [
    {
     "name": "stdout",
     "output_type": "stream",
     "text": [
      "['https:/', '/xyz.co', 'mss']\n",
      "Hashed URL: fea\n"
     ]
    }
   ],
   "source": [
    "def hash_url(url, hash_string, k):\n",
    "    # Step 1: Divide the URL into blocks of size k\n",
    "    blocks = []\n",
    "    for i in range(0, len(url), k):\n",
    "        blocks.append(url[i:i+k])\n",
    "    \n",
    "    # Step 2: Calculate hash value for each block\n",
    "    def calculate_hash(block):\n",
    "        hash_value = 0\n",
    "        for char in block:\n",
    "            if 'a' <= char <= 'z':  # English lowercase letters\n",
    "                hash_value += ord(char) - ord('a')\n",
    "            elif 'A' <= char <= 'Z':  # English uppercase letters\n",
    "                hash_value += ord(char) - ord('A')\n",
    "            elif char == '/':\n",
    "                hash_value += 26\n",
    "            elif char == ':':\n",
    "                hash_value += 27\n",
    "            elif char == '.':\n",
    "                hash_value += 28\n",
    "            else:\n",
    "                # Handle other characters based on requirements\n",
    "                pass\n",
    "        return hash_value\n",
    "    print(blocks)\n",
    "    \n",
    "    ans=\"\"\n",
    "    for block in blocks:\n",
    "        hash_value = calculate_hash(block)\n",
    "        # Step 4: Replace the block with (hash_value % m)th character of hash_string\n",
    "        mod_value = hash_value % len(hash_string)\n",
    "        hashed_char = hash_string[mod_value]\n",
    "        ans+= hashed_char\n",
    "\n",
    "    return ans\n",
    "\n",
    "# Example usage:\n",
    "url = \"https://xyz.comss\"\n",
    "hash_string = \"abcdef\"\n",
    "k = 7\n",
    "\n",
    "hashed_url = hash_url(url, hash_string, k)\n",
    "print(\"Hashed URL:\", hashed_url)\n"
   ]
  },
  {
   "cell_type": "markdown",
   "id": "6cfd3f00",
   "metadata": {},
   "source": [
    "# tick size"
   ]
  },
  {
   "cell_type": "code",
   "execution_count": 81,
   "id": "7fd2ac07",
   "metadata": {},
   "outputs": [
    {
     "data": {
      "text/plain": [
       "[[0, 0.01], [0.1, 0.02], [10, 1], [50, -1]]"
      ]
     },
     "execution_count": 81,
     "metadata": {},
     "output_type": "execute_result"
    }
   ],
   "source": [
    "def process_raw_data(raw):\n",
    "    # Step 1: Remove the second column\n",
    "    processed_data = [[row[0], row[2]] for row in raw]\n",
    "\n",
    "    final_data = []\n",
    "    previous_value = None\n",
    "    \n",
    "    for row in processed_data:\n",
    "        current_value = row[1]  # This corresponds to the former third column\n",
    "        if current_value != previous_value:\n",
    "            final_data.append([row[0], row[1]])  # Append both values as a sublist\n",
    "            previous_value = current_value\n",
    "    \n",
    "    return final_data\n",
    "\n",
    "# Sample input representing tick size raw data\n",
    "raw = [\n",
    "    [0, 0.1, 0.01],\n",
    "    [0.1, 0.5, 0.02],\n",
    "    [0.5, 1, 0.02],\n",
    "    [1, 10, 0.02],\n",
    "    [10, 50, 1],\n",
    "    [50, -1, -1],  # Only the last row has -1\n",
    "]\n",
    "\n",
    "# Process the raw data\n",
    "x=process_raw_data(raw)\n",
    "x"
   ]
  },
  {
   "cell_type": "code",
   "execution_count": 65,
   "id": "c24a7336",
   "metadata": {},
   "outputs": [
    {
     "data": {
      "text/plain": [
       "['', 2]"
      ]
     },
     "execution_count": 65,
     "metadata": {},
     "output_type": "execute_result"
    }
   ],
   "source": [
    "def func(arr, x):\n",
    "    new=[]\n",
    "    for num in arr:\n",
    "        if num>= x[-1][0]:\n",
    "            new.append('')\n",
    "            \n",
    "        for i,j in enumerate(x):\n",
    "            if num< j[0]:\n",
    "                new.append(num+ x[i-1][1] )\n",
    "                break\n",
    "  \n",
    "    return new\n",
    "func([50, 1], x)"
   ]
  },
  {
   "cell_type": "markdown",
   "id": "f2e7d7b3",
   "metadata": {},
   "source": [
    "# product sliding window"
   ]
  },
  {
   "cell_type": "code",
   "execution_count": 75,
   "id": "516313de",
   "metadata": {},
   "outputs": [
    {
     "data": {
      "text/plain": [
       "12"
      ]
     },
     "execution_count": 75,
     "metadata": {},
     "output_type": "execute_result"
    }
   ],
   "source": [
    "def func(arr, k):\n",
    "    l=0; count=0; prod=1; n=len(arr)\n",
    "    \n",
    "    for i in range(n):\n",
    "        prod*=arr[i]\n",
    "        while prod>k:\n",
    "            prod= prod//arr[l]\n",
    "            l+=1\n",
    "        count+=i-l+1\n",
    "    return count\n",
    "func([2,4,2,5,3,2,7,2], 10)       "
   ]
  },
  {
   "cell_type": "code",
   "execution_count": 2,
   "id": "d52d46e4",
   "metadata": {},
   "outputs": [
    {
     "name": "stdout",
     "output_type": "stream",
     "text": [
      "[0, 1, 6, 7, 8, 9, 10]\n"
     ]
    }
   ],
   "source": [
    "def flip_switches(ranges):\n",
    "    # Determine the maximum index of switches based on the input ranges\n",
    "    max_index = max(end for _, end in ranges)\n",
    "    \n",
    "    # Initialize the difference array of size max_index + 2 (to handle range properly)\n",
    "    switches = [0] * (max_index + 2)\n",
    "    \n",
    "    # Mark the flipping points\n",
    "    for start, end in ranges:\n",
    "        switches[start] += 1  # Start flipping from 'start'\n",
    "        switches[end + 1] -= 1  # Stop flipping after 'end'\n",
    "\n",
    "    # Compute the final states of the switches using a prefix sum approach\n",
    "    current_state = 0\n",
    "    on_switches = []\n",
    "    \n",
    "    for i in range(max_index + 1):\n",
    "        current_state += switches[i]\n",
    "        if current_state % 2 == 1:\n",
    "            on_switches.append(i)\n",
    "\n",
    "    return on_switches\n",
    "\n",
    "# Example usage:\n",
    "ranges = [[0, 3], [2, 10], [4, 5]]  # List of ranges (start, end)\n",
    "result = flip_switches(ranges)\n",
    "print(result)  # Output: indices of switches that are 'on'\n"
   ]
  },
  {
   "cell_type": "code",
   "execution_count": null,
   "id": "8de610c6",
   "metadata": {},
   "outputs": [],
   "source": []
  }
 ],
 "metadata": {
  "kernelspec": {
   "display_name": "Python 3 (ipykernel)",
   "language": "python",
   "name": "python3"
  },
  "language_info": {
   "codemirror_mode": {
    "name": "ipython",
    "version": 3
   },
   "file_extension": ".py",
   "mimetype": "text/x-python",
   "name": "python",
   "nbconvert_exporter": "python",
   "pygments_lexer": "ipython3",
   "version": "3.9.13"
  }
 },
 "nbformat": 4,
 "nbformat_minor": 5
}
